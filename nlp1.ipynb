{
 "cells": [
  {
   "cell_type": "code",
   "execution_count": 1,
   "metadata": {},
   "outputs": [],
   "source": [
    "import numpy as np\n",
    "import pandas as pd"
   ]
  },
  {
   "cell_type": "code",
   "execution_count": 545,
   "metadata": {},
   "outputs": [],
   "source": [
    "import csv\n",
    "import re\n",
    "import spacy\n",
    "import sys\n",
    "#reload(sys)\n",
    "import pandas as pd\n",
    "#sys.setdefaultencoding('utf8')\n",
    "#from cStringIO import StringIO\n",
    "from io import StringIO\n",
    "from pdfminer.pdfinterp import PDFResourceManager, PDFPageInterpreter\n",
    "from pdfminer.converter import TextConverter\n",
    "from pdfminer.layout import LAParams\n",
    "from pdfminer.pdfpage import PDFPage\n",
    "import os\n",
    "import sys, getopt\n",
    "import numpy as np\n",
    "from bs4 import BeautifulSoup\n",
    "import urllib\n",
    "from urllib.request import urlopen\n",
    "#Function converting pdf to string\n",
    "def convert(fname, pages=None):\n",
    "    if not pages:\n",
    "        pagenums = set()\n",
    "    else:\n",
    "        pagenums = set(pages)\n",
    "\n",
    "    output = StringIO()\n",
    "    manager = PDFResourceManager()\n",
    "    converter = TextConverter(manager, output, laparams=LAParams())\n",
    "    interpreter = PDFPageInterpreter(manager, converter)\n",
    "\n",
    "    infile = open(fname, 'rb')\n",
    "    for page in PDFPage.get_pages(infile, pagenums):\n",
    "        interpreter.process_page(page)\n",
    "    infile.close()\n",
    "    converter.close()\n",
    "    text = output.getvalue()\n",
    "    output.close\n",
    "    return text\n",
    "#Function to extract names from the string using spacy\n",
    "def extract_name(string):\n",
    "    r1 = str(string)\n",
    "    nlp = spacy.load('en_core_web_sm')\n",
    "    doc = nlp(r1)\n",
    "    for ent in doc.ents:\n",
    "        if(ent.label_ == 'PER'):\n",
    "            print(ent.text)\n",
    "            break\n",
    "#Function to extract Phone Numbers from string using regular expressions\n",
    "def extract_phone_numbers(string):\n",
    "    r = re.compile(r'(\\d{1,5}[-\\.\\s]??\\d{3}[-\\.\\s]??\\d{4}|\\(\\d{3}\\)\\s*\\d{3}[-\\.\\s]??\\d{4}|\\d{3}[-\\.\\s]??\\d{4})')\n",
    "    phone_numbers = r.findall(string)\n",
    "    return [re.sub(r'\\D', '', number) for number in phone_numbers]\n",
    "\n",
    "def extract_phone_numbers1(string):\n",
    "    r = re.compile(r'(\\d{3}[-\\.\\s]??\\d{3}[-\\.\\s]??\\d{4}|\\(\\d{3}\\)\\s*\\d{3}[-\\.\\s]??\\d{4}|\\d{3}[-\\.\\s]??\\d{4})')\n",
    "    phone_numbers = r.findall(string)\n",
    "    return [re.sub(r'\\D', '', number) for number in phone_numbers]\n",
    "#Function to extract Email address from a string using regular expressions\n",
    "def extract_email_addresses(string):\n",
    "    r = re.compile(r'[\\w\\.-]+@[\\w\\.-]+')\n",
    "    return r.findall(string)\n",
    "#Converting pdf to string\n",
    "resume_string = convert(\"Desktop/Debdatta's Resume.pdf\")\n",
    "resume_string1 = resume_string\n",
    "#Removing commas in the resume for an effecient check\n",
    "resume_string = resume_string.replace(',',' ')\n",
    "#Converting all the charachters in lower case\n",
    "resume_string = resume_string.lower()\n",
    "#Information Extraction Function\n"
   ]
  },
  {
   "cell_type": "code",
   "execution_count": 546,
   "metadata": {},
   "outputs": [
    {
     "data": {
      "text/plain": [
       "'Debdatta\\nChatterjee\\nData Scientist\\n\\nHave a methodical approach towards percieving\\nconcepts and keen to learn theoretical and\\npractical process of applied machine learning\\nwith statistical modelling and python.\\n\\ndishadelhi16@gmail.com\\n\\n8697828012\\n\\nSarjapur, Bangalore, India\\n\\nwww.kaggle.com/altruistdelhite04/kernels\\n\\nlinkedin.com/in/disha04\\n\\nquora.com/proﬁle/Debdatta-Chatterjee\\n\\nlive:db343be7480ef75b\\n\\ngithub.com/@altruistdelhite04\\n\\nstackoverﬂow.com/users/9899273/debdatta-\\nchatterjee\\n\\nEDUCATION\\nMasters in Statistics and Computing\\nInstitute of Science,Banaras Hindu\\nUniversity     \\n08/2017 – 09/2019\\nCourses\\n\\nVaranasi,India\\n\\nStatistics,Programming,Predictive Analytics\\n\\nCOURSEWORK\\n\\nEconometrics and Time Series Analysis, Design of\\nExperiments, Linear Models, Large Sample Theory,\\nStochastic Process, Non-Parametric Methods,Descision\\nTheory, Data Mining, Statistical Inference, Probability\\nTheory, Multivariate Statistical Modelling, Biostatistics,\\nBusiness Statistics,Machine Learning,Computer Vision.\\n\\nHonours in Statistics\\nUniversity of Calcutta     \\n08/2013 – 06/2016\\nCourses\\n\\nStatistics,Mathematics,Economics\\n\\nWORK EXPERIENCE\\nData Science Intern\\nPerkFinance\\n07/2019 – 09/2019\\nFinTech\\nAchievements/Tasks\\n\\nCreating basic framework of predictive model based on\\nsixty features to estimate target audience for lending\\nand assessing risks related to the same.     \\n\\nCo-Ordinator of Mathematical Sciences\\nDepartment,ISC,BHU for Lean Six Sigma\\nGreen Belt Course\\nKPMG,India\\n\\nSubject Matter Expert\\nChegg Inc.\\n03/2018 – 09/2019\\n\\nStudent Placement Co-ordinator\\nDST-CIMS,ISC,BHU\\n\\nStudent Alumni Relations Co-Ordinator\\nDST-CIMs,ISC,BHU\\n\\nKolkata,India\\n\\nPERSONAL PROJECTS\\nFace Recognition with Face detection, Computer Vision\\n,Under Supervision of Dr. Tanima Dutta, Department of\\nComputer Science and Engineering,IIT(BHU)\\n(05/2018 – 07/2018)\\n\\ndescribes the face detection and recognition using Local Binary\\nPattern Histograms classiﬁer on Yale face database.\\n\\nAnalysis of Stock Market Investment Strategies\\n(01/2019 – 05/2019)\\n\\nThis investigation focused on what makes an investor proﬁtable in\\nthe stock market by technical analysis of stock market index. The\\nfactors that attributed to the success of the simulation were\\nanalyzed, and used to increase investing power and ability.\\n\\nIndia\\n\\nPrediction Analysis on Infrastructural change during\\nGovernment ruling 2014-2019 (03/2018 – 05/2018)\\n\\nDetailed description and prediction using linear predictive\\nanaalytics model on four major indices\\nUrbanisation,Infrastructure,economic Growth,Poverty line.\\n\\nSKILLS\\n\\nR\\n\\nPython\\n\\nAdvance Excel\\n\\nBase SAS\\n\\nPython with\\nMachine\\nlearning\\nDeep Learning\\n\\nData\\nPreparation and\\nData\\nVisualisation\\nSQL\\n\\n\\x0c'"
      ]
     },
     "execution_count": 546,
     "metadata": {},
     "output_type": "execute_result"
    }
   ],
   "source": [
    "resume_string1"
   ]
  },
  {
   "cell_type": "code",
   "execution_count": 547,
   "metadata": {},
   "outputs": [],
   "source": [
    "a = resume_string1.replace(' ', ' ').replace('\\t', ' ').replace('\\n', ' ')"
   ]
  },
  {
   "cell_type": "code",
   "execution_count": 548,
   "metadata": {},
   "outputs": [
    {
     "data": {
      "text/plain": [
       "'Debdatta Chatterjee Data Scientist  Have a methodical approach towards percieving concepts and keen to learn theoretical and practical process of applied machine learning with statistical modelling and python.  dishadelhi16@gmail.com  8697828012  Sarjapur, Bangalore, India  www.kaggle.com/altruistdelhite04/kernels  linkedin.com/in/disha04  quora.com/proﬁle/Debdatta-Chatterjee  live:db343be7480ef75b  github.com/@altruistdelhite04  stackoverﬂow.com/users/9899273/debdatta- chatterjee  EDUCATION Masters in Statistics and Computing Institute of Science,Banaras Hindu University      08/2017 – 09/2019 Courses  Varanasi,India  Statistics,Programming,Predictive Analytics  COURSEWORK  Econometrics and Time Series Analysis, Design of Experiments, Linear Models, Large Sample Theory, Stochastic Process, Non-Parametric Methods,Descision Theory, Data Mining, Statistical Inference, Probability Theory, Multivariate Statistical Modelling, Biostatistics, Business Statistics,Machine Learning,Computer Vision.  Honours in Statistics University of Calcutta      08/2013 – 06/2016 Courses  Statistics,Mathematics,Economics  WORK EXPERIENCE Data Science Intern PerkFinance 07/2019 – 09/2019 FinTech Achievements/Tasks  Creating basic framework of predictive model based on sixty features to estimate target audience for lending and assessing risks related to the same.       Co-Ordinator of Mathematical Sciences Department,ISC,BHU for Lean Six Sigma Green Belt Course KPMG,India  Subject Matter Expert Chegg Inc. 03/2018 – 09/2019  Student Placement Co-ordinator DST-CIMS,ISC,BHU  Student Alumni Relations Co-Ordinator DST-CIMs,ISC,BHU  Kolkata,India  PERSONAL PROJECTS Face Recognition with Face detection, Computer Vision ,Under Supervision of Dr. Tanima Dutta, Department of Computer Science and Engineering,IIT(BHU) (05/2018 – 07/2018)  describes the face detection and recognition using Local Binary Pattern Histograms classiﬁer on Yale face database.  Analysis of Stock Market Investment Strategies (01/2019 – 05/2019)  This investigation focused on what makes an investor proﬁtable in the stock market by technical analysis of stock market index. The factors that attributed to the success of the simulation were analyzed, and used to increase investing power and ability.  India  Prediction Analysis on Infrastructural change during Government ruling 2014-2019 (03/2018 – 05/2018)  Detailed description and prediction using linear predictive anaalytics model on four major indices Urbanisation,Infrastructure,economic Growth,Poverty line.  SKILLS  R  Python  Advance Excel  Base SAS  Python with Machine learning Deep Learning  Data Preparation and Data Visualisation SQL  \\x0c'"
      ]
     },
     "execution_count": 548,
     "metadata": {},
     "output_type": "execute_result"
    }
   ],
   "source": [
    "a"
   ]
  },
  {
   "cell_type": "code",
   "execution_count": 549,
   "metadata": {},
   "outputs": [
    {
     "name": "stdout",
     "output_type": "stream",
     "text": [
      "['8697828012']\n"
     ]
    }
   ],
   "source": [
    "y = extract_phone_numbers(a)\n",
    "y1 = []\n",
    "for i in range(len(y)):\n",
    "    if(len(y[i])>9):\n",
    "        y1.append(y[i])\n",
    "yy=y1\n",
    "print(y1)"
   ]
  },
  {
   "cell_type": "code",
   "execution_count": 550,
   "metadata": {},
   "outputs": [
    {
     "name": "stdout",
     "output_type": "stream",
     "text": [
      "['8697828012']\n"
     ]
    }
   ],
   "source": [
    "y = extract_phone_numbers1(a)\n",
    "y1 = []\n",
    "for i in range(len(y)):\n",
    "    if(len(y[i])>9):\n",
    "        y1.append(y[i])\n",
    "yy=y1\n",
    "print(y1)"
   ]
  },
  {
   "cell_type": "code",
   "execution_count": 551,
   "metadata": {},
   "outputs": [
    {
     "name": "stdout",
     "output_type": "stream",
     "text": [
      "dishadelhi16@gmail.com\n"
     ]
    }
   ],
   "source": [
    "em=extract_email_addresses(a)\n",
    "em=em[0]\n",
    "print(em)"
   ]
  },
  {
   "cell_type": "code",
   "execution_count": 552,
   "metadata": {},
   "outputs": [],
   "source": [
    "import nltk\n",
    "from nameparser.parser import HumanName\n",
    "\n",
    "def get_human_names(text):\n",
    "    tokens = nltk.tokenize.word_tokenize(text)\n",
    "    pos = nltk.pos_tag(tokens)\n",
    "    sentt = nltk.ne_chunk(pos, binary = False)\n",
    "    person_list = []\n",
    "    person = []\n",
    "    name = \"\"\n",
    "    for subtree in sentt.subtrees(filter=lambda t: t.label() == 'PERSON'):\n",
    "        for leaf in subtree.leaves():\n",
    "            person.append(leaf[0])\n",
    "        if len(person) > 1: #avoid grabbing lone surnames\n",
    "            for part in person:\n",
    "                name += part + ' '\n",
    "            if name[:-1] not in person_list:\n",
    "                person_list.append(name[:-1])\n",
    "            name = ''\n",
    "        person = []\n",
    "\n",
    "    return (person_list)\n"
   ]
  },
  {
   "cell_type": "code",
   "execution_count": 553,
   "metadata": {},
   "outputs": [
    {
     "name": "stdout",
     "output_type": "stream",
     "text": [
      "Chatterjee Scientist\n",
      "Banaras Hindu\n",
      "Time Analysis\n",
      "Linear Models\n",
      "Large Theory\n",
      "Stochastic Process\n",
      "Descision Theory\n",
      "Data Mining\n",
      "Statistical Inference\n",
      "Machine Learning\n",
      "Economics WORK\n",
      " Chegg\n",
      "Tanima Dutta\n",
      "Local Histograms\n",
      "Stock Market\n",
      "Python Base\n",
      "Deep Data\n",
      "Data Visualisation\n"
     ]
    }
   ],
   "source": [
    "names = get_human_names(a)\n",
    "#print(\"LAST, FIRST\")\n",
    "for name in names: \n",
    "    #last_first = HumanName(name).last + ', ' + HumanName(name).first\n",
    "    first_last = HumanName(name).first + ' ' + HumanName(name).last\n",
    "    print(first_last)"
   ]
  },
  {
   "cell_type": "code",
   "execution_count": 554,
   "metadata": {},
   "outputs": [],
   "source": [
    "#import nltk"
   ]
  },
  {
   "cell_type": "code",
   "execution_count": 555,
   "metadata": {},
   "outputs": [],
   "source": [
    "#nltk.download('averaged_perceptron_tagger')"
   ]
  },
  {
   "cell_type": "code",
   "execution_count": 556,
   "metadata": {},
   "outputs": [],
   "source": [
    "#nltk.download('maxent_ne_chunker')"
   ]
  },
  {
   "cell_type": "code",
   "execution_count": 557,
   "metadata": {},
   "outputs": [],
   "source": [
    "#nltk.download('words')"
   ]
  },
  {
   "cell_type": "code",
   "execution_count": 558,
   "metadata": {},
   "outputs": [
    {
     "name": "stdout",
     "output_type": "stream",
     "text": [
      "Noun phrases: ['Debdatta Chatterjee Data Scientist', 'a methodical approach', 'concepts', 'theoretical and practical process', 'statistical modelling', 'python', 'dishadelhi16@gmail.com', '8697828012  Sarjapur', 'Bangalore', 'India', 'linkedin.com/in/disha04  quora.com/proﬁle/Debdatta-Chatterjee', 'db343be7480ef75b', 'github.com/@altruistdelhite04', '/users/9899273/debdatta- chatterjee', 'EDUCATION Masters', 'Statistics', 'Computing Institute', 'Science', 'Banaras Hindu University', 'Courses', 'Varanasi', 'India  Statistics', 'Programming', 'Predictive Analytics', 'COURSEWORK', 'Econometrics', 'Time', 'Series Analysis', 'Design', 'Experiments', 'Linear Models', 'Large Sample Theory', 'Stochastic Process', 'Non-Parametric Methods', 'Descision Theory', 'Data Mining', 'Statistical Inference', 'Probability Theory', 'Multivariate Statistical Modelling', 'Biostatistics', 'Business Statistics', 'Machine Learning', 'Computer Vision', 'Honours', 'Statistics University', 'Calcutta', 'Courses', 'Statistics', 'Mathematics', 'Economics  WORK', 'EXPERIENCE Data Science Intern PerkFinance', 'FinTech Achievements/Tasks', 'basic framework', 'predictive model', 'sixty features', 'target audience', 'lending', 'risks', 'Co-Ordinator', 'Mathematical Sciences Department', 'ISC', 'BHU', 'Lean Six', 'Sigma Green Belt Course KPMG', 'ISC', 'BHU', 'Student Alumni Relations Co-Ordinator DST-CIMs', 'ISC', 'BHU', 'Kolkata', 'India  PERSONAL PROJECTS Face Recognition', 'Face detection', 'Computer Vision', 'Supervision', 'Dr. Tanima Dutta', 'Department', 'Computer Science', 'Engineering', 'IIT(BHU', 'the face detection', 'recognition', 'Local Binary Pattern Histograms classiﬁer', 'Yale', 'face', 'database', 'Analysis', 'Stock Market Investment Strategies', '– 05/2019', 'This investigation', 'what', 'an investor', 'the stock market', 'technical analysis', 'stock market index', 'The factors', 'the success', 'the simulation', 'investing power', 'ability', 'India', 'Prediction Analysis', 'Infrastructural change', 'Detailed description', 'prediction', 'linear predictive anaalytics model', 'four major indices', 'Urbanisation,Infrastructure,economic Growth,Poverty line', 'SKILLS', 'Advance Excel', 'Base SAS', 'Python', 'Machine', 'Deep Learning  Data Preparation and Data Visualisation SQL']\n",
      "Verbs: ['percieve', 'learn', 'learn', 'create', 'base', 'estimate', 'assess', 'relate', 'describe', 'use', 'focus', 'make', 'attribute', 'analyze', 'use', 'increase', 'invest', 'rule', 'use', 'learn', 'learn']\n",
      "Debdatta Chatterjee Data PERSON\n",
      "Sarjapur GPE\n",
      "Bangalore GPE\n",
      "India GPE\n",
      "linkedin.com/in/disha04 ORG\n",
      "quora.com/proﬁle/Debdatta-Chatterjee DATE\n",
      "Computing Institute of Science ORG\n",
      "Banaras Hindu University ORG\n",
      "Varanasi GPE\n",
      "India GPE\n",
      "Statistics GPE\n",
      "COURSEWORK ORG\n",
      "Econometrics ORG\n",
      "Time Series Analysis ORG\n",
      "Linear Models ORG\n",
      "Large Sample Theory ORG\n",
      "Data Mining PERSON\n",
      "Multivariate Statistical Modelling, Biostatistics, Business Statistics ORG\n",
      "Honours PERSON\n",
      "Statistics University of Calcutta ORG\n",
      "Courses  Statistics,Mathematics, ORG\n",
      "FinTech ORG\n",
      "Mathematical Sciences Department ORG\n",
      "ISC ORG\n",
      "BHU ORG\n",
      "Lean Six WORK_OF_ART\n",
      "KPMG GPE\n",
      "India GPE\n",
      "DST-CIMS ORG\n",
      "ISC ORG\n",
      "BHU ORG\n",
      "ISC ORG\n",
      "BHU ORG\n",
      "Kolkata GPE\n",
      "India GPE\n",
      "Computer Vision ORG\n",
      "Tanima Dutta PERSON\n",
      "Department of Computer Science and Engineering,IIT(BHU ORG\n",
      "Local Binary Pattern Histograms ORG\n",
      "Yale ORG\n",
      "Analysis of Stock Market Investment Strategies ORG\n",
      "India GPE\n",
      "2014-2019 DATE\n",
      "four CARDINAL\n",
      "Urbanisation GPE\n",
      "SKILLS NORP\n",
      "Python GPE\n",
      "Deep Learning ORG\n"
     ]
    }
   ],
   "source": [
    "import spacy\n",
    "\n",
    "# Load English tokenizer, tagger, parser, NER and word vectors\n",
    "nlp = spacy.load(\"en_core_web_sm\")\n",
    "\n",
    "# Process whole documents\n",
    "text = (\"When Sebastian Thrun started working on self-driving cars at \"\n",
    "        \"Google in 2007, few people outside of the company took him \"\n",
    "        \"seriously. “I can tell you very senior CEOs of major American \"\n",
    "        \"car companies would shake my hand and turn away because I wasn’t \"\n",
    "        \"worth talking to,” said Thrun, in an interview with Recode earlier \"\n",
    "        \"this week.\")\n",
    "doc = nlp(a)\n",
    "\n",
    "# Analyze syntax\n",
    "aa=[chunk.text for chunk in doc.noun_chunks]\n",
    "print(\"Noun phrases:\", [chunk.text for chunk in doc.noun_chunks])\n",
    "print(\"Verbs:\", [token.lemma_ for token in doc if token.pos_ == \"VERB\"])\n",
    "\n",
    "# Find named entities, phrases and concepts\n",
    "for entity in doc.ents:\n",
    "    print(entity.text, entity.label_)"
   ]
  },
  {
   "cell_type": "code",
   "execution_count": 559,
   "metadata": {},
   "outputs": [],
   "source": [
    "#python -m spacy download en"
   ]
  },
  {
   "cell_type": "code",
   "execution_count": 560,
   "metadata": {},
   "outputs": [
    {
     "data": {
      "text/plain": [
       "'Debdatta Chatterjee Data Scientist'"
      ]
     },
     "execution_count": 560,
     "metadata": {},
     "output_type": "execute_result"
    }
   ],
   "source": [
    "aaa=aa[0]\n",
    "aaa"
   ]
  },
  {
   "cell_type": "code",
   "execution_count": 561,
   "metadata": {},
   "outputs": [
    {
     "data": {
      "text/plain": [
       "'Debdatta Chatterjee'"
      ]
     },
     "execution_count": 561,
     "metadata": {},
     "output_type": "execute_result"
    }
   ],
   "source": [
    "aaa\n",
    "\" \".join(aaa.split(\" \", 2)[:2])"
   ]
  },
  {
   "cell_type": "code",
   "execution_count": 562,
   "metadata": {},
   "outputs": [],
   "source": [
    "def name_split(a):\n",
    "    if a.count(\" \") == 1:\n",
    "        return a.split(\"-\")[0]\n",
    "    else:\n",
    "        return \" \".join(a.split(\" \", 2)[:2])"
   ]
  },
  {
   "cell_type": "code",
   "execution_count": 563,
   "metadata": {},
   "outputs": [
    {
     "data": {
      "text/plain": [
       "'Debdatta Chatterjee'"
      ]
     },
     "execution_count": 563,
     "metadata": {},
     "output_type": "execute_result"
    }
   ],
   "source": [
    "nm=name_split(aaa)\n",
    "nm"
   ]
  },
  {
   "cell_type": "code",
   "execution_count": 564,
   "metadata": {},
   "outputs": [
    {
     "data": {
      "text/plain": [
       "'Debdatta Chatterjee Data Scientist  Have a methodical approach towards percieving concepts and keen to learn theoretical and practical process of applied machine learning with statistical modelling and python.  dishadelhi16@gmail.com  8697828012  Sarjapur, Bangalore, India  www.kaggle.com/altruistdelhite04/kernels  linkedin.com/in/disha04  quora.com/proﬁle/Debdatta-Chatterjee  live:db343be7480ef75b  github.com/@altruistdelhite04  stackoverﬂow.com/users/9899273/debdatta- chatterjee  EDUCATION Masters in Statistics and Computing Institute of Science,Banaras Hindu University      08/2017 – 09/2019 Courses  Varanasi,India  Statistics,Programming,Predictive Analytics  COURSEWORK  Econometrics and Time Series Analysis, Design of Experiments, Linear Models, Large Sample Theory, Stochastic Process, Non-Parametric Methods,Descision Theory, Data Mining, Statistical Inference, Probability Theory, Multivariate Statistical Modelling, Biostatistics, Business Statistics,Machine Learning,Computer Vision.  Honours in Statistics University of Calcutta      08/2013 – 06/2016 Courses  Statistics,Mathematics,Economics  WORK EXPERIENCE Data Science Intern PerkFinance 07/2019 – 09/2019 FinTech Achievements/Tasks  Creating basic framework of predictive model based on sixty features to estimate target audience for lending and assessing risks related to the same.       Co-Ordinator of Mathematical Sciences Department,ISC,BHU for Lean Six Sigma Green Belt Course KPMG,India  Subject Matter Expert Chegg Inc. 03/2018 – 09/2019  Student Placement Co-ordinator DST-CIMS,ISC,BHU  Student Alumni Relations Co-Ordinator DST-CIMs,ISC,BHU  Kolkata,India  PERSONAL PROJECTS Face Recognition with Face detection, Computer Vision ,Under Supervision of Dr. Tanima Dutta, Department of Computer Science and Engineering,IIT(BHU) (05/2018 – 07/2018)  describes the face detection and recognition using Local Binary Pattern Histograms classiﬁer on Yale face database.  Analysis of Stock Market Investment Strategies (01/2019 – 05/2019)  This investigation focused on what makes an investor proﬁtable in the stock market by technical analysis of stock market index. The factors that attributed to the success of the simulation were analyzed, and used to increase investing power and ability.  India  Prediction Analysis on Infrastructural change during Government ruling 2014-2019 (03/2018 – 05/2018)  Detailed description and prediction using linear predictive anaalytics model on four major indices Urbanisation,Infrastructure,economic Growth,Poverty line.  SKILLS  R  Python  Advance Excel  Base SAS  Python with Machine learning Deep Learning  Data Preparation and Data Visualisation SQL  \\x0c'"
      ]
     },
     "execution_count": 564,
     "metadata": {},
     "output_type": "execute_result"
    }
   ],
   "source": [
    "a"
   ]
  },
  {
   "cell_type": "code",
   "execution_count": 565,
   "metadata": {},
   "outputs": [
    {
     "data": {
      "text/plain": [
       "['Debdatta Chatterjee Data Scientist',\n",
       " 'a methodical approach',\n",
       " 'concepts',\n",
       " 'theoretical and practical process',\n",
       " 'statistical modelling',\n",
       " 'python',\n",
       " 'dishadelhi16@gmail.com',\n",
       " '8697828012  Sarjapur',\n",
       " 'Bangalore',\n",
       " 'India',\n",
       " 'linkedin.com/in/disha04  quora.com/proﬁle/Debdatta-Chatterjee',\n",
       " 'db343be7480ef75b',\n",
       " 'github.com/@altruistdelhite04',\n",
       " '/users/9899273/debdatta- chatterjee',\n",
       " 'EDUCATION Masters',\n",
       " 'Statistics',\n",
       " 'Computing Institute',\n",
       " 'Science',\n",
       " 'Banaras Hindu University',\n",
       " 'Courses',\n",
       " 'Varanasi',\n",
       " 'India  Statistics',\n",
       " 'Programming',\n",
       " 'Predictive Analytics',\n",
       " 'COURSEWORK',\n",
       " 'Econometrics',\n",
       " 'Time',\n",
       " 'Series Analysis',\n",
       " 'Design',\n",
       " 'Experiments',\n",
       " 'Linear Models',\n",
       " 'Large Sample Theory',\n",
       " 'Stochastic Process',\n",
       " 'Non-Parametric Methods',\n",
       " 'Descision Theory',\n",
       " 'Data Mining',\n",
       " 'Statistical Inference',\n",
       " 'Probability Theory',\n",
       " 'Multivariate Statistical Modelling',\n",
       " 'Biostatistics',\n",
       " 'Business Statistics',\n",
       " 'Machine Learning',\n",
       " 'Computer Vision',\n",
       " 'Honours',\n",
       " 'Statistics University',\n",
       " 'Calcutta',\n",
       " 'Courses',\n",
       " 'Statistics',\n",
       " 'Mathematics',\n",
       " 'Economics  WORK',\n",
       " 'EXPERIENCE Data Science Intern PerkFinance',\n",
       " 'FinTech Achievements/Tasks',\n",
       " 'basic framework',\n",
       " 'predictive model',\n",
       " 'sixty features',\n",
       " 'target audience',\n",
       " 'lending',\n",
       " 'risks',\n",
       " 'Co-Ordinator',\n",
       " 'Mathematical Sciences Department',\n",
       " 'ISC',\n",
       " 'BHU',\n",
       " 'Lean Six',\n",
       " 'Sigma Green Belt Course KPMG',\n",
       " 'ISC',\n",
       " 'BHU',\n",
       " 'Student Alumni Relations Co-Ordinator DST-CIMs',\n",
       " 'ISC',\n",
       " 'BHU',\n",
       " 'Kolkata',\n",
       " 'India  PERSONAL PROJECTS Face Recognition',\n",
       " 'Face detection',\n",
       " 'Computer Vision',\n",
       " 'Supervision',\n",
       " 'Dr. Tanima Dutta',\n",
       " 'Department',\n",
       " 'Computer Science',\n",
       " 'Engineering',\n",
       " 'IIT(BHU',\n",
       " 'the face detection',\n",
       " 'recognition',\n",
       " 'Local Binary Pattern Histograms classiﬁer',\n",
       " 'Yale',\n",
       " 'face',\n",
       " 'database',\n",
       " 'Analysis',\n",
       " 'Stock Market Investment Strategies',\n",
       " '– 05/2019',\n",
       " 'This investigation',\n",
       " 'what',\n",
       " 'an investor',\n",
       " 'the stock market',\n",
       " 'technical analysis',\n",
       " 'stock market index',\n",
       " 'The factors',\n",
       " 'the success',\n",
       " 'the simulation',\n",
       " 'investing power',\n",
       " 'ability',\n",
       " 'India',\n",
       " 'Prediction Analysis',\n",
       " 'Infrastructural change',\n",
       " 'Detailed description',\n",
       " 'prediction',\n",
       " 'linear predictive anaalytics model',\n",
       " 'four major indices',\n",
       " 'Urbanisation,Infrastructure,economic Growth,Poverty line',\n",
       " 'SKILLS',\n",
       " 'Advance Excel',\n",
       " 'Base SAS',\n",
       " 'Python',\n",
       " 'Machine',\n",
       " 'Deep Learning  Data Preparation and Data Visualisation SQL']"
      ]
     },
     "execution_count": 565,
     "metadata": {},
     "output_type": "execute_result"
    }
   ],
   "source": [
    "aa"
   ]
  },
  {
   "cell_type": "code",
   "execution_count": 566,
   "metadata": {},
   "outputs": [],
   "source": [
    "l1=['PCA',\n",
    " 'dimension reduction',\n",
    " 'machine',\n",
    " 'Key Skills',\n",
    " 'Python',\n",
    " 'PCA',\n",
    " 'Logistic Regression',\n",
    " 'Decision Tree',\n",
    " 'Random Forest',\n",
    " 'Naïve Baye',\n",
    " 'Regression testing',\n",
    " 'analysis /  reporting',\n",
    " 'sql',\n",
    " 'statistics',\n",
    " 'EDA',\n",
    " 'Tableau',\n",
    " 'Data cleaning',\n",
    " 'Data Visualization   Data analysis',\n",
    " 'Statistical modeling',\n",
    " 'Machine learning',\n",
    " 'Supervised learning',\n",
    "'Econometrics and Time Series Analysis', \n",
    "    'Design of Experiments', 'Linear Models', 'Large Sample Theory',\n",
    "'Stochastic Process', 'Non-Parametric Methods',\n",
    "'Descision Theory', 'Data Mining', 'Statistical Inference', \n",
    "    'Probability Theory', 'Multivariate Statistical Modelling', 'Biostatistics',\n",
    "'Business Statistics','Machine Learning','Computer Vision',\n",
    "    'MS Excel', 'Power Point', 'Power BI','R','SAS','SQL','Excel','Machine Learning','Data Science'\n",
    "   \n",
    "   \n",
    "   \n",
    "   \n",
    "   ]\n"
   ]
  },
  {
   "cell_type": "code",
   "execution_count": 567,
   "metadata": {},
   "outputs": [],
   "source": [
    "def common_member(a, b): \n",
    "    c=[]\n",
    "    a_set = set(a) \n",
    "    b_set = set(b) \n",
    "    if (a_set & b_set):\n",
    "        c=a_set & b_set\n",
    "        #print(a_set & b_set) \n",
    "    else: \n",
    "        print(\"No common elements\")\n",
    "    return c"
   ]
  },
  {
   "cell_type": "code",
   "execution_count": 568,
   "metadata": {},
   "outputs": [],
   "source": [
    "cc=common_member(l1,aa)"
   ]
  },
  {
   "cell_type": "code",
   "execution_count": 569,
   "metadata": {},
   "outputs": [
    {
     "data": {
      "text/plain": [
       "['Large Sample Theory',\n",
       " 'Machine Learning',\n",
       " 'Data Mining',\n",
       " 'Linear Models',\n",
       " 'Descision Theory',\n",
       " 'Computer Vision',\n",
       " 'Biostatistics',\n",
       " 'Probability Theory',\n",
       " 'Multivariate Statistical Modelling',\n",
       " 'Non-Parametric Methods',\n",
       " 'Python',\n",
       " 'Statistical Inference',\n",
       " 'Business Statistics',\n",
       " 'Stochastic Process']"
      ]
     },
     "execution_count": 569,
     "metadata": {},
     "output_type": "execute_result"
    }
   ],
   "source": [
    "cc=list(cc)\n",
    "cc"
   ]
  },
  {
   "cell_type": "code",
   "execution_count": 570,
   "metadata": {},
   "outputs": [],
   "source": [
    "mydict=dict()"
   ]
  },
  {
   "cell_type": "code",
   "execution_count": 571,
   "metadata": {},
   "outputs": [],
   "source": [
    "mydict['skills']=cc"
   ]
  },
  {
   "cell_type": "code",
   "execution_count": 572,
   "metadata": {},
   "outputs": [
    {
     "data": {
      "text/plain": [
       "{'skills': ['Large Sample Theory',\n",
       "  'Machine Learning',\n",
       "  'Data Mining',\n",
       "  'Linear Models',\n",
       "  'Descision Theory',\n",
       "  'Computer Vision',\n",
       "  'Biostatistics',\n",
       "  'Probability Theory',\n",
       "  'Multivariate Statistical Modelling',\n",
       "  'Non-Parametric Methods',\n",
       "  'Python',\n",
       "  'Statistical Inference',\n",
       "  'Business Statistics',\n",
       "  'Stochastic Process']}"
      ]
     },
     "execution_count": 572,
     "metadata": {},
     "output_type": "execute_result"
    }
   ],
   "source": [
    "mydict"
   ]
  },
  {
   "cell_type": "code",
   "execution_count": 573,
   "metadata": {},
   "outputs": [],
   "source": [
    "ph=aa[2]"
   ]
  },
  {
   "cell_type": "code",
   "execution_count": 574,
   "metadata": {},
   "outputs": [],
   "source": [
    "data=pd.DataFrame({'Name':nm,'phone':y1,'email':em,'Skills':mydict.values()})"
   ]
  },
  {
   "cell_type": "code",
   "execution_count": 575,
   "metadata": {},
   "outputs": [
    {
     "data": {
      "text/plain": [
       "Name                                    Debdatta Chatterjee\n",
       "phone                                            8697828012\n",
       "email                                dishadelhi16@gmail.com\n",
       "Skills    ([Large Sample Theory, Machine Learning, Data ...\n",
       "Name: 0, dtype: object"
      ]
     },
     "execution_count": 575,
     "metadata": {},
     "output_type": "execute_result"
    }
   ],
   "source": [
    "data.iloc[0]"
   ]
  },
  {
   "cell_type": "code",
   "execution_count": 576,
   "metadata": {},
   "outputs": [
    {
     "data": {
      "text/plain": [
       "'debdatta\\nchatterjee\\ndata scientist\\n\\nhave a methodical approach towards percieving\\nconcepts and keen to learn theoretical and\\npractical process of applied machine learning\\nwith statistical modelling and python.\\n\\ndishadelhi16@gmail.com\\n\\n8697828012\\n\\nsarjapur  bangalore  india\\n\\nwww.kaggle.com/altruistdelhite04/kernels\\n\\nlinkedin.com/in/disha04\\n\\nquora.com/proﬁle/debdatta-chatterjee\\n\\nlive:db343be7480ef75b\\n\\ngithub.com/@altruistdelhite04\\n\\nstackoverﬂow.com/users/9899273/debdatta-\\nchatterjee\\n\\neducation\\nmasters in statistics and computing\\ninstitute of science banaras hindu\\nuniversity     \\n08/2017 – 09/2019\\ncourses\\n\\nvaranasi india\\n\\nstatistics programming predictive analytics\\n\\ncoursework\\n\\neconometrics and time series analysis  design of\\nexperiments  linear models  large sample theory \\nstochastic process  non-parametric methods descision\\ntheory  data mining  statistical inference  probability\\ntheory  multivariate statistical modelling  biostatistics \\nbusiness statistics machine learning computer vision.\\n\\nhonours in statistics\\nuniversity of calcutta     \\n08/2013 – 06/2016\\ncourses\\n\\nstatistics mathematics economics\\n\\nwork experience\\ndata science intern\\nperkfinance\\n07/2019 – 09/2019\\nfintech\\nachievements/tasks\\n\\ncreating basic framework of predictive model based on\\nsixty features to estimate target audience for lending\\nand assessing risks related to the same.     \\n\\nco-ordinator of mathematical sciences\\ndepartment isc bhu for lean six sigma\\ngreen belt course\\nkpmg india\\n\\nsubject matter expert\\nchegg inc.\\n03/2018 – 09/2019\\n\\nstudent placement co-ordinator\\ndst-cims isc bhu\\n\\nstudent alumni relations co-ordinator\\ndst-cims isc bhu\\n\\nkolkata india\\n\\npersonal projects\\nface recognition with face detection  computer vision\\n under supervision of dr. tanima dutta  department of\\ncomputer science and engineering iit(bhu)\\n(05/2018 – 07/2018)\\n\\ndescribes the face detection and recognition using local binary\\npattern histograms classiﬁer on yale face database.\\n\\nanalysis of stock market investment strategies\\n(01/2019 – 05/2019)\\n\\nthis investigation focused on what makes an investor proﬁtable in\\nthe stock market by technical analysis of stock market index. the\\nfactors that attributed to the success of the simulation were\\nanalyzed  and used to increase investing power and ability.\\n\\nindia\\n\\nprediction analysis on infrastructural change during\\ngovernment ruling 2014-2019 (03/2018 – 05/2018)\\n\\ndetailed description and prediction using linear predictive\\nanaalytics model on four major indices\\nurbanisation infrastructure economic growth poverty line.\\n\\nskills\\n\\nr\\n\\npython\\n\\nadvance excel\\n\\nbase sas\\n\\npython with\\nmachine\\nlearning\\ndeep learning\\n\\ndata\\npreparation and\\ndata\\nvisualisation\\nsql\\n\\n\\x0c'"
      ]
     },
     "execution_count": 576,
     "metadata": {},
     "output_type": "execute_result"
    }
   ],
   "source": [
    "resume_string"
   ]
  },
  {
   "cell_type": "code",
   "execution_count": 577,
   "metadata": {},
   "outputs": [],
   "source": [
    "o = resume_string.replace(' ', ' ').replace('\\t', ' ').replace('\\n', ' ')"
   ]
  },
  {
   "cell_type": "code",
   "execution_count": 578,
   "metadata": {},
   "outputs": [
    {
     "data": {
      "text/plain": [
       "'debdatta chatterjee data scientist  have a methodical approach towards percieving concepts and keen to learn theoretical and practical process of applied machine learning with statistical modelling and python.  dishadelhi16@gmail.com  8697828012  sarjapur  bangalore  india  www.kaggle.com/altruistdelhite04/kernels  linkedin.com/in/disha04  quora.com/proﬁle/debdatta-chatterjee  live:db343be7480ef75b  github.com/@altruistdelhite04  stackoverﬂow.com/users/9899273/debdatta- chatterjee  education masters in statistics and computing institute of science banaras hindu university      08/2017 – 09/2019 courses  varanasi india  statistics programming predictive analytics  coursework  econometrics and time series analysis  design of experiments  linear models  large sample theory  stochastic process  non-parametric methods descision theory  data mining  statistical inference  probability theory  multivariate statistical modelling  biostatistics  business statistics machine learning computer vision.  honours in statistics university of calcutta      08/2013 – 06/2016 courses  statistics mathematics economics  work experience data science intern perkfinance 07/2019 – 09/2019 fintech achievements/tasks  creating basic framework of predictive model based on sixty features to estimate target audience for lending and assessing risks related to the same.       co-ordinator of mathematical sciences department isc bhu for lean six sigma green belt course kpmg india  subject matter expert chegg inc. 03/2018 – 09/2019  student placement co-ordinator dst-cims isc bhu  student alumni relations co-ordinator dst-cims isc bhu  kolkata india  personal projects face recognition with face detection  computer vision  under supervision of dr. tanima dutta  department of computer science and engineering iit(bhu) (05/2018 – 07/2018)  describes the face detection and recognition using local binary pattern histograms classiﬁer on yale face database.  analysis of stock market investment strategies (01/2019 – 05/2019)  this investigation focused on what makes an investor proﬁtable in the stock market by technical analysis of stock market index. the factors that attributed to the success of the simulation were analyzed  and used to increase investing power and ability.  india  prediction analysis on infrastructural change during government ruling 2014-2019 (03/2018 – 05/2018)  detailed description and prediction using linear predictive anaalytics model on four major indices urbanisation infrastructure economic growth poverty line.  skills  r  python  advance excel  base sas  python with machine learning deep learning  data preparation and data visualisation sql  \\x0c'"
      ]
     },
     "execution_count": 578,
     "metadata": {},
     "output_type": "execute_result"
    }
   ],
   "source": [
    "o"
   ]
  },
  {
   "cell_type": "code",
   "execution_count": 579,
   "metadata": {},
   "outputs": [
    {
     "data": {
      "text/plain": [
       "'I will add R45.1 as diagnosis, then some other medical terms'"
      ]
     },
     "execution_count": 579,
     "metadata": {},
     "output_type": "execute_result"
    }
   ],
   "source": [
    "import re\n",
    "s1 = 'Hey doctor Who is here - I will add R45.1 as diagnosis, then some other medical terms and stuff about the patient. ffdsas ,dsfd tsdsf'\n",
    "s2 = 'Some other medical terms and stuff diagnosis of R45.2 was entered for this patient. Where did Doctor Who go? Then xxx feea fdsfd'\n",
    "r1 = re.search(r\"(?:[a-zA-Z'-]+[^a-zA-Z'-]+){0,5}diagnosis(?:[^a-zA-Z'-]+[a-zA-Z'-]+){0,5}\", s1)\n",
    "r2 = re.search(r\"(?:[a-zA-Z'-]+[^a-zA-Z'-]+){0,5}diagnosis(?:[^a-zA-Z'-]+[a-zA-Z'-]+){0,5}\", s2)\n",
    "r1.group()\n"
   ]
  },
  {
   "cell_type": "code",
   "execution_count": 580,
   "metadata": {},
   "outputs": [],
   "source": [
    "r1 = re.search(r\"(?:[a-zA-Z'-]+[^a-zA-Z'-]+){0,5}college(?:[^a-zA-Z'-]+[a-zA-Z'-]+){0,0}\", o)"
   ]
  },
  {
   "cell_type": "code",
   "execution_count": 581,
   "metadata": {},
   "outputs": [
    {
     "ename": "AttributeError",
     "evalue": "'NoneType' object has no attribute 'group'",
     "output_type": "error",
     "traceback": [
      "\u001b[1;31m---------------------------------------------------------------------------\u001b[0m",
      "\u001b[1;31mAttributeError\u001b[0m                            Traceback (most recent call last)",
      "\u001b[1;32m<ipython-input-581-d2997e958ccc>\u001b[0m in \u001b[0;36m<module>\u001b[1;34m\u001b[0m\n\u001b[1;32m----> 1\u001b[1;33m \u001b[0mprint\u001b[0m\u001b[1;33m(\u001b[0m\u001b[0mr1\u001b[0m\u001b[1;33m.\u001b[0m\u001b[0mgroup\u001b[0m\u001b[1;33m(\u001b[0m\u001b[1;33m)\u001b[0m\u001b[1;33m)\u001b[0m\u001b[1;33m\u001b[0m\u001b[1;33m\u001b[0m\u001b[0m\n\u001b[0m",
      "\u001b[1;31mAttributeError\u001b[0m: 'NoneType' object has no attribute 'group'"
     ]
    }
   ],
   "source": [
    "print(r1.group())"
   ]
  },
  {
   "cell_type": "code",
   "execution_count": 582,
   "metadata": {},
   "outputs": [],
   "source": [
    "r2 = re.search(r\"(?:[a-zA-Z'-]+[^a-zA-Z'-]+){0,2}institute(?:[^a-zA-Z'-]+[a-zA-Z'-]+){0,2}\", o)"
   ]
  },
  {
   "cell_type": "code",
   "execution_count": 583,
   "metadata": {},
   "outputs": [
    {
     "data": {
      "text/plain": [
       "'and computing institute of science'"
      ]
     },
     "execution_count": 583,
     "metadata": {},
     "output_type": "execute_result"
    }
   ],
   "source": [
    "r2.group()"
   ]
  },
  {
   "cell_type": "code",
   "execution_count": 584,
   "metadata": {},
   "outputs": [],
   "source": [
    "r3 = re.search(r\"(?:[a-zA-Z'-]+[^a-zA-Z'-]+){0,1}institute of technology(?:[^a-zA-Z'-]+[a-zA-Z'-]+){0,0}\", o)"
   ]
  },
  {
   "cell_type": "code",
   "execution_count": 585,
   "metadata": {},
   "outputs": [
    {
     "ename": "AttributeError",
     "evalue": "'NoneType' object has no attribute 'group'",
     "output_type": "error",
     "traceback": [
      "\u001b[1;31m---------------------------------------------------------------------------\u001b[0m",
      "\u001b[1;31mAttributeError\u001b[0m                            Traceback (most recent call last)",
      "\u001b[1;32m<ipython-input-585-57a9e69e43cb>\u001b[0m in \u001b[0;36m<module>\u001b[1;34m\u001b[0m\n\u001b[1;32m----> 1\u001b[1;33m \u001b[0mr3\u001b[0m\u001b[1;33m.\u001b[0m\u001b[0mgroup\u001b[0m\u001b[1;33m(\u001b[0m\u001b[1;33m)\u001b[0m\u001b[1;33m\u001b[0m\u001b[1;33m\u001b[0m\u001b[0m\n\u001b[0m",
      "\u001b[1;31mAttributeError\u001b[0m: 'NoneType' object has no attribute 'group'"
     ]
    }
   ],
   "source": [
    "r3.group()"
   ]
  },
  {
   "cell_type": "code",
   "execution_count": 586,
   "metadata": {},
   "outputs": [],
   "source": [
    "r4 = re.search(r\"(?:[a-zA-Z'-]+[^a-zA-Z'-]+){0,2}university(?:[^a-zA-Z'-]+[a-zA-Z'-]+){0,0}\", o)"
   ]
  },
  {
   "cell_type": "code",
   "execution_count": 587,
   "metadata": {},
   "outputs": [
    {
     "data": {
      "text/plain": [
       "'banaras hindu university'"
      ]
     },
     "execution_count": 587,
     "metadata": {},
     "output_type": "execute_result"
    }
   ],
   "source": [
    "r4.group()"
   ]
  },
  {
   "cell_type": "code",
   "execution_count": 588,
   "metadata": {},
   "outputs": [],
   "source": [
    "n=[]\n",
    "for i in l1:\n",
    "    n.append(i.lower())"
   ]
  },
  {
   "cell_type": "code",
   "execution_count": 589,
   "metadata": {},
   "outputs": [
    {
     "data": {
      "text/plain": [
       "['pca',\n",
       " 'dimension reduction',\n",
       " 'machine',\n",
       " 'key skills',\n",
       " 'python',\n",
       " 'pca',\n",
       " 'logistic regression',\n",
       " 'decision tree',\n",
       " 'random forest',\n",
       " 'naïve baye',\n",
       " 'regression testing',\n",
       " 'analysis /  reporting',\n",
       " 'sql',\n",
       " 'statistics',\n",
       " 'eda',\n",
       " 'tableau',\n",
       " 'data cleaning',\n",
       " 'data visualization   data analysis',\n",
       " 'statistical modeling',\n",
       " 'machine learning',\n",
       " 'supervised learning',\n",
       " 'econometrics and time series analysis',\n",
       " 'design of experiments',\n",
       " 'linear models',\n",
       " 'large sample theory',\n",
       " 'stochastic process',\n",
       " 'non-parametric methods',\n",
       " 'descision theory',\n",
       " 'data mining',\n",
       " 'statistical inference',\n",
       " 'probability theory',\n",
       " 'multivariate statistical modelling',\n",
       " 'biostatistics',\n",
       " 'business statistics',\n",
       " 'machine learning',\n",
       " 'computer vision',\n",
       " 'ms excel',\n",
       " 'power point',\n",
       " 'power bi',\n",
       " 'r',\n",
       " 'sas',\n",
       " 'sql',\n",
       " 'excel',\n",
       " 'machine learning',\n",
       " 'data science']"
      ]
     },
     "execution_count": 589,
     "metadata": {},
     "output_type": "execute_result"
    }
   ],
   "source": [
    "n"
   ]
  },
  {
   "cell_type": "code",
   "execution_count": 590,
   "metadata": {},
   "outputs": [
    {
     "name": "stdout",
     "output_type": "stream",
     "text": [
      "Phone number found: 415-555-4242\n"
     ]
    }
   ],
   "source": [
    "phoneNumRegex = re.compile(r'\\d\\d\\d-\\d\\d\\d-\\d\\d\\d\\d')\n",
    "mo = phoneNumRegex.search('My number is 415-555-4242.')\n",
    "print('Phone number found: ' + mo.group())"
   ]
  },
  {
   "cell_type": "code",
   "execution_count": 591,
   "metadata": {},
   "outputs": [],
   "source": [
    "def pn(string):\n",
    "    if (r.compile(r'\\d\\d\\d-\\d\\d\\d-\\d\\d\\d\\d')):\n",
    "        phone_numbers = r.findall(string)\n",
    "    elif(r.compile(r'\\d\\d\\d\\d\\d\\d\\d\\d\\d\\d')):\n",
    "        phone_numbers = r.findall(string)\n",
    "    elif(r.compile(r'+\\d\\d-\\d\\d\\d\\d\\d\\d\\d\\d\\d\\d')):\n",
    "        phone_numbers = r.findall(string)\n",
    "    return [re.sub(r'\\D', '', number) for number in phone_numbers]"
   ]
  },
  {
   "cell_type": "code",
   "execution_count": 592,
   "metadata": {},
   "outputs": [
    {
     "ename": "NameError",
     "evalue": "name 'r' is not defined",
     "output_type": "error",
     "traceback": [
      "\u001b[1;31m---------------------------------------------------------------------------\u001b[0m",
      "\u001b[1;31mNameError\u001b[0m                                 Traceback (most recent call last)",
      "\u001b[1;32m<ipython-input-592-38e2e7b4149a>\u001b[0m in \u001b[0;36m<module>\u001b[1;34m\u001b[0m\n\u001b[1;32m----> 1\u001b[1;33m \u001b[0mpn\u001b[0m\u001b[1;33m(\u001b[0m\u001b[0ma\u001b[0m\u001b[1;33m)\u001b[0m\u001b[1;33m\u001b[0m\u001b[1;33m\u001b[0m\u001b[0m\n\u001b[0m",
      "\u001b[1;32m<ipython-input-591-fc7b4ce0a32d>\u001b[0m in \u001b[0;36mpn\u001b[1;34m(string)\u001b[0m\n\u001b[0;32m      1\u001b[0m \u001b[1;32mdef\u001b[0m \u001b[0mpn\u001b[0m\u001b[1;33m(\u001b[0m\u001b[0mstring\u001b[0m\u001b[1;33m)\u001b[0m\u001b[1;33m:\u001b[0m\u001b[1;33m\u001b[0m\u001b[1;33m\u001b[0m\u001b[0m\n\u001b[1;32m----> 2\u001b[1;33m     \u001b[1;32mif\u001b[0m \u001b[1;33m(\u001b[0m\u001b[0mr\u001b[0m\u001b[1;33m.\u001b[0m\u001b[0mcompile\u001b[0m\u001b[1;33m(\u001b[0m\u001b[1;34mr'\\d\\d\\d-\\d\\d\\d-\\d\\d\\d\\d'\u001b[0m\u001b[1;33m)\u001b[0m\u001b[1;33m)\u001b[0m\u001b[1;33m:\u001b[0m\u001b[1;33m\u001b[0m\u001b[1;33m\u001b[0m\u001b[0m\n\u001b[0m\u001b[0;32m      3\u001b[0m         \u001b[0mphone_numbers\u001b[0m \u001b[1;33m=\u001b[0m \u001b[0mr\u001b[0m\u001b[1;33m.\u001b[0m\u001b[0mfindall\u001b[0m\u001b[1;33m(\u001b[0m\u001b[0mstring\u001b[0m\u001b[1;33m)\u001b[0m\u001b[1;33m\u001b[0m\u001b[1;33m\u001b[0m\u001b[0m\n\u001b[0;32m      4\u001b[0m     \u001b[1;32melif\u001b[0m\u001b[1;33m(\u001b[0m\u001b[0mr\u001b[0m\u001b[1;33m.\u001b[0m\u001b[0mcompile\u001b[0m\u001b[1;33m(\u001b[0m\u001b[1;34mr'\\d\\d\\d\\d\\d\\d\\d\\d\\d\\d'\u001b[0m\u001b[1;33m)\u001b[0m\u001b[1;33m)\u001b[0m\u001b[1;33m:\u001b[0m\u001b[1;33m\u001b[0m\u001b[1;33m\u001b[0m\u001b[0m\n\u001b[0;32m      5\u001b[0m         \u001b[0mphone_numbers\u001b[0m \u001b[1;33m=\u001b[0m \u001b[0mr\u001b[0m\u001b[1;33m.\u001b[0m\u001b[0mfindall\u001b[0m\u001b[1;33m(\u001b[0m\u001b[0mstring\u001b[0m\u001b[1;33m)\u001b[0m\u001b[1;33m\u001b[0m\u001b[1;33m\u001b[0m\u001b[0m\n",
      "\u001b[1;31mNameError\u001b[0m: name 'r' is not defined"
     ]
    }
   ],
   "source": [
    "pn(a)"
   ]
  },
  {
   "cell_type": "code",
   "execution_count": null,
   "metadata": {},
   "outputs": [],
   "source": []
  },
  {
   "cell_type": "code",
   "execution_count": null,
   "metadata": {},
   "outputs": [],
   "source": []
  }
 ],
 "metadata": {
  "kernelspec": {
   "display_name": "Python 3",
   "language": "python",
   "name": "python3"
  },
  "language_info": {
   "codemirror_mode": {
    "name": "ipython",
    "version": 3
   },
   "file_extension": ".py",
   "mimetype": "text/x-python",
   "name": "python",
   "nbconvert_exporter": "python",
   "pygments_lexer": "ipython3",
   "version": "3.7.1"
  }
 },
 "nbformat": 4,
 "nbformat_minor": 2
}
