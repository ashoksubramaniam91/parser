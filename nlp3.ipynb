{
 "cells": [
  {
   "cell_type": "code",
   "execution_count": 1,
   "metadata": {},
   "outputs": [],
   "source": [
    "import numpy as np\n",
    "import pandas as pd"
   ]
  },
  {
   "cell_type": "code",
   "execution_count": 526,
   "metadata": {},
   "outputs": [],
   "source": [
    "import csv\n",
    "import re\n",
    "import spacy\n",
    "import sys\n",
    "#reload(sys)\n",
    "import pandas as pd\n",
    "#sys.setdefaultencoding('utf8')\n",
    "#from cStringIO import StringIO\n",
    "from io import StringIO\n",
    "from pdfminer.pdfinterp import PDFResourceManager, PDFPageInterpreter\n",
    "from pdfminer.converter import TextConverter\n",
    "from pdfminer.layout import LAParams\n",
    "from pdfminer.pdfpage import PDFPage\n",
    "import os\n",
    "import sys, getopt\n",
    "import numpy as np\n",
    "from bs4 import BeautifulSoup\n",
    "import urllib\n",
    "from urllib.request import urlopen\n",
    "#Function converting pdf to string\n",
    "def convert(fname, pages=None):\n",
    "    if not pages:\n",
    "        pagenums = set()\n",
    "    else:\n",
    "        pagenums = set(pages)\n",
    "\n",
    "    output = StringIO()\n",
    "    manager = PDFResourceManager()\n",
    "    converter = TextConverter(manager, output, laparams=LAParams())\n",
    "    interpreter = PDFPageInterpreter(manager, converter)\n",
    "\n",
    "    infile = open(fname, 'rb')\n",
    "    for page in PDFPage.get_pages(infile, pagenums):\n",
    "        interpreter.process_page(page)\n",
    "    infile.close()\n",
    "    converter.close()\n",
    "    text = output.getvalue()\n",
    "    output.close\n",
    "    return text\n",
    "#Function to extract names from the string using spacy\n",
    "def extract_name(string):\n",
    "    r1 = str(string)\n",
    "    nlp = spacy.load('en_core_web_sm')\n",
    "    doc = nlp(r1)\n",
    "    for ent in doc.ents:\n",
    "        if(ent.label_ == 'PER'):\n",
    "            print(ent.text)\n",
    "            break\n",
    "#Function to extract Phone Numbers from string using regular expressions\n",
    "def extract_phone_numbers(string):\n",
    "    r = re.compile(r'(\\d{1,5}[-\\.\\s]??\\d{3}[-\\.\\s]??\\d{4}|\\(\\d{3}\\)\\s*\\d{3}[-\\.\\s]??\\d{4}|\\d{3}[-\\.\\s]??\\d{4})')\n",
    "    phone_numbers = r.findall(string)\n",
    "    return [re.sub(r'\\D', '', number) for number in phone_numbers]\n",
    "\n",
    "def extract_phone_numbers1(string):\n",
    "    r = re.compile(r'(\\d{3}[-\\.\\s]??\\d{3}[-\\.\\s]??\\d{4}|\\(\\d{3}\\)\\s*\\d{3}[-\\.\\s]??\\d{4}|\\d{3}[-\\.\\s]??\\d{4})')\n",
    "    phone_numbers = r.findall(string)\n",
    "    return [re.sub(r'\\D', '', number) for number in phone_numbers]\n",
    "#Function to extract Email address from a string using regular expressions\n",
    "def extract_email_addresses(string):\n",
    "    r = re.compile(r'[\\w\\.-]+@[\\w\\.-]+')\n",
    "    return r.findall(string)\n",
    "#Converting pdf to string\n",
    "resume_string = convert(\"Desktop/Resume-Ashok.pdf\")\n",
    "resume_string1 = resume_string\n",
    "#Removing commas in the resume for an effecient check\n",
    "resume_string = resume_string.replace(',',' ')\n",
    "#Converting all the charachters in lower case\n",
    "resume_string = resume_string.lower()\n",
    "#Information Extraction Function\n"
   ]
  },
  {
   "cell_type": "code",
   "execution_count": 527,
   "metadata": {},
   "outputs": [
    {
     "data": {
      "text/plain": [
       "'Ashok S \\n\\n7795801335 / 7358565121  \\n\\n   ashoksubramaniam91@gmail.com \\n\\n \\n\\n \\n\\n SUMMARY \\n▪ \\n\\nKnowledge in machine learning, data analysis & visualization with hands-on diverse experience \\n\\nacross all major Sectors. \\n\\n KEY SKILLS \\n\\n\\uf0b7  Python (Data Visualization, Data Wrangling using Python libraries) \\n\\n\\uf0b7 \\n\\nSQL, Data Modeling and Data Warehousing. \\n\\n\\uf0b7  Reporting and BI Tools: Tableau \\n\\n\\uf0b7 \\n\\n\\uf0b7 \\n\\nStatistics \\n\\nTime series Forecasting, ARIMA and Data Mining. \\n\\n \\n\\n \\n\\n \\n\\n\\uf0b7  Machine Learning -Regression, Classification (Logistic Regression, KNN, SVM, Naïve Bayes, Decision \\n\\nTree), Clustering (K-Means, Agglomerative), Ensemble Techniques, Text Mining & Sentimental \\n\\nAnalysis \\n\\n  SKILLS SUMMARY \\n\\n•  Programming languages: Python, Java, Jupiter Notebook. \\n\\n•  Operating Systems  : Windows \\n\\n•  Database \\n\\n: MS-SQL Server 2008 & 2012 \\n\\n•  Virtualization Tools  : Tableau. \\n\\n \\n\\n•  Machine Learning \\n\\n: Model Like-Regression, SVM, Random Forest, KNN, K-Neighbors, PCA. \\n\\n•  Data Modelling techniques: Pre-processing, Data Modelling using NumPy, Pandas, SciPy \\n\\n  PROFESSIONAL SUMMARY (Tata Consultancy Services Pvt Ltd Jan 2015 – Dec 2018)                                            \\n\\n \\n\\n \\n\\n   Data Analyst (Nov 2018 – Dec 2019): \\n\\n\\uf0b7  Extracting data from SQL, Data Crawling from Web sites using Beautiful Soap \\n\\n\\uf0b7  Experienced with working on statistical models in Excel \\n\\n\\uf0b7  Built  Predictive  Models  /  Data  Science  Models,  familiar  with  data  analysis,  data  sampling,  data \\n\\nclassification & data visualization techniques, mathematical models and algorithms. \\n\\n \\n\\nAutomation & Manual Tester (Jan 2015 – Oct 2017): \\n\\n\\uf0b7 \\n\\nISTQB foundation level certified tester. \\n\\n\\uf0b7  Managed a team of 3 as part of regression testing. \\n\\n\\uf0b7  Have good understanding of test design, identification of automation test scenarios, scoping of \\n\\nfunctional requirements, test execution and defect analysis/reporting, report testing. \\n\\n\\x0c\\uf0b7  Have been fully involved in developing scripts to automate functional test scenarios in Regression \\n\\nTest Suite. \\n\\n\\uf0b7  Have been involved in Defect Life Cycle, Analysis and reporting, SQL. \\n\\n\\uf0b7  Have used HP Quality Centre and JIRA as Test Management Tool. \\n\\n\\uf0b7  Expertise in UAT testing, and client interaction \\n\\n\\uf0b7  On the spot award for best associate. \\n\\n \\nACADEMIC PROJECTS  \\n\\n\\uf0b7 \\n\\nIPL Player auction price prediction \\n\\nDeveloped a predictive model by using ensemble machine learning models to predict the potential IPL \\n\\nplayer price based on the given features. \\n\\n \\n\\nKey  skills:  Data  Crawling,  Python,  Data  Transformation,  Linear  Regression,  Decision  Tree,  Random \\n\\nForest \\n\\n \\n\\n\\uf0b7 \\n\\nIdentifying Diabetes Patients \\n\\nCreated a prediction model to identify diabetic patients by applying PCA for dimension reduction, \\n\\nfollowed by ensemble machine learning techniques. \\n\\n \\n\\n               Key skills: Python, PCA, Logistics Regression, Decision Trees, Random Forest,  \\n               K-Nearest Neighbours, Naive Bayes, Boosting      \\n \\nEDUCATION \\n\\nCourse \\n\\nInstitution \\n\\nPost Graduate Program in Data \\nScience & Engineering – Full Time \\n\\nGreat Lakes Institute of Management \\n\\nYear \\n\\n2019 \\n\\nRemarks \\n\\n84% \\n\\nM.Sc (Software Technology) \\n\\nVellore Institute of Technology, Vellore \\n\\n2014 \\n\\n89.9%  \\n\\nB.Sc (Computer Science, Maths, \\nElectronics) \\n12thStd / PUC \\n\\n10thStd \\n\\n \\n\\nSt. Joseph’s Arts & Science College \\n\\n2012 \\n\\n65% \\n\\nSheshadripuram Independent Pre \\nUniversity College \\n\\n2008 \\n\\n61.1% \\n\\nSt. Joseph’s Indian High School \\n\\n2006 \\n\\n64.80% \\n\\n\\x0c'"
      ]
     },
     "execution_count": 527,
     "metadata": {},
     "output_type": "execute_result"
    }
   ],
   "source": [
    "resume_string1"
   ]
  },
  {
   "cell_type": "code",
   "execution_count": 528,
   "metadata": {},
   "outputs": [],
   "source": [
    "a = resume_string1.replace(' ', ' ').replace('\\t', ' ').replace('\\n', ' ')"
   ]
  },
  {
   "cell_type": "code",
   "execution_count": 529,
   "metadata": {},
   "outputs": [
    {
     "data": {
      "text/plain": [
       "'Ashok S   7795801335 / 7358565121       ashoksubramaniam91@gmail.com          SUMMARY  ▪   Knowledge in machine learning, data analysis & visualization with hands-on diverse experience   across all major Sectors.    KEY SKILLS   \\uf0b7  Python (Data Visualization, Data Wrangling using Python libraries)   \\uf0b7   SQL, Data Modeling and Data Warehousing.   \\uf0b7  Reporting and BI Tools: Tableau   \\uf0b7   \\uf0b7   Statistics   Time series Forecasting, ARIMA and Data Mining.            \\uf0b7  Machine Learning -Regression, Classification (Logistic Regression, KNN, SVM, Naïve Bayes, Decision   Tree), Clustering (K-Means, Agglomerative), Ensemble Techniques, Text Mining & Sentimental   Analysis     SKILLS SUMMARY   •  Programming languages: Python, Java, Jupiter Notebook.   •  Operating Systems  : Windows   •  Database   : MS-SQL Server 2008 & 2012   •  Virtualization Tools  : Tableau.      •  Machine Learning   : Model Like-Regression, SVM, Random Forest, KNN, K-Neighbors, PCA.   •  Data Modelling techniques: Pre-processing, Data Modelling using NumPy, Pandas, SciPy     PROFESSIONAL SUMMARY (Tata Consultancy Services Pvt Ltd Jan 2015 – Dec 2018)                                                       Data Analyst (Nov 2018 – Dec 2019):   \\uf0b7  Extracting data from SQL, Data Crawling from Web sites using Beautiful Soap   \\uf0b7  Experienced with working on statistical models in Excel   \\uf0b7  Built  Predictive  Models  /  Data  Science  Models,  familiar  with  data  analysis,  data  sampling,  data   classification & data visualization techniques, mathematical models and algorithms.      Automation & Manual Tester (Jan 2015 – Oct 2017):   \\uf0b7   ISTQB foundation level certified tester.   \\uf0b7  Managed a team of 3 as part of regression testing.   \\uf0b7  Have good understanding of test design, identification of automation test scenarios, scoping of   functional requirements, test execution and defect analysis/reporting, report testing.   \\x0c\\uf0b7  Have been fully involved in developing scripts to automate functional test scenarios in Regression   Test Suite.   \\uf0b7  Have been involved in Defect Life Cycle, Analysis and reporting, SQL.   \\uf0b7  Have used HP Quality Centre and JIRA as Test Management Tool.   \\uf0b7  Expertise in UAT testing, and client interaction   \\uf0b7  On the spot award for best associate.     ACADEMIC PROJECTS    \\uf0b7   IPL Player auction price prediction   Developed a predictive model by using ensemble machine learning models to predict the potential IPL   player price based on the given features.      Key  skills:  Data  Crawling,  Python,  Data  Transformation,  Linear  Regression,  Decision  Tree,  Random   Forest      \\uf0b7   Identifying Diabetes Patients   Created a prediction model to identify diabetic patients by applying PCA for dimension reduction,   followed by ensemble machine learning techniques.                     Key skills: Python, PCA, Logistics Regression, Decision Trees, Random Forest,                  K-Nearest Neighbours, Naive Bayes, Boosting         EDUCATION   Course   Institution   Post Graduate Program in Data  Science & Engineering – Full Time   Great Lakes Institute of Management   Year   2019   Remarks   84%   M.Sc (Software Technology)   Vellore Institute of Technology, Vellore   2014   89.9%    B.Sc (Computer Science, Maths,  Electronics)  12thStd / PUC   10thStd      St. Joseph’s Arts & Science College   2012   65%   Sheshadripuram Independent Pre  University College   2008   61.1%   St. Joseph’s Indian High School   2006   64.80%   \\x0c'"
      ]
     },
     "execution_count": 529,
     "metadata": {},
     "output_type": "execute_result"
    }
   ],
   "source": [
    "a"
   ]
  },
  {
   "cell_type": "code",
   "execution_count": 530,
   "metadata": {},
   "outputs": [
    {
     "name": "stdout",
     "output_type": "stream",
     "text": [
      "7795801335\n"
     ]
    }
   ],
   "source": [
    "y = extract_phone_numbers(a)\n",
    "y1 = []\n",
    "for i in range(len(y)):\n",
    "    if(len(y[i])>9):\n",
    "        y1.append(y[i])\n",
    "yy=y1[0]\n",
    "print(yy)"
   ]
  },
  {
   "cell_type": "code",
   "execution_count": 531,
   "metadata": {},
   "outputs": [
    {
     "name": "stdout",
     "output_type": "stream",
     "text": [
      "['7795801335', '7358565121']\n"
     ]
    }
   ],
   "source": [
    "y = extract_phone_numbers1(a)\n",
    "y1 = []\n",
    "for i in range(len(y)):\n",
    "    if(len(y[i])>9):\n",
    "        y1.append(y[i])\n",
    "yy1=y1\n",
    "print(yy1)"
   ]
  },
  {
   "cell_type": "code",
   "execution_count": 532,
   "metadata": {},
   "outputs": [
    {
     "name": "stdout",
     "output_type": "stream",
     "text": [
      "ashoksubramaniam91@gmail.com\n"
     ]
    }
   ],
   "source": [
    "em=extract_email_addresses(a)\n",
    "em=em[0]\n",
    "print(em)"
   ]
  },
  {
   "cell_type": "code",
   "execution_count": 533,
   "metadata": {},
   "outputs": [],
   "source": [
    "import nltk\n",
    "from nameparser.parser import HumanName\n",
    "\n",
    "def get_human_names(text):\n",
    "    tokens = nltk.tokenize.word_tokenize(text)\n",
    "    pos = nltk.pos_tag(tokens)\n",
    "    sentt = nltk.ne_chunk(pos, binary = False)\n",
    "    person_list = []\n",
    "    person = []\n",
    "    name = \"\"\n",
    "    for subtree in sentt.subtrees(filter=lambda t: t.label() == 'PERSON'):\n",
    "        for leaf in subtree.leaves():\n",
    "            person.append(leaf[0])\n",
    "        if len(person) > 1: #avoid grabbing lone surnames\n",
    "            for part in person:\n",
    "                name += part + ' '\n",
    "            if name[:-1] not in person_list:\n",
    "                person_list.append(name[:-1])\n",
    "            name = ''\n",
    "        person = []\n",
    "\n",
    "    return (person_list)\n"
   ]
  },
  {
   "cell_type": "code",
   "execution_count": 534,
   "metadata": {},
   "outputs": [
    {
     "name": "stdout",
     "output_type": "stream",
     "text": [
      "Data Wrangling\n",
      "Data Modeling\n",
      "Data Warehousing\n",
      "Data Mining\n",
      "Machine Learning\n",
      "Naïve Bayes\n",
      "Decision Tree\n",
      "Text Mining\n",
      "Jupiter Notebook\n",
      "Virtualization Tools\n",
      "Random Forest\n",
      "Data Modelling\n",
      "Tata Ltd\n",
      "Data Analyst\n",
      "Data Crawling\n",
      "Beautiful Soap\n",
      "Manual Tester\n",
      "Test Tool\n",
      "Data Transformation\n",
      "Linear Regression\n",
      "Logistics Regression\n",
      "Decision Trees\n",
      "Naive Bayes\n",
      "Lakes Institute\n",
      "Vellore Institute\n",
      "Indian School\n"
     ]
    }
   ],
   "source": [
    "names = get_human_names(a)\n",
    "#print(\"LAST, FIRST\")\n",
    "for name in names: \n",
    "    #last_first = HumanName(name).last + ', ' + HumanName(name).first\n",
    "    first_last = HumanName(name).first + ' ' + HumanName(name).last\n",
    "    print(first_last)"
   ]
  },
  {
   "cell_type": "code",
   "execution_count": 535,
   "metadata": {},
   "outputs": [],
   "source": [
    "#import nltk"
   ]
  },
  {
   "cell_type": "code",
   "execution_count": 536,
   "metadata": {},
   "outputs": [],
   "source": [
    "#nltk.download('averaged_perceptron_tagger')"
   ]
  },
  {
   "cell_type": "code",
   "execution_count": 537,
   "metadata": {},
   "outputs": [],
   "source": [
    "#nltk.download('maxent_ne_chunker')"
   ]
  },
  {
   "cell_type": "code",
   "execution_count": 538,
   "metadata": {},
   "outputs": [],
   "source": [
    "#nltk.download('words')"
   ]
  },
  {
   "cell_type": "code",
   "execution_count": 539,
   "metadata": {},
   "outputs": [
    {
     "name": "stdout",
     "output_type": "stream",
     "text": [
      "Noun phrases: ['Ashok S', 'SUMMARY  ▪', 'Knowledge', 'machine learning', 'data analysis', 'visualization', 'hands-on diverse experience', 'all major Sectors', 'KEY SKILLS', 'Python', 'Data Visualization', 'Python libraries', 'Reporting', 'BI', 'Tableau', 'Statistics   Time series Forecasting', 'ARIMA', 'Data Mining', 'Machine Learning', '-Regression', 'Logistic Regression', 'KNN', 'SVM', 'Naïve Bayes', 'Decision   Tree', 'Programming languages', 'Python', 'Java', 'Jupiter Notebook', 'Operating Systems', 'Windows', 'Database', 'MS-SQL Server', 'Virtualization Tools', 'Tableau', 'Machine Learning', 'Model Like-Regression', 'SVM', 'Random Forest', 'KNN', 'K-Neighbors', 'PCA', 'Data Modelling techniques', 'Data Modelling', 'NumPy', 'Pandas', 'SciPy', 'PROFESSIONAL SUMMARY', 'Tata Consultancy Services Pvt Ltd Jan', 'Dec 2018)                                                       Data Analyst', 'Nov 2018 – Dec', 'Extracting data', 'SQL', 'Web sites', 'statistical models', 'Excel', 'Data', 'data  analysis', 'data', 'sampling', 'data   classification & data visualization techniques', 'mathematical models', 'algorithms', 'Jan', 'Oct', 'a team', 'part', 'regression testing', 'good understanding', 'test design', 'identification', 'automation test scenarios', 'functional requirements', 'test execution', 'analysis/reporting', 'scripts', 'functional test scenarios', 'Regression   Test Suite', 'Defect Life Cycle', 'Analysis', 'reporting', 'SQL', 'HP Quality Centre', 'JIRA', 'Test Management Tool', 'Expertise', 'UAT testing', 'client interaction', 'the spot award', 'best associate', 'ACADEMIC', 'IPL Player auction price prediction', 'a predictive model', 'ensemble machine learning models', 'the potential IPL   player price', 'the given features', 'Key  skills', 'Data', 'Crawling', 'Python', 'Data  Transformation', 'Linear  Regression', 'Decision  Tree', 'Forest      \\uf0b7', 'Identifying Diabetes Patients', 'a prediction model', 'diabetic patients', 'PCA', 'dimension reduction', 'ensemble machine learning techniques', 'Key skills', 'Python', 'PCA', 'Logistics Regression', 'Decision Trees', 'Random Forest', 'K', 'Nearest Neighbours', 'Naive Bayes', 'Boosting', 'EDUCATION', 'Course   Institution   Post Graduate Program', 'Data  Science', 'Engineering', 'Full Time', 'Great Lakes Institute', 'Management', 'Year', 'Remarks', '84%', 'M.Sc (Software Technology)   Vellore Institute', 'Technology', '89.9%', 'Computer Science', 'Maths', 'Electronics', 'PUC', 'St. Joseph', 'Arts', 'Science', 'College', '65%', 'Sheshadripuram Independent Pre  University College   2008   61.1%', 'St. Joseph', 'Indian High School', '64.80%']\n",
      "Verbs: ['wrangle', 'use', 'cluster', 'model', 'process', 'use', 'extract', 'crawl', 'use', 'experience', 'work', 'build', 'certify', 'manage', 'scope', 'test', 'defect', 'involve', 'develop', 'automate', 'involve', 'use', 'develop', 'use', 'learn', 'predict', 'base', 'give', 'identify', 'create', 'identify', 'apply', 'follow']\n",
      "Ashok S PERSON\n",
      "Python GPE\n",
      "Data Wrangling PERSON\n",
      "Python ORG\n",
      "SQL ORG\n",
      "Data Modeling PERSON\n",
      "ARIMA ORG\n",
      "Data Mining PERSON\n",
      "Machine Learning GPE\n",
      "KNN ORG\n",
      "SVM ORG\n",
      "Decision   Tree WORK_OF_ART\n",
      "Text Mining & Sentimental   Analysis     SKILLS ORG\n",
      "Python ORG\n",
      "Java ORG\n",
      "Operating Systems ORG\n",
      "2008 & 2012 DATE\n",
      "Tableau ORG\n",
      "SVM ORG\n",
      "Random Forest ORG\n",
      "KNN ORG\n",
      "K-Neighbors ORG\n",
      "PCA ORG\n",
      "Data Modelling PERSON\n",
      "Data Modelling PERSON\n",
      "NumPy LOC\n",
      "SciPy     PROFESSIONAL SUMMARY FAC\n",
      "Tata Consultancy Services Pvt Ltd ORG\n",
      "Jan 2015 DATE\n",
      "2018 DATE\n",
      "SQL ORG\n",
      "Data Crawling PERSON\n",
      "Beautiful Soap ORG\n",
      "Excel PRODUCT\n",
      "Built GPE\n",
      "Data ORG\n",
      "Automation & Manual Tester ORG\n",
      "Jan 2015 DATE\n",
      "2017 DATE\n",
      "ISTQB ORG\n",
      "3 CARDINAL\n",
      "Regression   Test Suite ORG\n",
      "Defect Life Cycle WORK_OF_ART\n",
      "SQL ORG\n",
      "HP Quality Centre ORG\n",
      "JIRA as Test Management Tool ORG\n",
      "Expertise PRODUCT\n",
      "UAT ORG\n",
      "IPL ORG\n",
      "IPL LOC\n",
      "Python GPE\n",
      "Data  Transformation ORG\n",
      "Linear ORG\n",
      "Regression PERSON\n",
      "Tree PERSON\n",
      "Random    ORG\n",
      "Python GPE\n",
      "PCA ORG\n",
      "Random Forest ORG\n",
      "Data  Science & Engineering ORG\n",
      "Full Time    ORG\n",
      "Great Lakes Institute of Management FAC\n",
      "2019 DATE\n",
      "84% PERCENT\n",
      "Software Technology ORG\n",
      "Vellore Institute of Technology ORG\n",
      "Vellore ORG\n",
      "2014 DATE\n",
      "89.9% PERCENT\n",
      "Maths PERSON\n",
      "Electronics ORG\n",
      "10thStd       MONEY\n",
      "2012 DATE\n",
      "65% PERCENT\n",
      "Sheshadripuram Independent Pre ORG\n",
      "University College ORG\n",
      "2008 DATE\n",
      "61.1% PERCENT\n",
      "St. Joseph’s GPE\n",
      "Indian High School ORG\n",
      "2006 DATE\n",
      "64.80% PERCENT\n"
     ]
    }
   ],
   "source": [
    "import spacy\n",
    "\n",
    "# Load English tokenizer, tagger, parser, NER and word vectors\n",
    "nlp = spacy.load(\"en_core_web_sm\")\n",
    "\n",
    "# Process whole documents\n",
    "text = (\"When Sebastian Thrun started working on self-driving cars at \"\n",
    "        \"Google in 2007, few people outside of the company took him \"\n",
    "        \"seriously. “I can tell you very senior CEOs of major American \"\n",
    "        \"car companies would shake my hand and turn away because I wasn’t \"\n",
    "        \"worth talking to,” said Thrun, in an interview with Recode earlier \"\n",
    "        \"this week.\")\n",
    "doc = nlp(a)\n",
    "\n",
    "# Analyze syntax\n",
    "aa=[chunk.text for chunk in doc.noun_chunks]\n",
    "print(\"Noun phrases:\", [chunk.text for chunk in doc.noun_chunks])\n",
    "print(\"Verbs:\", [token.lemma_ for token in doc if token.pos_ == \"VERB\"])\n",
    "\n",
    "# Find named entities, phrases and concepts\n",
    "for entity in doc.ents:\n",
    "    print(entity.text, entity.label_)"
   ]
  },
  {
   "cell_type": "code",
   "execution_count": 540,
   "metadata": {},
   "outputs": [],
   "source": [
    "#python -m spacy download en"
   ]
  },
  {
   "cell_type": "code",
   "execution_count": 541,
   "metadata": {},
   "outputs": [
    {
     "data": {
      "text/plain": [
       "'Ashok S'"
      ]
     },
     "execution_count": 541,
     "metadata": {},
     "output_type": "execute_result"
    }
   ],
   "source": [
    "aaa=aa[0]\n",
    "aaa"
   ]
  },
  {
   "cell_type": "code",
   "execution_count": 542,
   "metadata": {},
   "outputs": [
    {
     "data": {
      "text/plain": [
       "'Ashok S'"
      ]
     },
     "execution_count": 542,
     "metadata": {},
     "output_type": "execute_result"
    }
   ],
   "source": [
    "aaa\n",
    "\" \".join(aaa.split(\" \", 2)[:2])"
   ]
  },
  {
   "cell_type": "code",
   "execution_count": 543,
   "metadata": {},
   "outputs": [],
   "source": [
    "def name_split(a):\n",
    "    if a.count(\" \") == 1:\n",
    "        return a.split(\"-\")[0]\n",
    "    else:\n",
    "        return \" \".join(a.split(\" \", 2)[:2])"
   ]
  },
  {
   "cell_type": "code",
   "execution_count": 544,
   "metadata": {},
   "outputs": [
    {
     "data": {
      "text/plain": [
       "'Ashok S'"
      ]
     },
     "execution_count": 544,
     "metadata": {},
     "output_type": "execute_result"
    }
   ],
   "source": [
    "nm=name_split(aaa)\n",
    "nm"
   ]
  },
  {
   "cell_type": "code",
   "execution_count": 545,
   "metadata": {},
   "outputs": [
    {
     "data": {
      "text/plain": [
       "'Ashok S   7795801335 / 7358565121       ashoksubramaniam91@gmail.com          SUMMARY  ▪   Knowledge in machine learning, data analysis & visualization with hands-on diverse experience   across all major Sectors.    KEY SKILLS   \\uf0b7  Python (Data Visualization, Data Wrangling using Python libraries)   \\uf0b7   SQL, Data Modeling and Data Warehousing.   \\uf0b7  Reporting and BI Tools: Tableau   \\uf0b7   \\uf0b7   Statistics   Time series Forecasting, ARIMA and Data Mining.            \\uf0b7  Machine Learning -Regression, Classification (Logistic Regression, KNN, SVM, Naïve Bayes, Decision   Tree), Clustering (K-Means, Agglomerative), Ensemble Techniques, Text Mining & Sentimental   Analysis     SKILLS SUMMARY   •  Programming languages: Python, Java, Jupiter Notebook.   •  Operating Systems  : Windows   •  Database   : MS-SQL Server 2008 & 2012   •  Virtualization Tools  : Tableau.      •  Machine Learning   : Model Like-Regression, SVM, Random Forest, KNN, K-Neighbors, PCA.   •  Data Modelling techniques: Pre-processing, Data Modelling using NumPy, Pandas, SciPy     PROFESSIONAL SUMMARY (Tata Consultancy Services Pvt Ltd Jan 2015 – Dec 2018)                                                       Data Analyst (Nov 2018 – Dec 2019):   \\uf0b7  Extracting data from SQL, Data Crawling from Web sites using Beautiful Soap   \\uf0b7  Experienced with working on statistical models in Excel   \\uf0b7  Built  Predictive  Models  /  Data  Science  Models,  familiar  with  data  analysis,  data  sampling,  data   classification & data visualization techniques, mathematical models and algorithms.      Automation & Manual Tester (Jan 2015 – Oct 2017):   \\uf0b7   ISTQB foundation level certified tester.   \\uf0b7  Managed a team of 3 as part of regression testing.   \\uf0b7  Have good understanding of test design, identification of automation test scenarios, scoping of   functional requirements, test execution and defect analysis/reporting, report testing.   \\x0c\\uf0b7  Have been fully involved in developing scripts to automate functional test scenarios in Regression   Test Suite.   \\uf0b7  Have been involved in Defect Life Cycle, Analysis and reporting, SQL.   \\uf0b7  Have used HP Quality Centre and JIRA as Test Management Tool.   \\uf0b7  Expertise in UAT testing, and client interaction   \\uf0b7  On the spot award for best associate.     ACADEMIC PROJECTS    \\uf0b7   IPL Player auction price prediction   Developed a predictive model by using ensemble machine learning models to predict the potential IPL   player price based on the given features.      Key  skills:  Data  Crawling,  Python,  Data  Transformation,  Linear  Regression,  Decision  Tree,  Random   Forest      \\uf0b7   Identifying Diabetes Patients   Created a prediction model to identify diabetic patients by applying PCA for dimension reduction,   followed by ensemble machine learning techniques.                     Key skills: Python, PCA, Logistics Regression, Decision Trees, Random Forest,                  K-Nearest Neighbours, Naive Bayes, Boosting         EDUCATION   Course   Institution   Post Graduate Program in Data  Science & Engineering – Full Time   Great Lakes Institute of Management   Year   2019   Remarks   84%   M.Sc (Software Technology)   Vellore Institute of Technology, Vellore   2014   89.9%    B.Sc (Computer Science, Maths,  Electronics)  12thStd / PUC   10thStd      St. Joseph’s Arts & Science College   2012   65%   Sheshadripuram Independent Pre  University College   2008   61.1%   St. Joseph’s Indian High School   2006   64.80%   \\x0c'"
      ]
     },
     "execution_count": 545,
     "metadata": {},
     "output_type": "execute_result"
    }
   ],
   "source": [
    "a"
   ]
  },
  {
   "cell_type": "code",
   "execution_count": 546,
   "metadata": {},
   "outputs": [
    {
     "data": {
      "text/plain": [
       "['Ashok S',\n",
       " 'SUMMARY  ▪',\n",
       " 'Knowledge',\n",
       " 'machine learning',\n",
       " 'data analysis',\n",
       " 'visualization',\n",
       " 'hands-on diverse experience',\n",
       " 'all major Sectors',\n",
       " 'KEY SKILLS',\n",
       " 'Python',\n",
       " 'Data Visualization',\n",
       " 'Python libraries',\n",
       " 'Reporting',\n",
       " 'BI',\n",
       " 'Tableau',\n",
       " 'Statistics   Time series Forecasting',\n",
       " 'ARIMA',\n",
       " 'Data Mining',\n",
       " 'Machine Learning',\n",
       " '-Regression',\n",
       " 'Logistic Regression',\n",
       " 'KNN',\n",
       " 'SVM',\n",
       " 'Naïve Bayes',\n",
       " 'Decision   Tree',\n",
       " 'Programming languages',\n",
       " 'Python',\n",
       " 'Java',\n",
       " 'Jupiter Notebook',\n",
       " 'Operating Systems',\n",
       " 'Windows',\n",
       " 'Database',\n",
       " 'MS-SQL Server',\n",
       " 'Virtualization Tools',\n",
       " 'Tableau',\n",
       " 'Machine Learning',\n",
       " 'Model Like-Regression',\n",
       " 'SVM',\n",
       " 'Random Forest',\n",
       " 'KNN',\n",
       " 'K-Neighbors',\n",
       " 'PCA',\n",
       " 'Data Modelling techniques',\n",
       " 'Data Modelling',\n",
       " 'NumPy',\n",
       " 'Pandas',\n",
       " 'SciPy',\n",
       " 'PROFESSIONAL SUMMARY',\n",
       " 'Tata Consultancy Services Pvt Ltd Jan',\n",
       " 'Dec 2018)                                                       Data Analyst',\n",
       " 'Nov 2018 – Dec',\n",
       " 'Extracting data',\n",
       " 'SQL',\n",
       " 'Web sites',\n",
       " 'statistical models',\n",
       " 'Excel',\n",
       " 'Data',\n",
       " 'data  analysis',\n",
       " 'data',\n",
       " 'sampling',\n",
       " 'data   classification & data visualization techniques',\n",
       " 'mathematical models',\n",
       " 'algorithms',\n",
       " 'Jan',\n",
       " 'Oct',\n",
       " 'a team',\n",
       " 'part',\n",
       " 'regression testing',\n",
       " 'good understanding',\n",
       " 'test design',\n",
       " 'identification',\n",
       " 'automation test scenarios',\n",
       " 'functional requirements',\n",
       " 'test execution',\n",
       " 'analysis/reporting',\n",
       " 'scripts',\n",
       " 'functional test scenarios',\n",
       " 'Regression   Test Suite',\n",
       " 'Defect Life Cycle',\n",
       " 'Analysis',\n",
       " 'reporting',\n",
       " 'SQL',\n",
       " 'HP Quality Centre',\n",
       " 'JIRA',\n",
       " 'Test Management Tool',\n",
       " 'Expertise',\n",
       " 'UAT testing',\n",
       " 'client interaction',\n",
       " 'the spot award',\n",
       " 'best associate',\n",
       " 'ACADEMIC',\n",
       " 'IPL Player auction price prediction',\n",
       " 'a predictive model',\n",
       " 'ensemble machine learning models',\n",
       " 'the potential IPL   player price',\n",
       " 'the given features',\n",
       " 'Key  skills',\n",
       " 'Data',\n",
       " 'Crawling',\n",
       " 'Python',\n",
       " 'Data  Transformation',\n",
       " 'Linear  Regression',\n",
       " 'Decision  Tree',\n",
       " 'Forest      \\uf0b7',\n",
       " 'Identifying Diabetes Patients',\n",
       " 'a prediction model',\n",
       " 'diabetic patients',\n",
       " 'PCA',\n",
       " 'dimension reduction',\n",
       " 'ensemble machine learning techniques',\n",
       " 'Key skills',\n",
       " 'Python',\n",
       " 'PCA',\n",
       " 'Logistics Regression',\n",
       " 'Decision Trees',\n",
       " 'Random Forest',\n",
       " 'K',\n",
       " 'Nearest Neighbours',\n",
       " 'Naive Bayes',\n",
       " 'Boosting',\n",
       " 'EDUCATION',\n",
       " 'Course   Institution   Post Graduate Program',\n",
       " 'Data  Science',\n",
       " 'Engineering',\n",
       " 'Full Time',\n",
       " 'Great Lakes Institute',\n",
       " 'Management',\n",
       " 'Year',\n",
       " 'Remarks',\n",
       " '84%',\n",
       " 'M.Sc (Software Technology)   Vellore Institute',\n",
       " 'Technology',\n",
       " '89.9%',\n",
       " 'Computer Science',\n",
       " 'Maths',\n",
       " 'Electronics',\n",
       " 'PUC',\n",
       " 'St. Joseph',\n",
       " 'Arts',\n",
       " 'Science',\n",
       " 'College',\n",
       " '65%',\n",
       " 'Sheshadripuram Independent Pre  University College   2008   61.1%',\n",
       " 'St. Joseph',\n",
       " 'Indian High School',\n",
       " '64.80%']"
      ]
     },
     "execution_count": 546,
     "metadata": {},
     "output_type": "execute_result"
    }
   ],
   "source": [
    "aa"
   ]
  },
  {
   "cell_type": "code",
   "execution_count": 547,
   "metadata": {},
   "outputs": [],
   "source": [
    "l1=['PCA',\n",
    " 'dimension reduction',\n",
    " 'machine',\n",
    " 'Key Skills',\n",
    " 'Python',\n",
    " 'PCA',\n",
    " 'Logistic Regression',\n",
    " 'Decision Tree',\n",
    " 'Random Forest',\n",
    " 'Naïve Baye',\n",
    " 'Regression testing',\n",
    " 'analysis /  reporting',\n",
    " 'sql',\n",
    " 'statistics',\n",
    " 'EDA',\n",
    " 'Tableau',\n",
    " 'Data cleaning',\n",
    " 'Data Visualization   Data analysis',\n",
    " 'Statistical modeling',\n",
    " 'Machine learning',\n",
    " 'Supervised learning',\n",
    "'Econometrics and Time Series Analysis', \n",
    "    'Design of Experiments', 'Linear Models', 'Large Sample Theory',\n",
    "'Stochastic Process', 'Non-Parametric Methods',\n",
    "'Descision Theory', 'Data Mining', 'Statistical Inference', \n",
    "    'Probability Theory', 'Multivariate Statistical Modelling', 'Biostatistics',\n",
    "'Business Statistics','Machine Learning','Computer Vision',\n",
    "    'MS Excel', 'Power Point', 'Power BI','R','SAS','SQL','Excel','Machine Learning','Data Science'\n",
    "   \n",
    "   \n",
    "   \n",
    "   \n",
    "   ]\n"
   ]
  },
  {
   "cell_type": "code",
   "execution_count": 548,
   "metadata": {},
   "outputs": [],
   "source": [
    "def common_member(a, b): \n",
    "    c=[]\n",
    "    a_set = set(a) \n",
    "    b_set = set(b) \n",
    "    if (a_set & b_set):\n",
    "        c=a_set & b_set\n",
    "        #print(a_set & b_set) \n",
    "    else: \n",
    "        print(\"No common elements\")\n",
    "    return c"
   ]
  },
  {
   "cell_type": "code",
   "execution_count": 549,
   "metadata": {},
   "outputs": [],
   "source": [
    "cc=common_member(l1,aa)"
   ]
  },
  {
   "cell_type": "code",
   "execution_count": 550,
   "metadata": {},
   "outputs": [
    {
     "data": {
      "text/plain": [
       "['Python',\n",
       " 'Data Mining',\n",
       " 'dimension reduction',\n",
       " 'PCA',\n",
       " 'Machine Learning',\n",
       " 'SQL',\n",
       " 'Logistic Regression',\n",
       " 'Random Forest',\n",
       " 'Excel',\n",
       " 'Tableau']"
      ]
     },
     "execution_count": 550,
     "metadata": {},
     "output_type": "execute_result"
    }
   ],
   "source": [
    "cc=list(cc)\n",
    "cc"
   ]
  },
  {
   "cell_type": "code",
   "execution_count": 551,
   "metadata": {},
   "outputs": [],
   "source": [
    "mydict=dict()"
   ]
  },
  {
   "cell_type": "code",
   "execution_count": 552,
   "metadata": {},
   "outputs": [],
   "source": [
    "mydict['skills']=cc"
   ]
  },
  {
   "cell_type": "code",
   "execution_count": 553,
   "metadata": {},
   "outputs": [
    {
     "data": {
      "text/plain": [
       "{'skills': ['Python',\n",
       "  'Data Mining',\n",
       "  'dimension reduction',\n",
       "  'PCA',\n",
       "  'Machine Learning',\n",
       "  'SQL',\n",
       "  'Logistic Regression',\n",
       "  'Random Forest',\n",
       "  'Excel',\n",
       "  'Tableau']}"
      ]
     },
     "execution_count": 553,
     "metadata": {},
     "output_type": "execute_result"
    }
   ],
   "source": [
    "mydict"
   ]
  },
  {
   "cell_type": "code",
   "execution_count": 554,
   "metadata": {},
   "outputs": [],
   "source": [
    "data=pd.DataFrame({'Name':nm,'phone':yy,'email':em,'Skills':mydict.values()})"
   ]
  },
  {
   "cell_type": "code",
   "execution_count": 555,
   "metadata": {},
   "outputs": [
    {
     "data": {
      "text/plain": [
       "Name                                                Ashok S\n",
       "phone                                            7795801335\n",
       "email                          ashoksubramaniam91@gmail.com\n",
       "Skills    ([Python, Data Mining, dimension reduction, PC...\n",
       "Name: 0, dtype: object"
      ]
     },
     "execution_count": 555,
     "metadata": {},
     "output_type": "execute_result"
    }
   ],
   "source": [
    "data.iloc[0]"
   ]
  },
  {
   "cell_type": "code",
   "execution_count": 556,
   "metadata": {},
   "outputs": [
    {
     "data": {
      "text/html": [
       "<div>\n",
       "<style scoped>\n",
       "    .dataframe tbody tr th:only-of-type {\n",
       "        vertical-align: middle;\n",
       "    }\n",
       "\n",
       "    .dataframe tbody tr th {\n",
       "        vertical-align: top;\n",
       "    }\n",
       "\n",
       "    .dataframe thead th {\n",
       "        text-align: right;\n",
       "    }\n",
       "</style>\n",
       "<table border=\"1\" class=\"dataframe\">\n",
       "  <thead>\n",
       "    <tr style=\"text-align: right;\">\n",
       "      <th></th>\n",
       "      <th>Name</th>\n",
       "      <th>phone</th>\n",
       "      <th>email</th>\n",
       "      <th>Skills</th>\n",
       "    </tr>\n",
       "  </thead>\n",
       "  <tbody>\n",
       "    <tr>\n",
       "      <th>0</th>\n",
       "      <td>Ashok S</td>\n",
       "      <td>7795801335</td>\n",
       "      <td>ashoksubramaniam91@gmail.com</td>\n",
       "      <td>([Python, Data Mining, dimension reduction, PC...</td>\n",
       "    </tr>\n",
       "  </tbody>\n",
       "</table>\n",
       "</div>"
      ],
      "text/plain": [
       "      Name       phone                         email  \\\n",
       "0  Ashok S  7795801335  ashoksubramaniam91@gmail.com   \n",
       "\n",
       "                                              Skills  \n",
       "0  ([Python, Data Mining, dimension reduction, PC...  "
      ]
     },
     "execution_count": 556,
     "metadata": {},
     "output_type": "execute_result"
    }
   ],
   "source": [
    "data"
   ]
  },
  {
   "cell_type": "code",
   "execution_count": 557,
   "metadata": {},
   "outputs": [
    {
     "data": {
      "text/plain": [
       "'ashok s \\n\\n7795801335 / 7358565121  \\n\\n   ashoksubramaniam91@gmail.com \\n\\n \\n\\n \\n\\n summary \\n▪ \\n\\nknowledge in machine learning  data analysis & visualization with hands-on diverse experience \\n\\nacross all major sectors. \\n\\n key skills \\n\\n\\uf0b7  python (data visualization  data wrangling using python libraries) \\n\\n\\uf0b7 \\n\\nsql  data modeling and data warehousing. \\n\\n\\uf0b7  reporting and bi tools: tableau \\n\\n\\uf0b7 \\n\\n\\uf0b7 \\n\\nstatistics \\n\\ntime series forecasting  arima and data mining. \\n\\n \\n\\n \\n\\n \\n\\n\\uf0b7  machine learning -regression  classification (logistic regression  knn  svm  naïve bayes  decision \\n\\ntree)  clustering (k-means  agglomerative)  ensemble techniques  text mining & sentimental \\n\\nanalysis \\n\\n  skills summary \\n\\n•  programming languages: python  java  jupiter notebook. \\n\\n•  operating systems  : windows \\n\\n•  database \\n\\n: ms-sql server 2008 & 2012 \\n\\n•  virtualization tools  : tableau. \\n\\n \\n\\n•  machine learning \\n\\n: model like-regression  svm  random forest  knn  k-neighbors  pca. \\n\\n•  data modelling techniques: pre-processing  data modelling using numpy  pandas  scipy \\n\\n  professional summary (tata consultancy services pvt ltd jan 2015 – dec 2018)                                            \\n\\n \\n\\n \\n\\n   data analyst (nov 2018 – dec 2019): \\n\\n\\uf0b7  extracting data from sql  data crawling from web sites using beautiful soap \\n\\n\\uf0b7  experienced with working on statistical models in excel \\n\\n\\uf0b7  built  predictive  models  /  data  science  models   familiar  with  data  analysis   data  sampling   data \\n\\nclassification & data visualization techniques  mathematical models and algorithms. \\n\\n \\n\\nautomation & manual tester (jan 2015 – oct 2017): \\n\\n\\uf0b7 \\n\\nistqb foundation level certified tester. \\n\\n\\uf0b7  managed a team of 3 as part of regression testing. \\n\\n\\uf0b7  have good understanding of test design  identification of automation test scenarios  scoping of \\n\\nfunctional requirements  test execution and defect analysis/reporting  report testing. \\n\\n\\x0c\\uf0b7  have been fully involved in developing scripts to automate functional test scenarios in regression \\n\\ntest suite. \\n\\n\\uf0b7  have been involved in defect life cycle  analysis and reporting  sql. \\n\\n\\uf0b7  have used hp quality centre and jira as test management tool. \\n\\n\\uf0b7  expertise in uat testing  and client interaction \\n\\n\\uf0b7  on the spot award for best associate. \\n\\n \\nacademic projects  \\n\\n\\uf0b7 \\n\\nipl player auction price prediction \\n\\ndeveloped a predictive model by using ensemble machine learning models to predict the potential ipl \\n\\nplayer price based on the given features. \\n\\n \\n\\nkey  skills:  data  crawling   python   data  transformation   linear  regression   decision  tree   random \\n\\nforest \\n\\n \\n\\n\\uf0b7 \\n\\nidentifying diabetes patients \\n\\ncreated a prediction model to identify diabetic patients by applying pca for dimension reduction  \\n\\nfollowed by ensemble machine learning techniques. \\n\\n \\n\\n               key skills: python  pca  logistics regression  decision trees  random forest   \\n               k-nearest neighbours  naive bayes  boosting      \\n \\neducation \\n\\ncourse \\n\\ninstitution \\n\\npost graduate program in data \\nscience & engineering – full time \\n\\ngreat lakes institute of management \\n\\nyear \\n\\n2019 \\n\\nremarks \\n\\n84% \\n\\nm.sc (software technology) \\n\\nvellore institute of technology  vellore \\n\\n2014 \\n\\n89.9%  \\n\\nb.sc (computer science  maths  \\nelectronics) \\n12thstd / puc \\n\\n10thstd \\n\\n \\n\\nst. joseph’s arts & science college \\n\\n2012 \\n\\n65% \\n\\nsheshadripuram independent pre \\nuniversity college \\n\\n2008 \\n\\n61.1% \\n\\nst. joseph’s indian high school \\n\\n2006 \\n\\n64.80% \\n\\n\\x0c'"
      ]
     },
     "execution_count": 557,
     "metadata": {},
     "output_type": "execute_result"
    }
   ],
   "source": [
    "resume_string"
   ]
  },
  {
   "cell_type": "code",
   "execution_count": 558,
   "metadata": {},
   "outputs": [],
   "source": [
    "o = resume_string.replace(' ', ' ').replace('\\t', ' ').replace('\\n', ' ')"
   ]
  },
  {
   "cell_type": "code",
   "execution_count": 559,
   "metadata": {},
   "outputs": [
    {
     "data": {
      "text/plain": [
       "'ashok s   7795801335 / 7358565121       ashoksubramaniam91@gmail.com          summary  ▪   knowledge in machine learning  data analysis & visualization with hands-on diverse experience   across all major sectors.    key skills   \\uf0b7  python (data visualization  data wrangling using python libraries)   \\uf0b7   sql  data modeling and data warehousing.   \\uf0b7  reporting and bi tools: tableau   \\uf0b7   \\uf0b7   statistics   time series forecasting  arima and data mining.            \\uf0b7  machine learning -regression  classification (logistic regression  knn  svm  naïve bayes  decision   tree)  clustering (k-means  agglomerative)  ensemble techniques  text mining & sentimental   analysis     skills summary   •  programming languages: python  java  jupiter notebook.   •  operating systems  : windows   •  database   : ms-sql server 2008 & 2012   •  virtualization tools  : tableau.      •  machine learning   : model like-regression  svm  random forest  knn  k-neighbors  pca.   •  data modelling techniques: pre-processing  data modelling using numpy  pandas  scipy     professional summary (tata consultancy services pvt ltd jan 2015 – dec 2018)                                                       data analyst (nov 2018 – dec 2019):   \\uf0b7  extracting data from sql  data crawling from web sites using beautiful soap   \\uf0b7  experienced with working on statistical models in excel   \\uf0b7  built  predictive  models  /  data  science  models   familiar  with  data  analysis   data  sampling   data   classification & data visualization techniques  mathematical models and algorithms.      automation & manual tester (jan 2015 – oct 2017):   \\uf0b7   istqb foundation level certified tester.   \\uf0b7  managed a team of 3 as part of regression testing.   \\uf0b7  have good understanding of test design  identification of automation test scenarios  scoping of   functional requirements  test execution and defect analysis/reporting  report testing.   \\x0c\\uf0b7  have been fully involved in developing scripts to automate functional test scenarios in regression   test suite.   \\uf0b7  have been involved in defect life cycle  analysis and reporting  sql.   \\uf0b7  have used hp quality centre and jira as test management tool.   \\uf0b7  expertise in uat testing  and client interaction   \\uf0b7  on the spot award for best associate.     academic projects    \\uf0b7   ipl player auction price prediction   developed a predictive model by using ensemble machine learning models to predict the potential ipl   player price based on the given features.      key  skills:  data  crawling   python   data  transformation   linear  regression   decision  tree   random   forest      \\uf0b7   identifying diabetes patients   created a prediction model to identify diabetic patients by applying pca for dimension reduction    followed by ensemble machine learning techniques.                     key skills: python  pca  logistics regression  decision trees  random forest                   k-nearest neighbours  naive bayes  boosting         education   course   institution   post graduate program in data  science & engineering – full time   great lakes institute of management   year   2019   remarks   84%   m.sc (software technology)   vellore institute of technology  vellore   2014   89.9%    b.sc (computer science  maths   electronics)  12thstd / puc   10thstd      st. joseph’s arts & science college   2012   65%   sheshadripuram independent pre  university college   2008   61.1%   st. joseph’s indian high school   2006   64.80%   \\x0c'"
      ]
     },
     "execution_count": 559,
     "metadata": {},
     "output_type": "execute_result"
    }
   ],
   "source": [
    "o"
   ]
  },
  {
   "cell_type": "code",
   "execution_count": 560,
   "metadata": {},
   "outputs": [
    {
     "data": {
      "text/plain": [
       "'I will add R45.1 as diagnosis, then some other medical terms'"
      ]
     },
     "execution_count": 560,
     "metadata": {},
     "output_type": "execute_result"
    }
   ],
   "source": [
    "import re\n",
    "s1 = 'Hey doctor Who is here - I will add R45.1 as diagnosis, then some other medical terms and stuff about the patient. ffdsas ,dsfd tsdsf'\n",
    "s2 = 'Some other medical terms and stuff diagnosis of R45.2 was entered for this patient. Where did Doctor Who go? Then xxx feea fdsfd'\n",
    "r1 = re.search(r\"(?:[a-zA-Z'-]+[^a-zA-Z'-]+){0,5}diagnosis(?:[^a-zA-Z'-]+[a-zA-Z'-]+){0,5}\", s1)\n",
    "r2 = re.search(r\"(?:[a-zA-Z'-]+[^a-zA-Z'-]+){0,5}diagnosis(?:[^a-zA-Z'-]+[a-zA-Z'-]+){0,5}\", s2)\n",
    "r1.group()\n"
   ]
  },
  {
   "cell_type": "code",
   "execution_count": 561,
   "metadata": {},
   "outputs": [],
   "source": [
    "r1 = re.search(r\"(?:[a-zA-Z'-]+[^a-zA-Z'-]+){0,5}college(?:[^a-zA-Z'-]+[a-zA-Z'-]+){0,0}\", o)"
   ]
  },
  {
   "cell_type": "code",
   "execution_count": 562,
   "metadata": {},
   "outputs": [
    {
     "name": "stdout",
     "output_type": "stream",
     "text": [
      "st. joseph’s arts & science college\n"
     ]
    }
   ],
   "source": [
    "print(r1.group())"
   ]
  },
  {
   "cell_type": "code",
   "execution_count": 563,
   "metadata": {},
   "outputs": [],
   "source": [
    "r2 = re.search(r\"(?:[a-zA-Z'-]+[^a-zA-Z'-]+){0,2}institute(?:[^a-zA-Z'-]+[a-zA-Z'-]+){0,2}\", o)"
   ]
  },
  {
   "cell_type": "code",
   "execution_count": 564,
   "metadata": {},
   "outputs": [
    {
     "data": {
      "text/plain": [
       "'great lakes institute of management'"
      ]
     },
     "execution_count": 564,
     "metadata": {},
     "output_type": "execute_result"
    }
   ],
   "source": [
    "r2.group()"
   ]
  },
  {
   "cell_type": "code",
   "execution_count": 565,
   "metadata": {},
   "outputs": [],
   "source": [
    "r3 = re.search(r\"(?:[a-zA-Z'-]+[^a-zA-Z'-]+){0,1}institute of technology(?:[^a-zA-Z'-]+[a-zA-Z'-]+){0,0}\", o)"
   ]
  },
  {
   "cell_type": "code",
   "execution_count": 566,
   "metadata": {},
   "outputs": [
    {
     "data": {
      "text/plain": [
       "'vellore institute of technology'"
      ]
     },
     "execution_count": 566,
     "metadata": {},
     "output_type": "execute_result"
    }
   ],
   "source": [
    "r3.group()"
   ]
  },
  {
   "cell_type": "code",
   "execution_count": 567,
   "metadata": {},
   "outputs": [],
   "source": [
    "r4 = re.search(r\"(?:[a-zA-Z'-]+[^a-zA-Z'-]+){0,2}university(?:[^a-zA-Z'-]+[a-zA-Z'-]+){0,0}\", o)"
   ]
  },
  {
   "cell_type": "code",
   "execution_count": 568,
   "metadata": {},
   "outputs": [
    {
     "data": {
      "text/plain": [
       "'independent pre  university'"
      ]
     },
     "execution_count": 568,
     "metadata": {},
     "output_type": "execute_result"
    }
   ],
   "source": [
    "r4.group()"
   ]
  },
  {
   "cell_type": "code",
   "execution_count": 569,
   "metadata": {},
   "outputs": [],
   "source": [
    "n=[]\n",
    "for i in l1:\n",
    "    n.append(i.lower())"
   ]
  },
  {
   "cell_type": "code",
   "execution_count": 570,
   "metadata": {},
   "outputs": [
    {
     "data": {
      "text/plain": [
       "['pca',\n",
       " 'dimension reduction',\n",
       " 'machine',\n",
       " 'key skills',\n",
       " 'python',\n",
       " 'pca',\n",
       " 'logistic regression',\n",
       " 'decision tree',\n",
       " 'random forest',\n",
       " 'naïve baye',\n",
       " 'regression testing',\n",
       " 'analysis /  reporting',\n",
       " 'sql',\n",
       " 'statistics',\n",
       " 'eda',\n",
       " 'tableau',\n",
       " 'data cleaning',\n",
       " 'data visualization   data analysis',\n",
       " 'statistical modeling',\n",
       " 'machine learning',\n",
       " 'supervised learning',\n",
       " 'econometrics and time series analysis',\n",
       " 'design of experiments',\n",
       " 'linear models',\n",
       " 'large sample theory',\n",
       " 'stochastic process',\n",
       " 'non-parametric methods',\n",
       " 'descision theory',\n",
       " 'data mining',\n",
       " 'statistical inference',\n",
       " 'probability theory',\n",
       " 'multivariate statistical modelling',\n",
       " 'biostatistics',\n",
       " 'business statistics',\n",
       " 'machine learning',\n",
       " 'computer vision',\n",
       " 'ms excel',\n",
       " 'power point',\n",
       " 'power bi',\n",
       " 'r',\n",
       " 'sas',\n",
       " 'sql',\n",
       " 'excel',\n",
       " 'machine learning',\n",
       " 'data science']"
      ]
     },
     "execution_count": 570,
     "metadata": {},
     "output_type": "execute_result"
    }
   ],
   "source": [
    "n"
   ]
  },
  {
   "cell_type": "code",
   "execution_count": 571,
   "metadata": {},
   "outputs": [
    {
     "name": "stdout",
     "output_type": "stream",
     "text": [
      "Phone number found: 415-555-4242\n"
     ]
    }
   ],
   "source": [
    "phoneNumRegex = re.compile(r'\\d\\d\\d-\\d\\d\\d-\\d\\d\\d\\d')\n",
    "mo = phoneNumRegex.search('My number is 415-555-4242.')\n",
    "print('Phone number found: ' + mo.group())"
   ]
  },
  {
   "cell_type": "code",
   "execution_count": 572,
   "metadata": {},
   "outputs": [],
   "source": [
    "def pn(string):\n",
    "    if (r.compile(r'\\d\\d\\d-\\d\\d\\d-\\d\\d\\d\\d')):\n",
    "        phone_numbers = r.findall(string)\n",
    "    elif(r.compile(r'\\d\\d\\d\\d\\d\\d\\d\\d\\d\\d')):\n",
    "        phone_numbers = r.findall(string)\n",
    "    elif(r.compile(r'+\\d\\d-\\d\\d\\d\\d\\d\\d\\d\\d\\d\\d')):\n",
    "        phone_numbers = r.findall(string)\n",
    "    return [re.sub(r'\\D', '', number) for number in phone_numbers]"
   ]
  },
  {
   "cell_type": "code",
   "execution_count": null,
   "metadata": {},
   "outputs": [],
   "source": []
  },
  {
   "cell_type": "code",
   "execution_count": 573,
   "metadata": {},
   "outputs": [],
   "source": [
    "l2=['b.com','b.tech','BE','B.Sc','B.Tech']"
   ]
  },
  {
   "cell_type": "code",
   "execution_count": 574,
   "metadata": {},
   "outputs": [],
   "source": [
    "l3=['Masters in Statistics and Computing','m.tech','m.sjc','M.Sc']"
   ]
  },
  {
   "cell_type": "code",
   "execution_count": 575,
   "metadata": {},
   "outputs": [],
   "source": [
    "def common_degree(a, b): \n",
    "    c=[]\n",
    "    a_set = set(a) \n",
    "    b_set = set(b) \n",
    "    if (a_set & b_set):\n",
    "        c=a_set & b_set\n",
    "        return 1\n",
    "    else: \n",
    "        return 0\n",
    "    return c"
   ]
  },
  {
   "cell_type": "code",
   "execution_count": 576,
   "metadata": {},
   "outputs": [],
   "source": [
    "cd=common_degree(l3,aa)"
   ]
  },
  {
   "cell_type": "markdown",
   "metadata": {},
   "source": [
    "cd=list(cd)\n",
    "cd"
   ]
  },
  {
   "cell_type": "code",
   "execution_count": 577,
   "metadata": {},
   "outputs": [],
   "source": [
    "cb=common_degree(l2,aa)"
   ]
  },
  {
   "cell_type": "markdown",
   "metadata": {},
   "source": [
    "cb=list(cb)\n",
    "cb"
   ]
  },
  {
   "cell_type": "code",
   "execution_count": 578,
   "metadata": {},
   "outputs": [],
   "source": [
    "b=a.split()"
   ]
  },
  {
   "cell_type": "code",
   "execution_count": 579,
   "metadata": {},
   "outputs": [],
   "source": [
    "cd=common_degree(l3,b)"
   ]
  },
  {
   "cell_type": "code",
   "execution_count": 580,
   "metadata": {},
   "outputs": [],
   "source": [
    "cb=common_degree(l2,b)"
   ]
  },
  {
   "cell_type": "code",
   "execution_count": 581,
   "metadata": {},
   "outputs": [],
   "source": [
    "data['UG']=cb"
   ]
  },
  {
   "cell_type": "code",
   "execution_count": 582,
   "metadata": {},
   "outputs": [],
   "source": [
    "data['PG']=cd"
   ]
  },
  {
   "cell_type": "code",
   "execution_count": 583,
   "metadata": {},
   "outputs": [
    {
     "data": {
      "text/html": [
       "<div>\n",
       "<style scoped>\n",
       "    .dataframe tbody tr th:only-of-type {\n",
       "        vertical-align: middle;\n",
       "    }\n",
       "\n",
       "    .dataframe tbody tr th {\n",
       "        vertical-align: top;\n",
       "    }\n",
       "\n",
       "    .dataframe thead th {\n",
       "        text-align: right;\n",
       "    }\n",
       "</style>\n",
       "<table border=\"1\" class=\"dataframe\">\n",
       "  <thead>\n",
       "    <tr style=\"text-align: right;\">\n",
       "      <th></th>\n",
       "      <th>Name</th>\n",
       "      <th>phone</th>\n",
       "      <th>email</th>\n",
       "      <th>Skills</th>\n",
       "      <th>UG</th>\n",
       "      <th>PG</th>\n",
       "    </tr>\n",
       "  </thead>\n",
       "  <tbody>\n",
       "    <tr>\n",
       "      <th>0</th>\n",
       "      <td>Ashok S</td>\n",
       "      <td>7795801335</td>\n",
       "      <td>ashoksubramaniam91@gmail.com</td>\n",
       "      <td>([Python, Data Mining, dimension reduction, PC...</td>\n",
       "      <td>1</td>\n",
       "      <td>1</td>\n",
       "    </tr>\n",
       "  </tbody>\n",
       "</table>\n",
       "</div>"
      ],
      "text/plain": [
       "      Name       phone                         email  \\\n",
       "0  Ashok S  7795801335  ashoksubramaniam91@gmail.com   \n",
       "\n",
       "                                              Skills  UG  PG  \n",
       "0  ([Python, Data Mining, dimension reduction, PC...   1   1  "
      ]
     },
     "execution_count": 583,
     "metadata": {},
     "output_type": "execute_result"
    }
   ],
   "source": [
    "data"
   ]
  },
  {
   "cell_type": "code",
   "execution_count": 584,
   "metadata": {},
   "outputs": [
    {
     "ename": "ModuleNotFoundError",
     "evalue": "No module named 'exceptions'",
     "output_type": "error",
     "traceback": [
      "\u001b[1;31m---------------------------------------------------------------------------\u001b[0m",
      "\u001b[1;31mModuleNotFoundError\u001b[0m                       Traceback (most recent call last)",
      "\u001b[1;32m<ipython-input-584-85a0bf68b661>\u001b[0m in \u001b[0;36m<module>\u001b[1;34m\u001b[0m\n\u001b[1;32m----> 1\u001b[1;33m \u001b[1;32mfrom\u001b[0m \u001b[0mdocx\u001b[0m \u001b[1;32mimport\u001b[0m \u001b[0mDocument\u001b[0m\u001b[1;33m\u001b[0m\u001b[1;33m\u001b[0m\u001b[0m\n\u001b[0m\u001b[0;32m      2\u001b[0m \u001b[1;33m\u001b[0m\u001b[0m\n\u001b[0;32m      3\u001b[0m \u001b[0mdocument\u001b[0m \u001b[1;33m=\u001b[0m \u001b[0mDocument\u001b[0m\u001b[1;33m(\u001b[0m\u001b[1;34m\"Desktop/AprajitaSrivastava_.docx\"\u001b[0m\u001b[1;33m)\u001b[0m\u001b[1;33m\u001b[0m\u001b[1;33m\u001b[0m\u001b[0m\n\u001b[0;32m      4\u001b[0m \u001b[1;33m\u001b[0m\u001b[0m\n\u001b[0;32m      5\u001b[0m \u001b[1;31m# Find the index of the `Summary of Broadspectrum Offer` syntax and store it\u001b[0m\u001b[1;33m\u001b[0m\u001b[1;33m\u001b[0m\u001b[1;33m\u001b[0m\u001b[0m\n",
      "\u001b[1;32m~\\Anaconda3\\lib\\site-packages\\docx.py\u001b[0m in \u001b[0;36m<module>\u001b[1;34m\u001b[0m\n\u001b[0;32m     28\u001b[0m     \u001b[0mTAGS\u001b[0m \u001b[1;33m=\u001b[0m \u001b[1;33m{\u001b[0m\u001b[1;33m}\u001b[0m\u001b[1;33m\u001b[0m\u001b[1;33m\u001b[0m\u001b[0m\n\u001b[0;32m     29\u001b[0m \u001b[1;33m\u001b[0m\u001b[0m\n\u001b[1;32m---> 30\u001b[1;33m \u001b[1;32mfrom\u001b[0m \u001b[0mexceptions\u001b[0m \u001b[1;32mimport\u001b[0m \u001b[0mPendingDeprecationWarning\u001b[0m\u001b[1;33m\u001b[0m\u001b[1;33m\u001b[0m\u001b[0m\n\u001b[0m\u001b[0;32m     31\u001b[0m \u001b[1;32mfrom\u001b[0m \u001b[0mwarnings\u001b[0m \u001b[1;32mimport\u001b[0m \u001b[0mwarn\u001b[0m\u001b[1;33m\u001b[0m\u001b[1;33m\u001b[0m\u001b[0m\n\u001b[0;32m     32\u001b[0m \u001b[1;33m\u001b[0m\u001b[0m\n",
      "\u001b[1;31mModuleNotFoundError\u001b[0m: No module named 'exceptions'"
     ]
    }
   ],
   "source": [
    "from docx import Document\n",
    "\n",
    "document = Document(\"Desktop/AprajitaSrivastava_.docx\")\n",
    "\n",
    "# Find the index of the `Summary of Broadspectrum Offer` syntax and store it\n",
    "ind = [i for i, para in enumerate(document.paragraphs) if 'Summary of Broadspectrum Offer' in para.text]\n",
    "# Print the text for any element with an index greater than the index found in the list comprehension above\n",
    "if ind:\n",
    "    for i, para in enumerate(document.paragraphs):\n",
    "        if i > ind[0]:\n",
    "             print(para.text)  "
   ]
  },
  {
   "cell_type": "code",
   "execution_count": null,
   "metadata": {},
   "outputs": [],
   "source": [
    "from pdfminer.layout import LAParams, LTTextBox\n",
    "from pdfminer.pdfpage import PDFPage\n",
    "from pdfminer.pdfinterp import PDFResourceManager\n",
    "from pdfminer.pdfinterp import PDFPageInterpreter\n",
    "from pdfminer.converter import PDFPageAggregator\n",
    "\n",
    "fp = open('Desktop/Resume-Ashok.pdf', 'rb')\n",
    "rsrcmgr = PDFResourceManager()\n",
    "laparams = LAParams()\n",
    "device = PDFPageAggregator(rsrcmgr, laparams=laparams)\n",
    "interpreter = PDFPageInterpreter(rsrcmgr, device)\n",
    "pages = PDFPage.get_pages(fp,check_extractable=False)\n",
    "\n",
    "for page in pages:\n",
    "    sss=[]\n",
    "    print('Processing next page...')\n",
    "    interpreter.process_page(page)\n",
    "    layout = device.get_result()\n",
    "    for lobj in layout:\n",
    "        if isinstance(lobj, LTTextBox):\n",
    "            x, y, text = lobj.bbox[0], lobj.bbox[3], lobj.get_text()\n",
    "            #print('At %r is text: %s' % ((x, y), text))\n",
    "            sss.append(text)\n",
    "    #print(sss)\n",
    "    nn=[]\n",
    "    for i in sss:\n",
    "        #print(i)\n",
    "        nn.append(i)\n",
    "    print(nn)"
   ]
  },
  {
   "cell_type": "code",
   "execution_count": 585,
   "metadata": {},
   "outputs": [
    {
     "name": "stdout",
     "output_type": "stream",
     "text": [
      "Processing next page...\n",
      "At (227.62, 749.38) is text: Ashok S \n",
      "\n",
      "At (227.62, 732.5799999999999) is text: 7795801335 / 7358565121  \n",
      "\n",
      "At (219.91, 719.14) is text:    ashoksubramaniam91@gmail.com \n",
      "\n",
      "At (203.83, 710.98) is text:  \n",
      "\n",
      "At (432.89, 712.42) is text:  \n",
      "\n",
      "At (70.584, 695.62) is text:  SUMMARY \n",
      "▪ \n",
      "\n",
      "At (90.024, 681.9399999999999) is text: Knowledge in machine learning, data analysis & visualization with hands-on diverse experience \n",
      "\n",
      "At (90.024, 661.75) is text: across all major Sectors. \n",
      "\n",
      "At (70.584, 633.91) is text:  KEY SKILLS \n",
      "\n",
      "At (84.984, 616.39) is text:   Python (Data Visualization, Data Wrangling using Python libraries) \n",
      "\n",
      "At (84.984, 595.2882400000001) is text:  \n",
      "\n",
      "At (103.01, 596.23) is text: SQL, Data Modeling and Data Warehousing. \n",
      "\n",
      "At (84.984, 576.05) is text:   Reporting and BI Tools: Tableau \n",
      "\n",
      "At (84.984, 554.94824) is text:  \n",
      "\n",
      "At (84.984, 534.7882400000001) is text:  \n",
      "\n",
      "At (103.01, 555.89) is text: Statistics \n",
      "\n",
      "At (103.01, 535.73) is text: Time series Forecasting, ARIMA and Data Mining. \n",
      "\n",
      "At (535.63, 710.02) is text:  \n",
      "\n",
      "At (541.63, 695.62) is text:  \n",
      "\n",
      "At (541.63, 633.91) is text:  \n",
      "\n",
      "At (84.984, 515.81) is text:   Machine Learning -Regression, Classification (Logistic Regression, KNN, SVM, Naïve Bayes, Decision \n",
      "\n",
      "At (103.01, 495.61999999999995) is text: Tree), Clustering (K-Means, Agglomerative), Ensemble Techniques, Text Mining & Sentimental \n",
      "\n",
      "At (103.01, 475.46) is text: Analysis \n",
      "\n",
      "At (70.584, 441.38) is text:   SKILLS SUMMARY \n",
      "\n",
      "At (90.024, 423.84) is text: •  Programming languages: Python, Java, Jupiter Notebook. \n",
      "\n",
      "At (90.024, 403.44) is text: •  Operating Systems  : Windows \n",
      "\n",
      "At (90.024, 383.03999999999996) is text: •  Database \n",
      "\n",
      "At (193.75, 383.03999999999996) is text: : MS-SQL Server 2008 & 2012 \n",
      "\n",
      "At (90.024, 362.88) is text: •  Virtualization Tools  : Tableau. \n",
      "\n",
      "At (541.63, 441.38) is text:  \n",
      "\n",
      "At (90.024, 342.46) is text: •  Machine Learning \n",
      "\n",
      "At (193.99, 342.46) is text: : Model Like-Regression, SVM, Random Forest, KNN, K-Neighbors, PCA. \n",
      "\n",
      "At (90.024, 322.29999999999995) is text: •  Data Modelling techniques: Pre-processing, Data Modelling using NumPy, Pandas, SciPy \n",
      "\n",
      "At (66.744, 288.7) is text:   PROFESSIONAL SUMMARY (Tata Consultancy Services Pvt Ltd Jan 2015 – Dec 2018)                                            \n",
      "\n",
      "At (60.984, 454.82) is text:  \n",
      "\n",
      "At (60.984, 302.14) is text:  \n",
      "\n",
      "At (60.984, 252.43) is text:    Data Analyst (Nov 2018 – Dec 2019): \n",
      "\n",
      "At (78.984, 232.27) is text:   Extracting data from SQL, Data Crawling from Web sites using Beautiful Soap \n",
      "\n",
      "At (78.984, 210.19) is text:   Experienced with working on statistical models in Excel \n",
      "\n",
      "At (78.984, 188.11) is text:   Built  Predictive  Models  /  Data  Science  Models,  familiar  with  data  analysis,  data  sampling,  data \n",
      "\n",
      "At (97.008, 172.73) is text: classification & data visualization techniques, mathematical models and algorithms. \n",
      "\n",
      "At (89.304, 150.65) is text:  \n",
      "\n",
      "At (66.744, 135.53) is text: Automation & Manual Tester (Jan 2015 – Oct 2017): \n",
      "\n",
      "At (78.984, 106.00512) is text:  \n",
      "\n",
      "At (97.008, 106.248) is text: ISTQB foundation level certified tester. \n",
      "\n",
      "At (78.984, 85.584) is text:   Managed a team of 3 as part of regression testing. \n",
      "\n",
      "At (78.984, 64.704) is text:   Have good understanding of test design, identification of automation test scenarios, scoping of \n",
      "\n",
      "At (97.008, 44.544000000000004) is text: functional requirements, test execution and defect analysis/reporting, report testing. \n",
      "\n",
      "Processing next page...\n",
      "At (78.984, 753.22) is text:   Have been fully involved in developing scripts to automate functional test scenarios in Regression \n",
      "\n",
      "At (97.008, 733.06) is text: Test Suite. \n",
      "\n",
      "At (78.984, 712.42) is text:   Have been involved in Defect Life Cycle, Analysis and reporting, SQL. \n",
      "\n",
      "At (78.984, 691.54) is text:   Have used HP Quality Centre and JIRA as Test Management Tool. \n",
      "\n",
      "At (78.984, 670.87) is text:   Expertise in UAT testing, and client interaction \n",
      "\n",
      "At (78.984, 650.23) is text:   On the spot award for best associate. \n",
      "\n",
      "At (60.984, 630.0699999999999) is text:  \n",
      "ACADEMIC PROJECTS  \n",
      "\n",
      "At (78.984, 598.62712) is text:  \n",
      "\n",
      "At (97.008, 598.87) is text: IPL Player auction price prediction \n",
      "\n",
      "At (78.984, 578.6899999999999) is text: Developed a predictive model by using ensemble machine learning models to predict the potential IPL \n",
      "\n",
      "At (92.904, 558.53) is text: player price based on the given features. \n",
      "\n",
      "At (78.984, 534.29) is text:  \n",
      "\n",
      "At (90.024, 516.77) is text: Key  skills:  Data  Crawling,  Python,  Data  Transformation,  Linear  Regression,  Decision  Tree,  Random \n",
      "\n",
      "At (103.97, 503.29999999999995) is text: Forest \n",
      "\n",
      "At (90.024, 486.02) is text:  \n",
      "\n",
      "At (78.984, 467.77712) is text:  \n",
      "\n",
      "At (97.008, 468.02) is text: Identifying Diabetes Patients \n",
      "\n",
      "At (78.984, 447.85999999999996) is text: Created a prediction model to identify diabetic patients by applying PCA for dimension reduction, \n",
      "\n",
      "At (92.904, 427.7) is text: followed by ensemble machine learning techniques. \n",
      "\n",
      "At (78.984, 403.44) is text:  \n",
      "\n",
      "At (60.984, 386.15999999999997) is text:                Key skills: Python, PCA, Logistics Regression, Decision Trees, Random Forest,  \n",
      "               K-Nearest Neighbours, Naive Bayes, Boosting      \n",
      " \n",
      "EDUCATION \n",
      "\n",
      "At (126.53, 327.34) is text: Course \n",
      "\n",
      "At (296.04, 327.34) is text: Institution \n",
      "\n",
      "At (66.504, 309.34) is text: Post Graduate Program in Data \n",
      "Science & Engineering – Full Time \n",
      "\n",
      "At (229.06, 309.34) is text: Great Lakes Institute of Management \n",
      "\n",
      "At (437.21, 327.34) is text: Year \n",
      "\n",
      "At (436.49, 309.34) is text: 2019 \n",
      "\n",
      "At (484.51, 327.34) is text: Remarks \n",
      "\n",
      "At (494.83, 309.34) is text: 84% \n",
      "\n",
      "At (66.504, 278.14) is text: M.Sc (Software Technology) \n",
      "\n",
      "At (229.06, 278.14) is text: Vellore Institute of Technology, Vellore \n",
      "\n",
      "At (436.49, 278.14) is text: 2014 \n",
      "\n",
      "At (490.51, 278.14) is text: 89.9%  \n",
      "\n",
      "At (66.504, 246.91) is text: B.Sc (Computer Science, Maths, \n",
      "Electronics) \n",
      "12thStd / PUC \n",
      "\n",
      "At (66.504, 185.29) is text: 10thStd \n",
      "\n",
      "At (66.744, 153.53) is text:  \n",
      "\n",
      "At (229.06, 246.91) is text: St. Joseph’s Arts & Science College \n",
      "\n",
      "At (436.49, 246.91) is text: 2012 \n",
      "\n",
      "At (494.83, 246.91) is text: 65% \n",
      "\n",
      "At (229.06, 215.71) is text: Sheshadripuram Independent Pre \n",
      "University College \n",
      "\n",
      "At (436.49, 215.71) is text: 2008 \n",
      "\n",
      "At (490.51, 215.71) is text: 61.1% \n",
      "\n",
      "At (229.06, 184.27) is text: St. Joseph’s Indian High School \n",
      "\n",
      "At (436.49, 184.27) is text: 2006 \n",
      "\n",
      "At (487.87, 184.27) is text: 64.80% \n",
      "\n"
     ]
    }
   ],
   "source": [
    "from pdfminer.layout import LAParams, LTTextBox\n",
    "from pdfminer.pdfpage import PDFPage\n",
    "from pdfminer.pdfinterp import PDFResourceManager\n",
    "from pdfminer.pdfinterp import PDFPageInterpreter\n",
    "from pdfminer.converter import PDFPageAggregator\n",
    "\n",
    "fp = open('Desktop/Resume-Ashok.pdf', 'rb')\n",
    "rsrcmgr = PDFResourceManager()\n",
    "laparams = LAParams()\n",
    "device = PDFPageAggregator(rsrcmgr, laparams=laparams)\n",
    "interpreter = PDFPageInterpreter(rsrcmgr, device)\n",
    "pages = PDFPage.get_pages(fp,check_extractable=False)\n",
    "\n",
    "for page in pages:\n",
    "    sss=[]\n",
    "    print('Processing next page...')\n",
    "    interpreter.process_page(page)\n",
    "    layout = device.get_result()\n",
    "    for lobj in layout:\n",
    "        if isinstance(lobj, LTTextBox):\n",
    "            x, y, text = lobj.bbox[0], lobj.bbox[3], lobj.get_text()\n",
    "            print('At %r is text: %s' % ((x, y), text))"
   ]
  },
  {
   "cell_type": "code",
   "execution_count": 586,
   "metadata": {},
   "outputs": [
    {
     "name": "stdout",
     "output_type": "stream",
     "text": [
      "LTTextBoxHorizontal\n",
      "(227.62, 738.34, 264.91504000000003, 749.38)\n",
      "['Ashok S \\n']\n",
      "LTTextBoxHorizontal\n",
      "(227.62, 721.54, 353.25504, 732.5799999999999)\n",
      "['Ashok S \\n', '7795801335 / 7358565121  \\n']\n",
      "LTTextBoxHorizontal\n",
      "(219.91, 708.1, 384.49808, 719.14)\n",
      "['Ashok S \\n', '7795801335 / 7358565121  \\n', '   ashoksubramaniam91@gmail.com \\n']\n",
      "LTTextBoxHorizontal\n",
      "(203.83, 699.94, 206.32504, 710.98)\n",
      "['Ashok S \\n', '7795801335 / 7358565121  \\n', '   ashoksubramaniam91@gmail.com \\n', ' \\n']\n",
      "LTTextBoxHorizontal\n",
      "(432.89, 701.38, 435.38504, 712.42)\n",
      "['Ashok S \\n', '7795801335 / 7358565121  \\n', '   ashoksubramaniam91@gmail.com \\n', ' \\n', ' \\n']\n",
      "LTTextBoxHorizontal\n",
      "(70.584, 671.14, 124.94504, 695.62)\n",
      "['Ashok S \\n', '7795801335 / 7358565121  \\n', '   ashoksubramaniam91@gmail.com \\n', ' \\n', ' \\n', ' SUMMARY \\n▪ \\n']\n",
      "LTTextBoxHorizontal\n",
      "(90.024, 670.9, 510.64832, 681.9399999999999)\n",
      "['Ashok S \\n', '7795801335 / 7358565121  \\n', '   ashoksubramaniam91@gmail.com \\n', ' \\n', ' \\n', ' SUMMARY \\n▪ \\n', 'Knowledge in machine learning, data analysis & visualization with hands-on diverse experience \\n']\n",
      "LTTextBoxHorizontal\n",
      "(90.024, 650.71, 200.80504, 661.75)\n",
      "['Ashok S \\n', '7795801335 / 7358565121  \\n', '   ashoksubramaniam91@gmail.com \\n', ' \\n', ' \\n', ' SUMMARY \\n▪ \\n', 'Knowledge in machine learning, data analysis & visualization with hands-on diverse experience \\n', 'across all major Sectors. \\n']\n",
      "LTTextBoxHorizontal\n",
      "(70.584, 622.87, 122.06504, 633.91)\n",
      "['Ashok S \\n', '7795801335 / 7358565121  \\n', '   ashoksubramaniam91@gmail.com \\n', ' \\n', ' \\n', ' SUMMARY \\n▪ \\n', 'Knowledge in machine learning, data analysis & visualization with hands-on diverse experience \\n', 'across all major Sectors. \\n', ' KEY SKILLS \\n']\n",
      "LTTextBoxHorizontal\n",
      "(84.984, 605.35, 400.07504, 616.39)\n",
      "['Ashok S \\n', '7795801335 / 7358565121  \\n', '   ashoksubramaniam91@gmail.com \\n', ' \\n', ' \\n', ' SUMMARY \\n▪ \\n', 'Knowledge in machine learning, data analysis & visualization with hands-on diverse experience \\n', 'across all major Sectors. \\n', ' KEY SKILLS \\n', '\\uf0b7  Python (Data Visualization, Data Wrangling using Python libraries) \\n']\n",
      "LTTextBoxHorizontal\n",
      "(84.984, 585.77272, 92.19875810879999, 595.2882400000001)\n",
      "['Ashok S \\n', '7795801335 / 7358565121  \\n', '   ashoksubramaniam91@gmail.com \\n', ' \\n', ' \\n', ' SUMMARY \\n▪ \\n', 'Knowledge in machine learning, data analysis & visualization with hands-on diverse experience \\n', 'across all major Sectors. \\n', ' KEY SKILLS \\n', '\\uf0b7  Python (Data Visualization, Data Wrangling using Python libraries) \\n', '\\uf0b7 \\n']\n",
      "LTTextBoxHorizontal\n",
      "(103.01, 585.19, 301.41504000000003, 596.23)\n",
      "['Ashok S \\n', '7795801335 / 7358565121  \\n', '   ashoksubramaniam91@gmail.com \\n', ' \\n', ' \\n', ' SUMMARY \\n▪ \\n', 'Knowledge in machine learning, data analysis & visualization with hands-on diverse experience \\n', 'across all major Sectors. \\n', ' KEY SKILLS \\n', '\\uf0b7  Python (Data Visualization, Data Wrangling using Python libraries) \\n', '\\uf0b7 \\n', 'SQL, Data Modeling and Data Warehousing. \\n']\n",
      "LTTextBoxHorizontal\n",
      "(84.984, 565.01, 245.71504, 576.05)\n",
      "['Ashok S \\n', '7795801335 / 7358565121  \\n', '   ashoksubramaniam91@gmail.com \\n', ' \\n', ' \\n', ' SUMMARY \\n▪ \\n', 'Knowledge in machine learning, data analysis & visualization with hands-on diverse experience \\n', 'across all major Sectors. \\n', ' KEY SKILLS \\n', '\\uf0b7  Python (Data Visualization, Data Wrangling using Python libraries) \\n', '\\uf0b7 \\n', 'SQL, Data Modeling and Data Warehousing. \\n', '\\uf0b7  Reporting and BI Tools: Tableau \\n']\n",
      "LTTextBoxHorizontal\n",
      "(84.984, 545.43272, 92.19875810879999, 554.94824)\n",
      "['Ashok S \\n', '7795801335 / 7358565121  \\n', '   ashoksubramaniam91@gmail.com \\n', ' \\n', ' \\n', ' SUMMARY \\n▪ \\n', 'Knowledge in machine learning, data analysis & visualization with hands-on diverse experience \\n', 'across all major Sectors. \\n', ' KEY SKILLS \\n', '\\uf0b7  Python (Data Visualization, Data Wrangling using Python libraries) \\n', '\\uf0b7 \\n', 'SQL, Data Modeling and Data Warehousing. \\n', '\\uf0b7  Reporting and BI Tools: Tableau \\n', '\\uf0b7 \\n']\n",
      "LTTextBoxHorizontal\n",
      "(84.984, 525.27272, 92.19875810879999, 534.7882400000001)\n",
      "['Ashok S \\n', '7795801335 / 7358565121  \\n', '   ashoksubramaniam91@gmail.com \\n', ' \\n', ' \\n', ' SUMMARY \\n▪ \\n', 'Knowledge in machine learning, data analysis & visualization with hands-on diverse experience \\n', 'across all major Sectors. \\n', ' KEY SKILLS \\n', '\\uf0b7  Python (Data Visualization, Data Wrangling using Python libraries) \\n', '\\uf0b7 \\n', 'SQL, Data Modeling and Data Warehousing. \\n', '\\uf0b7  Reporting and BI Tools: Tableau \\n', '\\uf0b7 \\n', '\\uf0b7 \\n']\n",
      "LTTextBoxHorizontal\n",
      "(103.01, 544.85, 145.10504, 555.89)\n",
      "['Ashok S \\n', '7795801335 / 7358565121  \\n', '   ashoksubramaniam91@gmail.com \\n', ' \\n', ' \\n', ' SUMMARY \\n▪ \\n', 'Knowledge in machine learning, data analysis & visualization with hands-on diverse experience \\n', 'across all major Sectors. \\n', ' KEY SKILLS \\n', '\\uf0b7  Python (Data Visualization, Data Wrangling using Python libraries) \\n', '\\uf0b7 \\n', 'SQL, Data Modeling and Data Warehousing. \\n', '\\uf0b7  Reporting and BI Tools: Tableau \\n', '\\uf0b7 \\n', '\\uf0b7 \\n', 'Statistics \\n']\n",
      "LTTextBoxHorizontal\n",
      "(103.01, 524.69, 325.89504, 535.73)\n",
      "['Ashok S \\n', '7795801335 / 7358565121  \\n', '   ashoksubramaniam91@gmail.com \\n', ' \\n', ' \\n', ' SUMMARY \\n▪ \\n', 'Knowledge in machine learning, data analysis & visualization with hands-on diverse experience \\n', 'across all major Sectors. \\n', ' KEY SKILLS \\n', '\\uf0b7  Python (Data Visualization, Data Wrangling using Python libraries) \\n', '\\uf0b7 \\n', 'SQL, Data Modeling and Data Warehousing. \\n', '\\uf0b7  Reporting and BI Tools: Tableau \\n', '\\uf0b7 \\n', '\\uf0b7 \\n', 'Statistics \\n', 'Time series Forecasting, ARIMA and Data Mining. \\n']\n",
      "LTTextBoxHorizontal\n",
      "(535.63, 698.98, 538.12504, 710.02)\n",
      "['Ashok S \\n', '7795801335 / 7358565121  \\n', '   ashoksubramaniam91@gmail.com \\n', ' \\n', ' \\n', ' SUMMARY \\n▪ \\n', 'Knowledge in machine learning, data analysis & visualization with hands-on diverse experience \\n', 'across all major Sectors. \\n', ' KEY SKILLS \\n', '\\uf0b7  Python (Data Visualization, Data Wrangling using Python libraries) \\n', '\\uf0b7 \\n', 'SQL, Data Modeling and Data Warehousing. \\n', '\\uf0b7  Reporting and BI Tools: Tableau \\n', '\\uf0b7 \\n', '\\uf0b7 \\n', 'Statistics \\n', 'Time series Forecasting, ARIMA and Data Mining. \\n', ' \\n']\n",
      "LTTextBoxHorizontal\n",
      "(541.63, 684.58, 544.12504, 695.62)\n",
      "['Ashok S \\n', '7795801335 / 7358565121  \\n', '   ashoksubramaniam91@gmail.com \\n', ' \\n', ' \\n', ' SUMMARY \\n▪ \\n', 'Knowledge in machine learning, data analysis & visualization with hands-on diverse experience \\n', 'across all major Sectors. \\n', ' KEY SKILLS \\n', '\\uf0b7  Python (Data Visualization, Data Wrangling using Python libraries) \\n', '\\uf0b7 \\n', 'SQL, Data Modeling and Data Warehousing. \\n', '\\uf0b7  Reporting and BI Tools: Tableau \\n', '\\uf0b7 \\n', '\\uf0b7 \\n', 'Statistics \\n', 'Time series Forecasting, ARIMA and Data Mining. \\n', ' \\n', ' \\n']\n",
      "LTTextBoxHorizontal\n",
      "(541.63, 622.87, 544.12504, 633.91)\n",
      "['Ashok S \\n', '7795801335 / 7358565121  \\n', '   ashoksubramaniam91@gmail.com \\n', ' \\n', ' \\n', ' SUMMARY \\n▪ \\n', 'Knowledge in machine learning, data analysis & visualization with hands-on diverse experience \\n', 'across all major Sectors. \\n', ' KEY SKILLS \\n', '\\uf0b7  Python (Data Visualization, Data Wrangling using Python libraries) \\n', '\\uf0b7 \\n', 'SQL, Data Modeling and Data Warehousing. \\n', '\\uf0b7  Reporting and BI Tools: Tableau \\n', '\\uf0b7 \\n', '\\uf0b7 \\n', 'Statistics \\n', 'Time series Forecasting, ARIMA and Data Mining. \\n', ' \\n', ' \\n', ' \\n']\n",
      "LTTextBoxHorizontal\n",
      "(84.984, 504.77, 546.91696, 515.81)\n"
     ]
    },
    {
     "name": "stdout",
     "output_type": "stream",
     "text": [
      "['Ashok S \\n', '7795801335 / 7358565121  \\n', '   ashoksubramaniam91@gmail.com \\n', ' \\n', ' \\n', ' SUMMARY \\n▪ \\n', 'Knowledge in machine learning, data analysis & visualization with hands-on diverse experience \\n', 'across all major Sectors. \\n', ' KEY SKILLS \\n', '\\uf0b7  Python (Data Visualization, Data Wrangling using Python libraries) \\n', '\\uf0b7 \\n', 'SQL, Data Modeling and Data Warehousing. \\n', '\\uf0b7  Reporting and BI Tools: Tableau \\n', '\\uf0b7 \\n', '\\uf0b7 \\n', 'Statistics \\n', 'Time series Forecasting, ARIMA and Data Mining. \\n', ' \\n', ' \\n', ' \\n', '\\uf0b7  Machine Learning -Regression, Classification (Logistic Regression, KNN, SVM, Naïve Bayes, Decision \\n']\n",
      "LTTextBoxHorizontal\n",
      "(103.01, 484.58, 524.72016, 495.61999999999995)\n",
      "['Ashok S \\n', '7795801335 / 7358565121  \\n', '   ashoksubramaniam91@gmail.com \\n', ' \\n', ' \\n', ' SUMMARY \\n▪ \\n', 'Knowledge in machine learning, data analysis & visualization with hands-on diverse experience \\n', 'across all major Sectors. \\n', ' KEY SKILLS \\n', '\\uf0b7  Python (Data Visualization, Data Wrangling using Python libraries) \\n', '\\uf0b7 \\n', 'SQL, Data Modeling and Data Warehousing. \\n', '\\uf0b7  Reporting and BI Tools: Tableau \\n', '\\uf0b7 \\n', '\\uf0b7 \\n', 'Statistics \\n', 'Time series Forecasting, ARIMA and Data Mining. \\n', ' \\n', ' \\n', ' \\n', '\\uf0b7  Machine Learning -Regression, Classification (Logistic Regression, KNN, SVM, Naïve Bayes, Decision \\n', 'Tree), Clustering (K-Means, Agglomerative), Ensemble Techniques, Text Mining & Sentimental \\n']\n",
      "LTTextBoxHorizontal\n",
      "(103.01, 464.42, 141.50503999999998, 475.46)\n",
      "['Ashok S \\n', '7795801335 / 7358565121  \\n', '   ashoksubramaniam91@gmail.com \\n', ' \\n', ' \\n', ' SUMMARY \\n▪ \\n', 'Knowledge in machine learning, data analysis & visualization with hands-on diverse experience \\n', 'across all major Sectors. \\n', ' KEY SKILLS \\n', '\\uf0b7  Python (Data Visualization, Data Wrangling using Python libraries) \\n', '\\uf0b7 \\n', 'SQL, Data Modeling and Data Warehousing. \\n', '\\uf0b7  Reporting and BI Tools: Tableau \\n', '\\uf0b7 \\n', '\\uf0b7 \\n', 'Statistics \\n', 'Time series Forecasting, ARIMA and Data Mining. \\n', ' \\n', ' \\n', ' \\n', '\\uf0b7  Machine Learning -Regression, Classification (Logistic Regression, KNN, SVM, Naïve Bayes, Decision \\n', 'Tree), Clustering (K-Means, Agglomerative), Ensemble Techniques, Text Mining & Sentimental \\n', 'Analysis \\n']\n",
      "LTTextBoxHorizontal\n",
      "(70.584, 430.34000000000003, 149.66503999999998, 441.38)\n",
      "['Ashok S \\n', '7795801335 / 7358565121  \\n', '   ashoksubramaniam91@gmail.com \\n', ' \\n', ' \\n', ' SUMMARY \\n▪ \\n', 'Knowledge in machine learning, data analysis & visualization with hands-on diverse experience \\n', 'across all major Sectors. \\n', ' KEY SKILLS \\n', '\\uf0b7  Python (Data Visualization, Data Wrangling using Python libraries) \\n', '\\uf0b7 \\n', 'SQL, Data Modeling and Data Warehousing. \\n', '\\uf0b7  Reporting and BI Tools: Tableau \\n', '\\uf0b7 \\n', '\\uf0b7 \\n', 'Statistics \\n', 'Time series Forecasting, ARIMA and Data Mining. \\n', ' \\n', ' \\n', ' \\n', '\\uf0b7  Machine Learning -Regression, Classification (Logistic Regression, KNN, SVM, Naïve Bayes, Decision \\n', 'Tree), Clustering (K-Means, Agglomerative), Ensemble Techniques, Text Mining & Sentimental \\n', 'Analysis \\n', '  SKILLS SUMMARY \\n']\n",
      "LTTextBoxHorizontal\n",
      "(90.024, 412.8, 361.43504, 423.84)\n",
      "['Ashok S \\n', '7795801335 / 7358565121  \\n', '   ashoksubramaniam91@gmail.com \\n', ' \\n', ' \\n', ' SUMMARY \\n▪ \\n', 'Knowledge in machine learning, data analysis & visualization with hands-on diverse experience \\n', 'across all major Sectors. \\n', ' KEY SKILLS \\n', '\\uf0b7  Python (Data Visualization, Data Wrangling using Python libraries) \\n', '\\uf0b7 \\n', 'SQL, Data Modeling and Data Warehousing. \\n', '\\uf0b7  Reporting and BI Tools: Tableau \\n', '\\uf0b7 \\n', '\\uf0b7 \\n', 'Statistics \\n', 'Time series Forecasting, ARIMA and Data Mining. \\n', ' \\n', ' \\n', ' \\n', '\\uf0b7  Machine Learning -Regression, Classification (Logistic Regression, KNN, SVM, Naïve Bayes, Decision \\n', 'Tree), Clustering (K-Means, Agglomerative), Ensemble Techniques, Text Mining & Sentimental \\n', 'Analysis \\n', '  SKILLS SUMMARY \\n', '•  Programming languages: Python, Java, Jupiter Notebook. \\n']\n",
      "LTTextBoxHorizontal\n",
      "(90.024, 392.40000000000003, 242.83504, 403.44)\n",
      "['Ashok S \\n', '7795801335 / 7358565121  \\n', '   ashoksubramaniam91@gmail.com \\n', ' \\n', ' \\n', ' SUMMARY \\n▪ \\n', 'Knowledge in machine learning, data analysis & visualization with hands-on diverse experience \\n', 'across all major Sectors. \\n', ' KEY SKILLS \\n', '\\uf0b7  Python (Data Visualization, Data Wrangling using Python libraries) \\n', '\\uf0b7 \\n', 'SQL, Data Modeling and Data Warehousing. \\n', '\\uf0b7  Reporting and BI Tools: Tableau \\n', '\\uf0b7 \\n', '\\uf0b7 \\n', 'Statistics \\n', 'Time series Forecasting, ARIMA and Data Mining. \\n', ' \\n', ' \\n', ' \\n', '\\uf0b7  Machine Learning -Regression, Classification (Logistic Regression, KNN, SVM, Naïve Bayes, Decision \\n', 'Tree), Clustering (K-Means, Agglomerative), Ensemble Techniques, Text Mining & Sentimental \\n', 'Analysis \\n', '  SKILLS SUMMARY \\n', '•  Programming languages: Python, Java, Jupiter Notebook. \\n', '•  Operating Systems  : Windows \\n']\n",
      "LTTextBoxHorizontal\n",
      "(90.024, 372.0, 148.22503999999998, 383.03999999999996)\n",
      "['Ashok S \\n', '7795801335 / 7358565121  \\n', '   ashoksubramaniam91@gmail.com \\n', ' \\n', ' \\n', ' SUMMARY \\n▪ \\n', 'Knowledge in machine learning, data analysis & visualization with hands-on diverse experience \\n', 'across all major Sectors. \\n', ' KEY SKILLS \\n', '\\uf0b7  Python (Data Visualization, Data Wrangling using Python libraries) \\n', '\\uf0b7 \\n', 'SQL, Data Modeling and Data Warehousing. \\n', '\\uf0b7  Reporting and BI Tools: Tableau \\n', '\\uf0b7 \\n', '\\uf0b7 \\n', 'Statistics \\n', 'Time series Forecasting, ARIMA and Data Mining. \\n', ' \\n', ' \\n', ' \\n', '\\uf0b7  Machine Learning -Regression, Classification (Logistic Regression, KNN, SVM, Naïve Bayes, Decision \\n', 'Tree), Clustering (K-Means, Agglomerative), Ensemble Techniques, Text Mining & Sentimental \\n', 'Analysis \\n', '  SKILLS SUMMARY \\n', '•  Programming languages: Python, Java, Jupiter Notebook. \\n', '•  Operating Systems  : Windows \\n', '•  Database \\n']\n",
      "LTTextBoxHorizontal\n",
      "(193.75, 372.0, 327.33504, 383.03999999999996)\n",
      "['Ashok S \\n', '7795801335 / 7358565121  \\n', '   ashoksubramaniam91@gmail.com \\n', ' \\n', ' \\n', ' SUMMARY \\n▪ \\n', 'Knowledge in machine learning, data analysis & visualization with hands-on diverse experience \\n', 'across all major Sectors. \\n', ' KEY SKILLS \\n', '\\uf0b7  Python (Data Visualization, Data Wrangling using Python libraries) \\n', '\\uf0b7 \\n', 'SQL, Data Modeling and Data Warehousing. \\n', '\\uf0b7  Reporting and BI Tools: Tableau \\n', '\\uf0b7 \\n', '\\uf0b7 \\n', 'Statistics \\n', 'Time series Forecasting, ARIMA and Data Mining. \\n', ' \\n', ' \\n', ' \\n', '\\uf0b7  Machine Learning -Regression, Classification (Logistic Regression, KNN, SVM, Naïve Bayes, Decision \\n', 'Tree), Clustering (K-Means, Agglomerative), Ensemble Techniques, Text Mining & Sentimental \\n', 'Analysis \\n', '  SKILLS SUMMARY \\n', '•  Programming languages: Python, Java, Jupiter Notebook. \\n', '•  Operating Systems  : Windows \\n', '•  Database \\n', ': MS-SQL Server 2008 & 2012 \\n']\n",
      "LTTextBoxHorizontal\n",
      "(90.024, 351.84000000000003, 241.15503999999999, 362.88)\n"
     ]
    },
    {
     "name": "stdout",
     "output_type": "stream",
     "text": [
      "['Ashok S \\n', '7795801335 / 7358565121  \\n', '   ashoksubramaniam91@gmail.com \\n', ' \\n', ' \\n', ' SUMMARY \\n▪ \\n', 'Knowledge in machine learning, data analysis & visualization with hands-on diverse experience \\n', 'across all major Sectors. \\n', ' KEY SKILLS \\n', '\\uf0b7  Python (Data Visualization, Data Wrangling using Python libraries) \\n', '\\uf0b7 \\n', 'SQL, Data Modeling and Data Warehousing. \\n', '\\uf0b7  Reporting and BI Tools: Tableau \\n', '\\uf0b7 \\n', '\\uf0b7 \\n', 'Statistics \\n', 'Time series Forecasting, ARIMA and Data Mining. \\n', ' \\n', ' \\n', ' \\n', '\\uf0b7  Machine Learning -Regression, Classification (Logistic Regression, KNN, SVM, Naïve Bayes, Decision \\n', 'Tree), Clustering (K-Means, Agglomerative), Ensemble Techniques, Text Mining & Sentimental \\n', 'Analysis \\n', '  SKILLS SUMMARY \\n', '•  Programming languages: Python, Java, Jupiter Notebook. \\n', '•  Operating Systems  : Windows \\n', '•  Database \\n', ': MS-SQL Server 2008 & 2012 \\n', '•  Virtualization Tools  : Tableau. \\n']\n",
      "LTTextBoxHorizontal\n",
      "(541.63, 430.34000000000003, 544.12504, 441.38)\n",
      "['Ashok S \\n', '7795801335 / 7358565121  \\n', '   ashoksubramaniam91@gmail.com \\n', ' \\n', ' \\n', ' SUMMARY \\n▪ \\n', 'Knowledge in machine learning, data analysis & visualization with hands-on diverse experience \\n', 'across all major Sectors. \\n', ' KEY SKILLS \\n', '\\uf0b7  Python (Data Visualization, Data Wrangling using Python libraries) \\n', '\\uf0b7 \\n', 'SQL, Data Modeling and Data Warehousing. \\n', '\\uf0b7  Reporting and BI Tools: Tableau \\n', '\\uf0b7 \\n', '\\uf0b7 \\n', 'Statistics \\n', 'Time series Forecasting, ARIMA and Data Mining. \\n', ' \\n', ' \\n', ' \\n', '\\uf0b7  Machine Learning -Regression, Classification (Logistic Regression, KNN, SVM, Naïve Bayes, Decision \\n', 'Tree), Clustering (K-Means, Agglomerative), Ensemble Techniques, Text Mining & Sentimental \\n', 'Analysis \\n', '  SKILLS SUMMARY \\n', '•  Programming languages: Python, Java, Jupiter Notebook. \\n', '•  Operating Systems  : Windows \\n', '•  Database \\n', ': MS-SQL Server 2008 & 2012 \\n', '•  Virtualization Tools  : Tableau. \\n', ' \\n']\n",
      "LTTextBoxHorizontal\n",
      "(90.024, 331.42, 185.92504, 342.46)\n",
      "['Ashok S \\n', '7795801335 / 7358565121  \\n', '   ashoksubramaniam91@gmail.com \\n', ' \\n', ' \\n', ' SUMMARY \\n▪ \\n', 'Knowledge in machine learning, data analysis & visualization with hands-on diverse experience \\n', 'across all major Sectors. \\n', ' KEY SKILLS \\n', '\\uf0b7  Python (Data Visualization, Data Wrangling using Python libraries) \\n', '\\uf0b7 \\n', 'SQL, Data Modeling and Data Warehousing. \\n', '\\uf0b7  Reporting and BI Tools: Tableau \\n', '\\uf0b7 \\n', '\\uf0b7 \\n', 'Statistics \\n', 'Time series Forecasting, ARIMA and Data Mining. \\n', ' \\n', ' \\n', ' \\n', '\\uf0b7  Machine Learning -Regression, Classification (Logistic Regression, KNN, SVM, Naïve Bayes, Decision \\n', 'Tree), Clustering (K-Means, Agglomerative), Ensemble Techniques, Text Mining & Sentimental \\n', 'Analysis \\n', '  SKILLS SUMMARY \\n', '•  Programming languages: Python, Java, Jupiter Notebook. \\n', '•  Operating Systems  : Windows \\n', '•  Database \\n', ': MS-SQL Server 2008 & 2012 \\n', '•  Virtualization Tools  : Tableau. \\n', ' \\n', '•  Machine Learning \\n']\n",
      "LTTextBoxHorizontal\n",
      "(193.99, 331.42, 512.92504, 342.46)\n",
      "['Ashok S \\n', '7795801335 / 7358565121  \\n', '   ashoksubramaniam91@gmail.com \\n', ' \\n', ' \\n', ' SUMMARY \\n▪ \\n', 'Knowledge in machine learning, data analysis & visualization with hands-on diverse experience \\n', 'across all major Sectors. \\n', ' KEY SKILLS \\n', '\\uf0b7  Python (Data Visualization, Data Wrangling using Python libraries) \\n', '\\uf0b7 \\n', 'SQL, Data Modeling and Data Warehousing. \\n', '\\uf0b7  Reporting and BI Tools: Tableau \\n', '\\uf0b7 \\n', '\\uf0b7 \\n', 'Statistics \\n', 'Time series Forecasting, ARIMA and Data Mining. \\n', ' \\n', ' \\n', ' \\n', '\\uf0b7  Machine Learning -Regression, Classification (Logistic Regression, KNN, SVM, Naïve Bayes, Decision \\n', 'Tree), Clustering (K-Means, Agglomerative), Ensemble Techniques, Text Mining & Sentimental \\n', 'Analysis \\n', '  SKILLS SUMMARY \\n', '•  Programming languages: Python, Java, Jupiter Notebook. \\n', '•  Operating Systems  : Windows \\n', '•  Database \\n', ': MS-SQL Server 2008 & 2012 \\n', '•  Virtualization Tools  : Tableau. \\n', ' \\n', '•  Machine Learning \\n', ': Model Like-Regression, SVM, Random Forest, KNN, K-Neighbors, PCA. \\n']\n",
      "LTTextBoxHorizontal\n",
      "(90.024, 311.26, 498.04504000000003, 322.29999999999995)\n",
      "['Ashok S \\n', '7795801335 / 7358565121  \\n', '   ashoksubramaniam91@gmail.com \\n', ' \\n', ' \\n', ' SUMMARY \\n▪ \\n', 'Knowledge in machine learning, data analysis & visualization with hands-on diverse experience \\n', 'across all major Sectors. \\n', ' KEY SKILLS \\n', '\\uf0b7  Python (Data Visualization, Data Wrangling using Python libraries) \\n', '\\uf0b7 \\n', 'SQL, Data Modeling and Data Warehousing. \\n', '\\uf0b7  Reporting and BI Tools: Tableau \\n', '\\uf0b7 \\n', '\\uf0b7 \\n', 'Statistics \\n', 'Time series Forecasting, ARIMA and Data Mining. \\n', ' \\n', ' \\n', ' \\n', '\\uf0b7  Machine Learning -Regression, Classification (Logistic Regression, KNN, SVM, Naïve Bayes, Decision \\n', 'Tree), Clustering (K-Means, Agglomerative), Ensemble Techniques, Text Mining & Sentimental \\n', 'Analysis \\n', '  SKILLS SUMMARY \\n', '•  Programming languages: Python, Java, Jupiter Notebook. \\n', '•  Operating Systems  : Windows \\n', '•  Database \\n', ': MS-SQL Server 2008 & 2012 \\n', '•  Virtualization Tools  : Tableau. \\n', ' \\n', '•  Machine Learning \\n', ': Model Like-Regression, SVM, Random Forest, KNN, K-Neighbors, PCA. \\n', '•  Data Modelling techniques: Pre-processing, Data Modelling using NumPy, Pandas, SciPy \\n']\n",
      "LTTextBoxHorizontal\n",
      "(66.744, 277.66, 558.55504, 288.7)\n",
      "['Ashok S \\n', '7795801335 / 7358565121  \\n', '   ashoksubramaniam91@gmail.com \\n', ' \\n', ' \\n', ' SUMMARY \\n▪ \\n', 'Knowledge in machine learning, data analysis & visualization with hands-on diverse experience \\n', 'across all major Sectors. \\n', ' KEY SKILLS \\n', '\\uf0b7  Python (Data Visualization, Data Wrangling using Python libraries) \\n', '\\uf0b7 \\n', 'SQL, Data Modeling and Data Warehousing. \\n', '\\uf0b7  Reporting and BI Tools: Tableau \\n', '\\uf0b7 \\n', '\\uf0b7 \\n', 'Statistics \\n', 'Time series Forecasting, ARIMA and Data Mining. \\n', ' \\n', ' \\n', ' \\n', '\\uf0b7  Machine Learning -Regression, Classification (Logistic Regression, KNN, SVM, Naïve Bayes, Decision \\n', 'Tree), Clustering (K-Means, Agglomerative), Ensemble Techniques, Text Mining & Sentimental \\n', 'Analysis \\n', '  SKILLS SUMMARY \\n', '•  Programming languages: Python, Java, Jupiter Notebook. \\n', '•  Operating Systems  : Windows \\n', '•  Database \\n', ': MS-SQL Server 2008 & 2012 \\n', '•  Virtualization Tools  : Tableau. \\n', ' \\n', '•  Machine Learning \\n', ': Model Like-Regression, SVM, Random Forest, KNN, K-Neighbors, PCA. \\n', '•  Data Modelling techniques: Pre-processing, Data Modelling using NumPy, Pandas, SciPy \\n', '  PROFESSIONAL SUMMARY (Tata Consultancy Services Pvt Ltd Jan 2015 – Dec 2018)                                            \\n']\n",
      "LTTextBoxHorizontal\n",
      "(60.984, 443.78000000000003, 63.479040000000005, 454.82)\n"
     ]
    },
    {
     "name": "stdout",
     "output_type": "stream",
     "text": [
      "['Ashok S \\n', '7795801335 / 7358565121  \\n', '   ashoksubramaniam91@gmail.com \\n', ' \\n', ' \\n', ' SUMMARY \\n▪ \\n', 'Knowledge in machine learning, data analysis & visualization with hands-on diverse experience \\n', 'across all major Sectors. \\n', ' KEY SKILLS \\n', '\\uf0b7  Python (Data Visualization, Data Wrangling using Python libraries) \\n', '\\uf0b7 \\n', 'SQL, Data Modeling and Data Warehousing. \\n', '\\uf0b7  Reporting and BI Tools: Tableau \\n', '\\uf0b7 \\n', '\\uf0b7 \\n', 'Statistics \\n', 'Time series Forecasting, ARIMA and Data Mining. \\n', ' \\n', ' \\n', ' \\n', '\\uf0b7  Machine Learning -Regression, Classification (Logistic Regression, KNN, SVM, Naïve Bayes, Decision \\n', 'Tree), Clustering (K-Means, Agglomerative), Ensemble Techniques, Text Mining & Sentimental \\n', 'Analysis \\n', '  SKILLS SUMMARY \\n', '•  Programming languages: Python, Java, Jupiter Notebook. \\n', '•  Operating Systems  : Windows \\n', '•  Database \\n', ': MS-SQL Server 2008 & 2012 \\n', '•  Virtualization Tools  : Tableau. \\n', ' \\n', '•  Machine Learning \\n', ': Model Like-Regression, SVM, Random Forest, KNN, K-Neighbors, PCA. \\n', '•  Data Modelling techniques: Pre-processing, Data Modelling using NumPy, Pandas, SciPy \\n', '  PROFESSIONAL SUMMARY (Tata Consultancy Services Pvt Ltd Jan 2015 – Dec 2018)                                            \\n', ' \\n']\n",
      "LTTextBoxHorizontal\n",
      "(60.984, 291.1, 63.479040000000005, 302.14)\n",
      "['Ashok S \\n', '7795801335 / 7358565121  \\n', '   ashoksubramaniam91@gmail.com \\n', ' \\n', ' \\n', ' SUMMARY \\n▪ \\n', 'Knowledge in machine learning, data analysis & visualization with hands-on diverse experience \\n', 'across all major Sectors. \\n', ' KEY SKILLS \\n', '\\uf0b7  Python (Data Visualization, Data Wrangling using Python libraries) \\n', '\\uf0b7 \\n', 'SQL, Data Modeling and Data Warehousing. \\n', '\\uf0b7  Reporting and BI Tools: Tableau \\n', '\\uf0b7 \\n', '\\uf0b7 \\n', 'Statistics \\n', 'Time series Forecasting, ARIMA and Data Mining. \\n', ' \\n', ' \\n', ' \\n', '\\uf0b7  Machine Learning -Regression, Classification (Logistic Regression, KNN, SVM, Naïve Bayes, Decision \\n', 'Tree), Clustering (K-Means, Agglomerative), Ensemble Techniques, Text Mining & Sentimental \\n', 'Analysis \\n', '  SKILLS SUMMARY \\n', '•  Programming languages: Python, Java, Jupiter Notebook. \\n', '•  Operating Systems  : Windows \\n', '•  Database \\n', ': MS-SQL Server 2008 & 2012 \\n', '•  Virtualization Tools  : Tableau. \\n', ' \\n', '•  Machine Learning \\n', ': Model Like-Regression, SVM, Random Forest, KNN, K-Neighbors, PCA. \\n', '•  Data Modelling techniques: Pre-processing, Data Modelling using NumPy, Pandas, SciPy \\n', '  PROFESSIONAL SUMMARY (Tata Consultancy Services Pvt Ltd Jan 2015 – Dec 2018)                                            \\n', ' \\n', ' \\n']\n",
      "LTTextBoxHorizontal\n",
      "(60.984, 241.39000000000001, 237.07504, 252.43)\n",
      "['Ashok S \\n', '7795801335 / 7358565121  \\n', '   ashoksubramaniam91@gmail.com \\n', ' \\n', ' \\n', ' SUMMARY \\n▪ \\n', 'Knowledge in machine learning, data analysis & visualization with hands-on diverse experience \\n', 'across all major Sectors. \\n', ' KEY SKILLS \\n', '\\uf0b7  Python (Data Visualization, Data Wrangling using Python libraries) \\n', '\\uf0b7 \\n', 'SQL, Data Modeling and Data Warehousing. \\n', '\\uf0b7  Reporting and BI Tools: Tableau \\n', '\\uf0b7 \\n', '\\uf0b7 \\n', 'Statistics \\n', 'Time series Forecasting, ARIMA and Data Mining. \\n', ' \\n', ' \\n', ' \\n', '\\uf0b7  Machine Learning -Regression, Classification (Logistic Regression, KNN, SVM, Naïve Bayes, Decision \\n', 'Tree), Clustering (K-Means, Agglomerative), Ensemble Techniques, Text Mining & Sentimental \\n', 'Analysis \\n', '  SKILLS SUMMARY \\n', '•  Programming languages: Python, Java, Jupiter Notebook. \\n', '•  Operating Systems  : Windows \\n', '•  Database \\n', ': MS-SQL Server 2008 & 2012 \\n', '•  Virtualization Tools  : Tableau. \\n', ' \\n', '•  Machine Learning \\n', ': Model Like-Regression, SVM, Random Forest, KNN, K-Neighbors, PCA. \\n', '•  Data Modelling techniques: Pre-processing, Data Modelling using NumPy, Pandas, SciPy \\n', '  PROFESSIONAL SUMMARY (Tata Consultancy Services Pvt Ltd Jan 2015 – Dec 2018)                                            \\n', ' \\n', ' \\n', '   Data Analyst (Nov 2018 – Dec 2019): \\n']\n",
      "LTTextBoxHorizontal\n",
      "(78.984, 221.23000000000002, 442.10504000000003, 232.27)\n",
      "['Ashok S \\n', '7795801335 / 7358565121  \\n', '   ashoksubramaniam91@gmail.com \\n', ' \\n', ' \\n', ' SUMMARY \\n▪ \\n', 'Knowledge in machine learning, data analysis & visualization with hands-on diverse experience \\n', 'across all major Sectors. \\n', ' KEY SKILLS \\n', '\\uf0b7  Python (Data Visualization, Data Wrangling using Python libraries) \\n', '\\uf0b7 \\n', 'SQL, Data Modeling and Data Warehousing. \\n', '\\uf0b7  Reporting and BI Tools: Tableau \\n', '\\uf0b7 \\n', '\\uf0b7 \\n', 'Statistics \\n', 'Time series Forecasting, ARIMA and Data Mining. \\n', ' \\n', ' \\n', ' \\n', '\\uf0b7  Machine Learning -Regression, Classification (Logistic Regression, KNN, SVM, Naïve Bayes, Decision \\n', 'Tree), Clustering (K-Means, Agglomerative), Ensemble Techniques, Text Mining & Sentimental \\n', 'Analysis \\n', '  SKILLS SUMMARY \\n', '•  Programming languages: Python, Java, Jupiter Notebook. \\n', '•  Operating Systems  : Windows \\n', '•  Database \\n', ': MS-SQL Server 2008 & 2012 \\n', '•  Virtualization Tools  : Tableau. \\n', ' \\n', '•  Machine Learning \\n', ': Model Like-Regression, SVM, Random Forest, KNN, K-Neighbors, PCA. \\n', '•  Data Modelling techniques: Pre-processing, Data Modelling using NumPy, Pandas, SciPy \\n', '  PROFESSIONAL SUMMARY (Tata Consultancy Services Pvt Ltd Jan 2015 – Dec 2018)                                            \\n', ' \\n', ' \\n', '   Data Analyst (Nov 2018 – Dec 2019): \\n', '\\uf0b7  Extracting data from SQL, Data Crawling from Web sites using Beautiful Soap \\n']\n",
      "LTTextBoxHorizontal\n",
      "(78.984, 199.15, 345.57504, 210.19)\n",
      "['Ashok S \\n', '7795801335 / 7358565121  \\n', '   ashoksubramaniam91@gmail.com \\n', ' \\n', ' \\n', ' SUMMARY \\n▪ \\n', 'Knowledge in machine learning, data analysis & visualization with hands-on diverse experience \\n', 'across all major Sectors. \\n', ' KEY SKILLS \\n', '\\uf0b7  Python (Data Visualization, Data Wrangling using Python libraries) \\n', '\\uf0b7 \\n', 'SQL, Data Modeling and Data Warehousing. \\n', '\\uf0b7  Reporting and BI Tools: Tableau \\n', '\\uf0b7 \\n', '\\uf0b7 \\n', 'Statistics \\n', 'Time series Forecasting, ARIMA and Data Mining. \\n', ' \\n', ' \\n', ' \\n', '\\uf0b7  Machine Learning -Regression, Classification (Logistic Regression, KNN, SVM, Naïve Bayes, Decision \\n', 'Tree), Clustering (K-Means, Agglomerative), Ensemble Techniques, Text Mining & Sentimental \\n', 'Analysis \\n', '  SKILLS SUMMARY \\n', '•  Programming languages: Python, Java, Jupiter Notebook. \\n', '•  Operating Systems  : Windows \\n', '•  Database \\n', ': MS-SQL Server 2008 & 2012 \\n', '•  Virtualization Tools  : Tableau. \\n', ' \\n', '•  Machine Learning \\n', ': Model Like-Regression, SVM, Random Forest, KNN, K-Neighbors, PCA. \\n', '•  Data Modelling techniques: Pre-processing, Data Modelling using NumPy, Pandas, SciPy \\n', '  PROFESSIONAL SUMMARY (Tata Consultancy Services Pvt Ltd Jan 2015 – Dec 2018)                                            \\n', ' \\n', ' \\n', '   Data Analyst (Nov 2018 – Dec 2019): \\n', '\\uf0b7  Extracting data from SQL, Data Crawling from Web sites using Beautiful Soap \\n', '\\uf0b7  Experienced with working on statistical models in Excel \\n']\n",
      "LTTextBoxHorizontal\n",
      "(78.984, 177.07000000000002, 544.36504, 188.11)\n"
     ]
    },
    {
     "name": "stdout",
     "output_type": "stream",
     "text": [
      "['Ashok S \\n', '7795801335 / 7358565121  \\n', '   ashoksubramaniam91@gmail.com \\n', ' \\n', ' \\n', ' SUMMARY \\n▪ \\n', 'Knowledge in machine learning, data analysis & visualization with hands-on diverse experience \\n', 'across all major Sectors. \\n', ' KEY SKILLS \\n', '\\uf0b7  Python (Data Visualization, Data Wrangling using Python libraries) \\n', '\\uf0b7 \\n', 'SQL, Data Modeling and Data Warehousing. \\n', '\\uf0b7  Reporting and BI Tools: Tableau \\n', '\\uf0b7 \\n', '\\uf0b7 \\n', 'Statistics \\n', 'Time series Forecasting, ARIMA and Data Mining. \\n', ' \\n', ' \\n', ' \\n', '\\uf0b7  Machine Learning -Regression, Classification (Logistic Regression, KNN, SVM, Naïve Bayes, Decision \\n', 'Tree), Clustering (K-Means, Agglomerative), Ensemble Techniques, Text Mining & Sentimental \\n', 'Analysis \\n', '  SKILLS SUMMARY \\n', '•  Programming languages: Python, Java, Jupiter Notebook. \\n', '•  Operating Systems  : Windows \\n', '•  Database \\n', ': MS-SQL Server 2008 & 2012 \\n', '•  Virtualization Tools  : Tableau. \\n', ' \\n', '•  Machine Learning \\n', ': Model Like-Regression, SVM, Random Forest, KNN, K-Neighbors, PCA. \\n', '•  Data Modelling techniques: Pre-processing, Data Modelling using NumPy, Pandas, SciPy \\n', '  PROFESSIONAL SUMMARY (Tata Consultancy Services Pvt Ltd Jan 2015 – Dec 2018)                                            \\n', ' \\n', ' \\n', '   Data Analyst (Nov 2018 – Dec 2019): \\n', '\\uf0b7  Extracting data from SQL, Data Crawling from Web sites using Beautiful Soap \\n', '\\uf0b7  Experienced with working on statistical models in Excel \\n', '\\uf0b7  Built  Predictive  Models  /  Data  Science  Models,  familiar  with  data  analysis,  data  sampling,  data \\n']\n",
      "LTTextBoxHorizontal\n",
      "(97.008, 161.69, 473.30504, 172.73)\n",
      "['Ashok S \\n', '7795801335 / 7358565121  \\n', '   ashoksubramaniam91@gmail.com \\n', ' \\n', ' \\n', ' SUMMARY \\n▪ \\n', 'Knowledge in machine learning, data analysis & visualization with hands-on diverse experience \\n', 'across all major Sectors. \\n', ' KEY SKILLS \\n', '\\uf0b7  Python (Data Visualization, Data Wrangling using Python libraries) \\n', '\\uf0b7 \\n', 'SQL, Data Modeling and Data Warehousing. \\n', '\\uf0b7  Reporting and BI Tools: Tableau \\n', '\\uf0b7 \\n', '\\uf0b7 \\n', 'Statistics \\n', 'Time series Forecasting, ARIMA and Data Mining. \\n', ' \\n', ' \\n', ' \\n', '\\uf0b7  Machine Learning -Regression, Classification (Logistic Regression, KNN, SVM, Naïve Bayes, Decision \\n', 'Tree), Clustering (K-Means, Agglomerative), Ensemble Techniques, Text Mining & Sentimental \\n', 'Analysis \\n', '  SKILLS SUMMARY \\n', '•  Programming languages: Python, Java, Jupiter Notebook. \\n', '•  Operating Systems  : Windows \\n', '•  Database \\n', ': MS-SQL Server 2008 & 2012 \\n', '•  Virtualization Tools  : Tableau. \\n', ' \\n', '•  Machine Learning \\n', ': Model Like-Regression, SVM, Random Forest, KNN, K-Neighbors, PCA. \\n', '•  Data Modelling techniques: Pre-processing, Data Modelling using NumPy, Pandas, SciPy \\n', '  PROFESSIONAL SUMMARY (Tata Consultancy Services Pvt Ltd Jan 2015 – Dec 2018)                                            \\n', ' \\n', ' \\n', '   Data Analyst (Nov 2018 – Dec 2019): \\n', '\\uf0b7  Extracting data from SQL, Data Crawling from Web sites using Beautiful Soap \\n', '\\uf0b7  Experienced with working on statistical models in Excel \\n', '\\uf0b7  Built  Predictive  Models  /  Data  Science  Models,  familiar  with  data  analysis,  data  sampling,  data \\n', 'classification & data visualization techniques, mathematical models and algorithms. \\n']\n",
      "LTTextBoxHorizontal\n",
      "(89.304, 139.61, 91.79904, 150.65)\n",
      "['Ashok S \\n', '7795801335 / 7358565121  \\n', '   ashoksubramaniam91@gmail.com \\n', ' \\n', ' \\n', ' SUMMARY \\n▪ \\n', 'Knowledge in machine learning, data analysis & visualization with hands-on diverse experience \\n', 'across all major Sectors. \\n', ' KEY SKILLS \\n', '\\uf0b7  Python (Data Visualization, Data Wrangling using Python libraries) \\n', '\\uf0b7 \\n', 'SQL, Data Modeling and Data Warehousing. \\n', '\\uf0b7  Reporting and BI Tools: Tableau \\n', '\\uf0b7 \\n', '\\uf0b7 \\n', 'Statistics \\n', 'Time series Forecasting, ARIMA and Data Mining. \\n', ' \\n', ' \\n', ' \\n', '\\uf0b7  Machine Learning -Regression, Classification (Logistic Regression, KNN, SVM, Naïve Bayes, Decision \\n', 'Tree), Clustering (K-Means, Agglomerative), Ensemble Techniques, Text Mining & Sentimental \\n', 'Analysis \\n', '  SKILLS SUMMARY \\n', '•  Programming languages: Python, Java, Jupiter Notebook. \\n', '•  Operating Systems  : Windows \\n', '•  Database \\n', ': MS-SQL Server 2008 & 2012 \\n', '•  Virtualization Tools  : Tableau. \\n', ' \\n', '•  Machine Learning \\n', ': Model Like-Regression, SVM, Random Forest, KNN, K-Neighbors, PCA. \\n', '•  Data Modelling techniques: Pre-processing, Data Modelling using NumPy, Pandas, SciPy \\n', '  PROFESSIONAL SUMMARY (Tata Consultancy Services Pvt Ltd Jan 2015 – Dec 2018)                                            \\n', ' \\n', ' \\n', '   Data Analyst (Nov 2018 – Dec 2019): \\n', '\\uf0b7  Extracting data from SQL, Data Crawling from Web sites using Beautiful Soap \\n', '\\uf0b7  Experienced with working on statistical models in Excel \\n', '\\uf0b7  Built  Predictive  Models  /  Data  Science  Models,  familiar  with  data  analysis,  data  sampling,  data \\n', 'classification & data visualization techniques, mathematical models and algorithms. \\n', ' \\n']\n",
      "LTTextBoxHorizontal\n",
      "(66.744, 124.49, 306.45504, 135.53)\n",
      "['Ashok S \\n', '7795801335 / 7358565121  \\n', '   ashoksubramaniam91@gmail.com \\n', ' \\n', ' \\n', ' SUMMARY \\n▪ \\n', 'Knowledge in machine learning, data analysis & visualization with hands-on diverse experience \\n', 'across all major Sectors. \\n', ' KEY SKILLS \\n', '\\uf0b7  Python (Data Visualization, Data Wrangling using Python libraries) \\n', '\\uf0b7 \\n', 'SQL, Data Modeling and Data Warehousing. \\n', '\\uf0b7  Reporting and BI Tools: Tableau \\n', '\\uf0b7 \\n', '\\uf0b7 \\n', 'Statistics \\n', 'Time series Forecasting, ARIMA and Data Mining. \\n', ' \\n', ' \\n', ' \\n', '\\uf0b7  Machine Learning -Regression, Classification (Logistic Regression, KNN, SVM, Naïve Bayes, Decision \\n', 'Tree), Clustering (K-Means, Agglomerative), Ensemble Techniques, Text Mining & Sentimental \\n', 'Analysis \\n', '  SKILLS SUMMARY \\n', '•  Programming languages: Python, Java, Jupiter Notebook. \\n', '•  Operating Systems  : Windows \\n', '•  Database \\n', ': MS-SQL Server 2008 & 2012 \\n', '•  Virtualization Tools  : Tableau. \\n', ' \\n', '•  Machine Learning \\n', ': Model Like-Regression, SVM, Random Forest, KNN, K-Neighbors, PCA. \\n', '•  Data Modelling techniques: Pre-processing, Data Modelling using NumPy, Pandas, SciPy \\n', '  PROFESSIONAL SUMMARY (Tata Consultancy Services Pvt Ltd Jan 2015 – Dec 2018)                                            \\n', ' \\n', ' \\n', '   Data Analyst (Nov 2018 – Dec 2019): \\n', '\\uf0b7  Extracting data from SQL, Data Crawling from Web sites using Beautiful Soap \\n', '\\uf0b7  Experienced with working on statistical models in Excel \\n', '\\uf0b7  Built  Predictive  Models  /  Data  Science  Models,  familiar  with  data  analysis,  data  sampling,  data \\n', 'classification & data visualization techniques, mathematical models and algorithms. \\n', ' \\n', 'Automation & Manual Tester (Jan 2015 – Oct 2017): \\n']\n",
      "LTTextBoxHorizontal\n",
      "(78.984, 95.58336, 87.09312, 106.00512)\n"
     ]
    },
    {
     "name": "stdout",
     "output_type": "stream",
     "text": [
      "['Ashok S \\n', '7795801335 / 7358565121  \\n', '   ashoksubramaniam91@gmail.com \\n', ' \\n', ' \\n', ' SUMMARY \\n▪ \\n', 'Knowledge in machine learning, data analysis & visualization with hands-on diverse experience \\n', 'across all major Sectors. \\n', ' KEY SKILLS \\n', '\\uf0b7  Python (Data Visualization, Data Wrangling using Python libraries) \\n', '\\uf0b7 \\n', 'SQL, Data Modeling and Data Warehousing. \\n', '\\uf0b7  Reporting and BI Tools: Tableau \\n', '\\uf0b7 \\n', '\\uf0b7 \\n', 'Statistics \\n', 'Time series Forecasting, ARIMA and Data Mining. \\n', ' \\n', ' \\n', ' \\n', '\\uf0b7  Machine Learning -Regression, Classification (Logistic Regression, KNN, SVM, Naïve Bayes, Decision \\n', 'Tree), Clustering (K-Means, Agglomerative), Ensemble Techniques, Text Mining & Sentimental \\n', 'Analysis \\n', '  SKILLS SUMMARY \\n', '•  Programming languages: Python, Java, Jupiter Notebook. \\n', '•  Operating Systems  : Windows \\n', '•  Database \\n', ': MS-SQL Server 2008 & 2012 \\n', '•  Virtualization Tools  : Tableau. \\n', ' \\n', '•  Machine Learning \\n', ': Model Like-Regression, SVM, Random Forest, KNN, K-Neighbors, PCA. \\n', '•  Data Modelling techniques: Pre-processing, Data Modelling using NumPy, Pandas, SciPy \\n', '  PROFESSIONAL SUMMARY (Tata Consultancy Services Pvt Ltd Jan 2015 – Dec 2018)                                            \\n', ' \\n', ' \\n', '   Data Analyst (Nov 2018 – Dec 2019): \\n', '\\uf0b7  Extracting data from SQL, Data Crawling from Web sites using Beautiful Soap \\n', '\\uf0b7  Experienced with working on statistical models in Excel \\n', '\\uf0b7  Built  Predictive  Models  /  Data  Science  Models,  familiar  with  data  analysis,  data  sampling,  data \\n', 'classification & data visualization techniques, mathematical models and algorithms. \\n', ' \\n', 'Automation & Manual Tester (Jan 2015 – Oct 2017): \\n', '\\uf0b7 \\n']\n",
      "LTTextBoxHorizontal\n",
      "(97.008, 95.208, 273.07504, 106.248)\n",
      "['Ashok S \\n', '7795801335 / 7358565121  \\n', '   ashoksubramaniam91@gmail.com \\n', ' \\n', ' \\n', ' SUMMARY \\n▪ \\n', 'Knowledge in machine learning, data analysis & visualization with hands-on diverse experience \\n', 'across all major Sectors. \\n', ' KEY SKILLS \\n', '\\uf0b7  Python (Data Visualization, Data Wrangling using Python libraries) \\n', '\\uf0b7 \\n', 'SQL, Data Modeling and Data Warehousing. \\n', '\\uf0b7  Reporting and BI Tools: Tableau \\n', '\\uf0b7 \\n', '\\uf0b7 \\n', 'Statistics \\n', 'Time series Forecasting, ARIMA and Data Mining. \\n', ' \\n', ' \\n', ' \\n', '\\uf0b7  Machine Learning -Regression, Classification (Logistic Regression, KNN, SVM, Naïve Bayes, Decision \\n', 'Tree), Clustering (K-Means, Agglomerative), Ensemble Techniques, Text Mining & Sentimental \\n', 'Analysis \\n', '  SKILLS SUMMARY \\n', '•  Programming languages: Python, Java, Jupiter Notebook. \\n', '•  Operating Systems  : Windows \\n', '•  Database \\n', ': MS-SQL Server 2008 & 2012 \\n', '•  Virtualization Tools  : Tableau. \\n', ' \\n', '•  Machine Learning \\n', ': Model Like-Regression, SVM, Random Forest, KNN, K-Neighbors, PCA. \\n', '•  Data Modelling techniques: Pre-processing, Data Modelling using NumPy, Pandas, SciPy \\n', '  PROFESSIONAL SUMMARY (Tata Consultancy Services Pvt Ltd Jan 2015 – Dec 2018)                                            \\n', ' \\n', ' \\n', '   Data Analyst (Nov 2018 – Dec 2019): \\n', '\\uf0b7  Extracting data from SQL, Data Crawling from Web sites using Beautiful Soap \\n', '\\uf0b7  Experienced with working on statistical models in Excel \\n', '\\uf0b7  Built  Predictive  Models  /  Data  Science  Models,  familiar  with  data  analysis,  data  sampling,  data \\n', 'classification & data visualization techniques, mathematical models and algorithms. \\n', ' \\n', 'Automation & Manual Tester (Jan 2015 – Oct 2017): \\n', '\\uf0b7 \\n', 'ISTQB foundation level certified tester. \\n']\n",
      "LTTextBoxHorizontal\n",
      "(78.984, 74.544, 324.45504, 85.584)\n",
      "['Ashok S \\n', '7795801335 / 7358565121  \\n', '   ashoksubramaniam91@gmail.com \\n', ' \\n', ' \\n', ' SUMMARY \\n▪ \\n', 'Knowledge in machine learning, data analysis & visualization with hands-on diverse experience \\n', 'across all major Sectors. \\n', ' KEY SKILLS \\n', '\\uf0b7  Python (Data Visualization, Data Wrangling using Python libraries) \\n', '\\uf0b7 \\n', 'SQL, Data Modeling and Data Warehousing. \\n', '\\uf0b7  Reporting and BI Tools: Tableau \\n', '\\uf0b7 \\n', '\\uf0b7 \\n', 'Statistics \\n', 'Time series Forecasting, ARIMA and Data Mining. \\n', ' \\n', ' \\n', ' \\n', '\\uf0b7  Machine Learning -Regression, Classification (Logistic Regression, KNN, SVM, Naïve Bayes, Decision \\n', 'Tree), Clustering (K-Means, Agglomerative), Ensemble Techniques, Text Mining & Sentimental \\n', 'Analysis \\n', '  SKILLS SUMMARY \\n', '•  Programming languages: Python, Java, Jupiter Notebook. \\n', '•  Operating Systems  : Windows \\n', '•  Database \\n', ': MS-SQL Server 2008 & 2012 \\n', '•  Virtualization Tools  : Tableau. \\n', ' \\n', '•  Machine Learning \\n', ': Model Like-Regression, SVM, Random Forest, KNN, K-Neighbors, PCA. \\n', '•  Data Modelling techniques: Pre-processing, Data Modelling using NumPy, Pandas, SciPy \\n', '  PROFESSIONAL SUMMARY (Tata Consultancy Services Pvt Ltd Jan 2015 – Dec 2018)                                            \\n', ' \\n', ' \\n', '   Data Analyst (Nov 2018 – Dec 2019): \\n', '\\uf0b7  Extracting data from SQL, Data Crawling from Web sites using Beautiful Soap \\n', '\\uf0b7  Experienced with working on statistical models in Excel \\n', '\\uf0b7  Built  Predictive  Models  /  Data  Science  Models,  familiar  with  data  analysis,  data  sampling,  data \\n', 'classification & data visualization techniques, mathematical models and algorithms. \\n', ' \\n', 'Automation & Manual Tester (Jan 2015 – Oct 2017): \\n', '\\uf0b7 \\n', 'ISTQB foundation level certified tester. \\n', '\\uf0b7  Managed a team of 3 as part of regression testing. \\n']\n",
      "LTTextBoxHorizontal\n",
      "(78.984, 53.664, 522.876, 64.704)\n",
      "['Ashok S \\n', '7795801335 / 7358565121  \\n', '   ashoksubramaniam91@gmail.com \\n', ' \\n', ' \\n', ' SUMMARY \\n▪ \\n', 'Knowledge in machine learning, data analysis & visualization with hands-on diverse experience \\n', 'across all major Sectors. \\n', ' KEY SKILLS \\n', '\\uf0b7  Python (Data Visualization, Data Wrangling using Python libraries) \\n', '\\uf0b7 \\n', 'SQL, Data Modeling and Data Warehousing. \\n', '\\uf0b7  Reporting and BI Tools: Tableau \\n', '\\uf0b7 \\n', '\\uf0b7 \\n', 'Statistics \\n', 'Time series Forecasting, ARIMA and Data Mining. \\n', ' \\n', ' \\n', ' \\n', '\\uf0b7  Machine Learning -Regression, Classification (Logistic Regression, KNN, SVM, Naïve Bayes, Decision \\n', 'Tree), Clustering (K-Means, Agglomerative), Ensemble Techniques, Text Mining & Sentimental \\n', 'Analysis \\n', '  SKILLS SUMMARY \\n', '•  Programming languages: Python, Java, Jupiter Notebook. \\n', '•  Operating Systems  : Windows \\n', '•  Database \\n', ': MS-SQL Server 2008 & 2012 \\n', '•  Virtualization Tools  : Tableau. \\n', ' \\n', '•  Machine Learning \\n', ': Model Like-Regression, SVM, Random Forest, KNN, K-Neighbors, PCA. \\n', '•  Data Modelling techniques: Pre-processing, Data Modelling using NumPy, Pandas, SciPy \\n', '  PROFESSIONAL SUMMARY (Tata Consultancy Services Pvt Ltd Jan 2015 – Dec 2018)                                            \\n', ' \\n', ' \\n', '   Data Analyst (Nov 2018 – Dec 2019): \\n', '\\uf0b7  Extracting data from SQL, Data Crawling from Web sites using Beautiful Soap \\n', '\\uf0b7  Experienced with working on statistical models in Excel \\n', '\\uf0b7  Built  Predictive  Models  /  Data  Science  Models,  familiar  with  data  analysis,  data  sampling,  data \\n', 'classification & data visualization techniques, mathematical models and algorithms. \\n', ' \\n', 'Automation & Manual Tester (Jan 2015 – Oct 2017): \\n', '\\uf0b7 \\n', 'ISTQB foundation level certified tester. \\n', '\\uf0b7  Managed a team of 3 as part of regression testing. \\n', '\\uf0b7  Have good understanding of test design, identification of automation test scenarios, scoping of \\n']\n",
      "LTTextBoxHorizontal\n",
      "(97.008, 33.504000000000005, 480.02504, 44.544000000000004)\n"
     ]
    },
    {
     "name": "stdout",
     "output_type": "stream",
     "text": [
      "['Ashok S \\n', '7795801335 / 7358565121  \\n', '   ashoksubramaniam91@gmail.com \\n', ' \\n', ' \\n', ' SUMMARY \\n▪ \\n', 'Knowledge in machine learning, data analysis & visualization with hands-on diverse experience \\n', 'across all major Sectors. \\n', ' KEY SKILLS \\n', '\\uf0b7  Python (Data Visualization, Data Wrangling using Python libraries) \\n', '\\uf0b7 \\n', 'SQL, Data Modeling and Data Warehousing. \\n', '\\uf0b7  Reporting and BI Tools: Tableau \\n', '\\uf0b7 \\n', '\\uf0b7 \\n', 'Statistics \\n', 'Time series Forecasting, ARIMA and Data Mining. \\n', ' \\n', ' \\n', ' \\n', '\\uf0b7  Machine Learning -Regression, Classification (Logistic Regression, KNN, SVM, Naïve Bayes, Decision \\n', 'Tree), Clustering (K-Means, Agglomerative), Ensemble Techniques, Text Mining & Sentimental \\n', 'Analysis \\n', '  SKILLS SUMMARY \\n', '•  Programming languages: Python, Java, Jupiter Notebook. \\n', '•  Operating Systems  : Windows \\n', '•  Database \\n', ': MS-SQL Server 2008 & 2012 \\n', '•  Virtualization Tools  : Tableau. \\n', ' \\n', '•  Machine Learning \\n', ': Model Like-Regression, SVM, Random Forest, KNN, K-Neighbors, PCA. \\n', '•  Data Modelling techniques: Pre-processing, Data Modelling using NumPy, Pandas, SciPy \\n', '  PROFESSIONAL SUMMARY (Tata Consultancy Services Pvt Ltd Jan 2015 – Dec 2018)                                            \\n', ' \\n', ' \\n', '   Data Analyst (Nov 2018 – Dec 2019): \\n', '\\uf0b7  Extracting data from SQL, Data Crawling from Web sites using Beautiful Soap \\n', '\\uf0b7  Experienced with working on statistical models in Excel \\n', '\\uf0b7  Built  Predictive  Models  /  Data  Science  Models,  familiar  with  data  analysis,  data  sampling,  data \\n', 'classification & data visualization techniques, mathematical models and algorithms. \\n', ' \\n', 'Automation & Manual Tester (Jan 2015 – Oct 2017): \\n', '\\uf0b7 \\n', 'ISTQB foundation level certified tester. \\n', '\\uf0b7  Managed a team of 3 as part of regression testing. \\n', '\\uf0b7  Have good understanding of test design, identification of automation test scenarios, scoping of \\n', 'functional requirements, test execution and defect analysis/reporting, report testing. \\n']\n",
      "LTRect\n",
      "(70.584, 684.46, 541.634, 697.9000000000001)\n",
      "LTRect\n",
      "(70.584, 622.75, 541.634, 636.19)\n",
      "LTRect\n",
      "(70.584, 430.22, 541.634, 443.66)\n",
      "LTRect\n",
      "(66.744, 277.54, 538.034, 290.98)\n",
      "LTRect\n",
      "(68.184, 242.23, 234.57399999999998, 242.94996999999998)\n",
      "LTRect\n",
      "(66.744, 125.33, 303.964, 126.04997)\n",
      "LTFigure\n",
      "(72.0, 702.75, 203.9, 745.945)\n",
      "LTImage\n",
      "(72.0, 702.75, 203.9, 745.945)\n",
      "LTFigure\n",
      "(439.79, 701.76, 535.44, 738.497)\n",
      "LTImage\n",
      "(439.79, 701.76, 535.44, 738.497)\n",
      "LTRect\n",
      "(219.7, 704.95, 432.2, 755.25)\n",
      "LTRect\n",
      "(24.0, 767.52, 24.48, 768.0)\n",
      "LTRect\n",
      "(24.0, 767.52, 24.48, 768.0)\n",
      "LTRect\n",
      "(24.48, 767.52, 587.74, 768.0)\n",
      "LTRect\n",
      "(587.74, 767.52, 588.21998, 768.0)\n",
      "LTRect\n",
      "(587.74, 767.52, 588.21998, 768.0)\n",
      "LTRect\n",
      "(24.0, 24.264, 24.48, 767.524)\n",
      "LTRect\n",
      "(587.74, 24.264, 588.21998, 767.524)\n",
      "LTRect\n",
      "(24.0, 23.784, 24.48, 24.26398)\n",
      "LTRect\n",
      "(24.0, 23.784, 24.48, 24.26398)\n",
      "LTRect\n",
      "(24.48, 23.784, 587.74, 24.26398)\n",
      "LTRect\n",
      "(587.74, 23.784, 588.21998, 24.26398)\n",
      "LTRect\n",
      "(587.74, 23.784, 588.21998, 24.26398)\n",
      "LTTextBoxHorizontal\n",
      "(78.984, 742.1800000000001, 534.9104800000001, 753.22)\n",
      "['\\uf0b7  Have been fully involved in developing scripts to automate functional test scenarios in Regression \\n']\n",
      "LTTextBoxHorizontal\n",
      "(97.008, 722.02, 146.06503999999998, 733.06)\n",
      "['\\uf0b7  Have been fully involved in developing scripts to automate functional test scenarios in Regression \\n', 'Test Suite. \\n']\n",
      "LTTextBoxHorizontal\n",
      "(78.984, 701.38, 404.63504, 712.42)\n",
      "['\\uf0b7  Have been fully involved in developing scripts to automate functional test scenarios in Regression \\n', 'Test Suite. \\n', '\\uf0b7  Have been involved in Defect Life Cycle, Analysis and reporting, SQL. \\n']\n",
      "LTTextBoxHorizontal\n",
      "(78.984, 680.5, 389.27504, 691.54)\n",
      "['\\uf0b7  Have been fully involved in developing scripts to automate functional test scenarios in Regression \\n', 'Test Suite. \\n', '\\uf0b7  Have been involved in Defect Life Cycle, Analysis and reporting, SQL. \\n', '\\uf0b7  Have used HP Quality Centre and JIRA as Test Management Tool. \\n']\n",
      "LTTextBoxHorizontal\n",
      "(78.984, 659.83, 306.69504, 670.87)\n",
      "['\\uf0b7  Have been fully involved in developing scripts to automate functional test scenarios in Regression \\n', 'Test Suite. \\n', '\\uf0b7  Have been involved in Defect Life Cycle, Analysis and reporting, SQL. \\n', '\\uf0b7  Have used HP Quality Centre and JIRA as Test Management Tool. \\n', '\\uf0b7  Expertise in UAT testing, and client interaction \\n']\n",
      "LTTextBoxHorizontal\n",
      "(78.984, 639.19, 266.35504000000003, 650.23)\n",
      "['\\uf0b7  Have been fully involved in developing scripts to automate functional test scenarios in Regression \\n', 'Test Suite. \\n', '\\uf0b7  Have been involved in Defect Life Cycle, Analysis and reporting, SQL. \\n', '\\uf0b7  Have used HP Quality Centre and JIRA as Test Management Tool. \\n', '\\uf0b7  Expertise in UAT testing, and client interaction \\n', '\\uf0b7  On the spot award for best associate. \\n']\n",
      "LTTextBoxHorizontal\n",
      "(60.984, 605.59, 163.36504, 630.0699999999999)\n",
      "['\\uf0b7  Have been fully involved in developing scripts to automate functional test scenarios in Regression \\n', 'Test Suite. \\n', '\\uf0b7  Have been involved in Defect Life Cycle, Analysis and reporting, SQL. \\n', '\\uf0b7  Have used HP Quality Centre and JIRA as Test Management Tool. \\n', '\\uf0b7  Expertise in UAT testing, and client interaction \\n', '\\uf0b7  On the spot award for best associate. \\n', ' \\nACADEMIC PROJECTS  \\n']\n",
      "LTTextBoxHorizontal\n",
      "(78.984, 588.20536, 87.09312, 598.62712)\n",
      "['\\uf0b7  Have been fully involved in developing scripts to automate functional test scenarios in Regression \\n', 'Test Suite. \\n', '\\uf0b7  Have been involved in Defect Life Cycle, Analysis and reporting, SQL. \\n', '\\uf0b7  Have used HP Quality Centre and JIRA as Test Management Tool. \\n', '\\uf0b7  Expertise in UAT testing, and client interaction \\n', '\\uf0b7  On the spot award for best associate. \\n', ' \\nACADEMIC PROJECTS  \\n', '\\uf0b7 \\n']\n",
      "LTTextBoxHorizontal\n",
      "(97.008, 587.83, 255.31503999999998, 598.87)\n",
      "['\\uf0b7  Have been fully involved in developing scripts to automate functional test scenarios in Regression \\n', 'Test Suite. \\n', '\\uf0b7  Have been involved in Defect Life Cycle, Analysis and reporting, SQL. \\n', '\\uf0b7  Have used HP Quality Centre and JIRA as Test Management Tool. \\n', '\\uf0b7  Expertise in UAT testing, and client interaction \\n', '\\uf0b7  On the spot award for best associate. \\n', ' \\nACADEMIC PROJECTS  \\n', '\\uf0b7 \\n', 'IPL Player auction price prediction \\n']\n",
      "LTTextBoxHorizontal\n",
      "(78.984, 567.65, 537.18816, 578.6899999999999)\n",
      "['\\uf0b7  Have been fully involved in developing scripts to automate functional test scenarios in Regression \\n', 'Test Suite. \\n', '\\uf0b7  Have been involved in Defect Life Cycle, Analysis and reporting, SQL. \\n', '\\uf0b7  Have used HP Quality Centre and JIRA as Test Management Tool. \\n', '\\uf0b7  Expertise in UAT testing, and client interaction \\n', '\\uf0b7  On the spot award for best associate. \\n', ' \\nACADEMIC PROJECTS  \\n', '\\uf0b7 \\n', 'IPL Player auction price prediction \\n', 'Developed a predictive model by using ensemble machine learning models to predict the potential IPL \\n']\n",
      "LTTextBoxHorizontal\n",
      "(92.904, 547.49, 277.39504, 558.53)\n",
      "['\\uf0b7  Have been fully involved in developing scripts to automate functional test scenarios in Regression \\n', 'Test Suite. \\n', '\\uf0b7  Have been involved in Defect Life Cycle, Analysis and reporting, SQL. \\n', '\\uf0b7  Have used HP Quality Centre and JIRA as Test Management Tool. \\n', '\\uf0b7  Expertise in UAT testing, and client interaction \\n', '\\uf0b7  On the spot award for best associate. \\n', ' \\nACADEMIC PROJECTS  \\n', '\\uf0b7 \\n', 'IPL Player auction price prediction \\n', 'Developed a predictive model by using ensemble machine learning models to predict the potential IPL \\n', 'player price based on the given features. \\n']\n",
      "LTTextBoxHorizontal\n",
      "(78.984, 523.25, 81.47904, 534.29)\n"
     ]
    },
    {
     "name": "stdout",
     "output_type": "stream",
     "text": [
      "['\\uf0b7  Have been fully involved in developing scripts to automate functional test scenarios in Regression \\n', 'Test Suite. \\n', '\\uf0b7  Have been involved in Defect Life Cycle, Analysis and reporting, SQL. \\n', '\\uf0b7  Have used HP Quality Centre and JIRA as Test Management Tool. \\n', '\\uf0b7  Expertise in UAT testing, and client interaction \\n', '\\uf0b7  On the spot award for best associate. \\n', ' \\nACADEMIC PROJECTS  \\n', '\\uf0b7 \\n', 'IPL Player auction price prediction \\n', 'Developed a predictive model by using ensemble machine learning models to predict the potential IPL \\n', 'player price based on the given features. \\n', ' \\n']\n",
      "LTTextBoxHorizontal\n",
      "(90.024, 505.73, 552.47128, 516.77)\n",
      "['\\uf0b7  Have been fully involved in developing scripts to automate functional test scenarios in Regression \\n', 'Test Suite. \\n', '\\uf0b7  Have been involved in Defect Life Cycle, Analysis and reporting, SQL. \\n', '\\uf0b7  Have used HP Quality Centre and JIRA as Test Management Tool. \\n', '\\uf0b7  Expertise in UAT testing, and client interaction \\n', '\\uf0b7  On the spot award for best associate. \\n', ' \\nACADEMIC PROJECTS  \\n', '\\uf0b7 \\n', 'IPL Player auction price prediction \\n', 'Developed a predictive model by using ensemble machine learning models to predict the potential IPL \\n', 'player price based on the given features. \\n', ' \\n', 'Key  skills:  Data  Crawling,  Python,  Data  Transformation,  Linear  Regression,  Decision  Tree,  Random \\n']\n",
      "LTTextBoxHorizontal\n",
      "(103.97, 492.26, 134.54504, 503.29999999999995)\n",
      "['\\uf0b7  Have been fully involved in developing scripts to automate functional test scenarios in Regression \\n', 'Test Suite. \\n', '\\uf0b7  Have been involved in Defect Life Cycle, Analysis and reporting, SQL. \\n', '\\uf0b7  Have used HP Quality Centre and JIRA as Test Management Tool. \\n', '\\uf0b7  Expertise in UAT testing, and client interaction \\n', '\\uf0b7  On the spot award for best associate. \\n', ' \\nACADEMIC PROJECTS  \\n', '\\uf0b7 \\n', 'IPL Player auction price prediction \\n', 'Developed a predictive model by using ensemble machine learning models to predict the potential IPL \\n', 'player price based on the given features. \\n', ' \\n', 'Key  skills:  Data  Crawling,  Python,  Data  Transformation,  Linear  Regression,  Decision  Tree,  Random \\n', 'Forest \\n']\n",
      "LTTextBoxHorizontal\n",
      "(90.024, 474.98, 92.51904, 486.02)\n",
      "['\\uf0b7  Have been fully involved in developing scripts to automate functional test scenarios in Regression \\n', 'Test Suite. \\n', '\\uf0b7  Have been involved in Defect Life Cycle, Analysis and reporting, SQL. \\n', '\\uf0b7  Have used HP Quality Centre and JIRA as Test Management Tool. \\n', '\\uf0b7  Expertise in UAT testing, and client interaction \\n', '\\uf0b7  On the spot award for best associate. \\n', ' \\nACADEMIC PROJECTS  \\n', '\\uf0b7 \\n', 'IPL Player auction price prediction \\n', 'Developed a predictive model by using ensemble machine learning models to predict the potential IPL \\n', 'player price based on the given features. \\n', ' \\n', 'Key  skills:  Data  Crawling,  Python,  Data  Transformation,  Linear  Regression,  Decision  Tree,  Random \\n', 'Forest \\n', ' \\n']\n",
      "LTTextBoxHorizontal\n",
      "(78.984, 457.35536, 87.09312, 467.77712)\n",
      "['\\uf0b7  Have been fully involved in developing scripts to automate functional test scenarios in Regression \\n', 'Test Suite. \\n', '\\uf0b7  Have been involved in Defect Life Cycle, Analysis and reporting, SQL. \\n', '\\uf0b7  Have used HP Quality Centre and JIRA as Test Management Tool. \\n', '\\uf0b7  Expertise in UAT testing, and client interaction \\n', '\\uf0b7  On the spot award for best associate. \\n', ' \\nACADEMIC PROJECTS  \\n', '\\uf0b7 \\n', 'IPL Player auction price prediction \\n', 'Developed a predictive model by using ensemble machine learning models to predict the potential IPL \\n', 'player price based on the given features. \\n', ' \\n', 'Key  skills:  Data  Crawling,  Python,  Data  Transformation,  Linear  Regression,  Decision  Tree,  Random \\n', 'Forest \\n', ' \\n', '\\uf0b7 \\n']\n",
      "LTTextBoxHorizontal\n",
      "(97.008, 456.98, 231.55504, 468.02)\n",
      "['\\uf0b7  Have been fully involved in developing scripts to automate functional test scenarios in Regression \\n', 'Test Suite. \\n', '\\uf0b7  Have been involved in Defect Life Cycle, Analysis and reporting, SQL. \\n', '\\uf0b7  Have used HP Quality Centre and JIRA as Test Management Tool. \\n', '\\uf0b7  Expertise in UAT testing, and client interaction \\n', '\\uf0b7  On the spot award for best associate. \\n', ' \\nACADEMIC PROJECTS  \\n', '\\uf0b7 \\n', 'IPL Player auction price prediction \\n', 'Developed a predictive model by using ensemble machine learning models to predict the potential IPL \\n', 'player price based on the given features. \\n', ' \\n', 'Key  skills:  Data  Crawling,  Python,  Data  Transformation,  Linear  Regression,  Decision  Tree,  Random \\n', 'Forest \\n', ' \\n', '\\uf0b7 \\n', 'Identifying Diabetes Patients \\n']\n",
      "LTTextBoxHorizontal\n",
      "(78.984, 436.82, 516.10176, 447.85999999999996)\n",
      "['\\uf0b7  Have been fully involved in developing scripts to automate functional test scenarios in Regression \\n', 'Test Suite. \\n', '\\uf0b7  Have been involved in Defect Life Cycle, Analysis and reporting, SQL. \\n', '\\uf0b7  Have used HP Quality Centre and JIRA as Test Management Tool. \\n', '\\uf0b7  Expertise in UAT testing, and client interaction \\n', '\\uf0b7  On the spot award for best associate. \\n', ' \\nACADEMIC PROJECTS  \\n', '\\uf0b7 \\n', 'IPL Player auction price prediction \\n', 'Developed a predictive model by using ensemble machine learning models to predict the potential IPL \\n', 'player price based on the given features. \\n', ' \\n', 'Key  skills:  Data  Crawling,  Python,  Data  Transformation,  Linear  Regression,  Decision  Tree,  Random \\n', 'Forest \\n', ' \\n', '\\uf0b7 \\n', 'Identifying Diabetes Patients \\n', 'Created a prediction model to identify diabetic patients by applying PCA for dimension reduction, \\n']\n",
      "LTTextBoxHorizontal\n",
      "(92.904, 416.66, 328.05504, 427.7)\n",
      "['\\uf0b7  Have been fully involved in developing scripts to automate functional test scenarios in Regression \\n', 'Test Suite. \\n', '\\uf0b7  Have been involved in Defect Life Cycle, Analysis and reporting, SQL. \\n', '\\uf0b7  Have used HP Quality Centre and JIRA as Test Management Tool. \\n', '\\uf0b7  Expertise in UAT testing, and client interaction \\n', '\\uf0b7  On the spot award for best associate. \\n', ' \\nACADEMIC PROJECTS  \\n', '\\uf0b7 \\n', 'IPL Player auction price prediction \\n', 'Developed a predictive model by using ensemble machine learning models to predict the potential IPL \\n', 'player price based on the given features. \\n', ' \\n', 'Key  skills:  Data  Crawling,  Python,  Data  Transformation,  Linear  Regression,  Decision  Tree,  Random \\n', 'Forest \\n', ' \\n', '\\uf0b7 \\n', 'Identifying Diabetes Patients \\n', 'Created a prediction model to identify diabetic patients by applying PCA for dimension reduction, \\n', 'followed by ensemble machine learning techniques. \\n']\n",
      "LTTextBoxHorizontal\n",
      "(78.984, 392.40000000000003, 81.47904, 403.44)\n",
      "['\\uf0b7  Have been fully involved in developing scripts to automate functional test scenarios in Regression \\n', 'Test Suite. \\n', '\\uf0b7  Have been involved in Defect Life Cycle, Analysis and reporting, SQL. \\n', '\\uf0b7  Have used HP Quality Centre and JIRA as Test Management Tool. \\n', '\\uf0b7  Expertise in UAT testing, and client interaction \\n', '\\uf0b7  On the spot award for best associate. \\n', ' \\nACADEMIC PROJECTS  \\n', '\\uf0b7 \\n', 'IPL Player auction price prediction \\n', 'Developed a predictive model by using ensemble machine learning models to predict the potential IPL \\n', 'player price based on the given features. \\n', ' \\n', 'Key  skills:  Data  Crawling,  Python,  Data  Transformation,  Linear  Regression,  Decision  Tree,  Random \\n', 'Forest \\n', ' \\n', '\\uf0b7 \\n', 'Identifying Diabetes Patients \\n', 'Created a prediction model to identify diabetic patients by applying PCA for dimension reduction, \\n', 'followed by ensemble machine learning techniques. \\n', ' \\n']\n",
      "LTTextBoxHorizontal\n",
      "(60.984, 334.32, 445.22504000000004, 386.15999999999997)\n"
     ]
    },
    {
     "name": "stdout",
     "output_type": "stream",
     "text": [
      "['\\uf0b7  Have been fully involved in developing scripts to automate functional test scenarios in Regression \\n', 'Test Suite. \\n', '\\uf0b7  Have been involved in Defect Life Cycle, Analysis and reporting, SQL. \\n', '\\uf0b7  Have used HP Quality Centre and JIRA as Test Management Tool. \\n', '\\uf0b7  Expertise in UAT testing, and client interaction \\n', '\\uf0b7  On the spot award for best associate. \\n', ' \\nACADEMIC PROJECTS  \\n', '\\uf0b7 \\n', 'IPL Player auction price prediction \\n', 'Developed a predictive model by using ensemble machine learning models to predict the potential IPL \\n', 'player price based on the given features. \\n', ' \\n', 'Key  skills:  Data  Crawling,  Python,  Data  Transformation,  Linear  Regression,  Decision  Tree,  Random \\n', 'Forest \\n', ' \\n', '\\uf0b7 \\n', 'Identifying Diabetes Patients \\n', 'Created a prediction model to identify diabetic patients by applying PCA for dimension reduction, \\n', 'followed by ensemble machine learning techniques. \\n', ' \\n', '               Key skills: Python, PCA, Logistics Regression, Decision Trees, Random Forest,  \\n               K-Nearest Neighbours, Naive Bayes, Boosting      \\n \\nEDUCATION \\n']\n",
      "LTTextBoxHorizontal\n",
      "(126.53, 316.3, 160.46504, 327.34)\n",
      "['\\uf0b7  Have been fully involved in developing scripts to automate functional test scenarios in Regression \\n', 'Test Suite. \\n', '\\uf0b7  Have been involved in Defect Life Cycle, Analysis and reporting, SQL. \\n', '\\uf0b7  Have used HP Quality Centre and JIRA as Test Management Tool. \\n', '\\uf0b7  Expertise in UAT testing, and client interaction \\n', '\\uf0b7  On the spot award for best associate. \\n', ' \\nACADEMIC PROJECTS  \\n', '\\uf0b7 \\n', 'IPL Player auction price prediction \\n', 'Developed a predictive model by using ensemble machine learning models to predict the potential IPL \\n', 'player price based on the given features. \\n', ' \\n', 'Key  skills:  Data  Crawling,  Python,  Data  Transformation,  Linear  Regression,  Decision  Tree,  Random \\n', 'Forest \\n', ' \\n', '\\uf0b7 \\n', 'Identifying Diabetes Patients \\n', 'Created a prediction model to identify diabetic patients by applying PCA for dimension reduction, \\n', 'followed by ensemble machine learning techniques. \\n', ' \\n', '               Key skills: Python, PCA, Logistics Regression, Decision Trees, Random Forest,  \\n               K-Nearest Neighbours, Naive Bayes, Boosting      \\n \\nEDUCATION \\n', 'Course \\n']\n",
      "LTTextBoxHorizontal\n",
      "(296.04, 316.3, 346.29504000000003, 327.34)\n",
      "['\\uf0b7  Have been fully involved in developing scripts to automate functional test scenarios in Regression \\n', 'Test Suite. \\n', '\\uf0b7  Have been involved in Defect Life Cycle, Analysis and reporting, SQL. \\n', '\\uf0b7  Have used HP Quality Centre and JIRA as Test Management Tool. \\n', '\\uf0b7  Expertise in UAT testing, and client interaction \\n', '\\uf0b7  On the spot award for best associate. \\n', ' \\nACADEMIC PROJECTS  \\n', '\\uf0b7 \\n', 'IPL Player auction price prediction \\n', 'Developed a predictive model by using ensemble machine learning models to predict the potential IPL \\n', 'player price based on the given features. \\n', ' \\n', 'Key  skills:  Data  Crawling,  Python,  Data  Transformation,  Linear  Regression,  Decision  Tree,  Random \\n', 'Forest \\n', ' \\n', '\\uf0b7 \\n', 'Identifying Diabetes Patients \\n', 'Created a prediction model to identify diabetic patients by applying PCA for dimension reduction, \\n', 'followed by ensemble machine learning techniques. \\n', ' \\n', '               Key skills: Python, PCA, Logistics Regression, Decision Trees, Random Forest,  \\n               K-Nearest Neighbours, Naive Bayes, Boosting      \\n \\nEDUCATION \\n', 'Course \\n', 'Institution \\n']\n",
      "LTTextBoxHorizontal\n",
      "(66.504, 284.86, 219.04504, 309.34)\n",
      "['\\uf0b7  Have been fully involved in developing scripts to automate functional test scenarios in Regression \\n', 'Test Suite. \\n', '\\uf0b7  Have been involved in Defect Life Cycle, Analysis and reporting, SQL. \\n', '\\uf0b7  Have used HP Quality Centre and JIRA as Test Management Tool. \\n', '\\uf0b7  Expertise in UAT testing, and client interaction \\n', '\\uf0b7  On the spot award for best associate. \\n', ' \\nACADEMIC PROJECTS  \\n', '\\uf0b7 \\n', 'IPL Player auction price prediction \\n', 'Developed a predictive model by using ensemble machine learning models to predict the potential IPL \\n', 'player price based on the given features. \\n', ' \\n', 'Key  skills:  Data  Crawling,  Python,  Data  Transformation,  Linear  Regression,  Decision  Tree,  Random \\n', 'Forest \\n', ' \\n', '\\uf0b7 \\n', 'Identifying Diabetes Patients \\n', 'Created a prediction model to identify diabetic patients by applying PCA for dimension reduction, \\n', 'followed by ensemble machine learning techniques. \\n', ' \\n', '               Key skills: Python, PCA, Logistics Regression, Decision Trees, Random Forest,  \\n               K-Nearest Neighbours, Naive Bayes, Boosting      \\n \\nEDUCATION \\n', 'Course \\n', 'Institution \\n', 'Post Graduate Program in Data \\nScience & Engineering – Full Time \\n']\n",
      "LTTextBoxHorizontal\n",
      "(229.06, 298.3, 398.39504, 309.34)\n",
      "['\\uf0b7  Have been fully involved in developing scripts to automate functional test scenarios in Regression \\n', 'Test Suite. \\n', '\\uf0b7  Have been involved in Defect Life Cycle, Analysis and reporting, SQL. \\n', '\\uf0b7  Have used HP Quality Centre and JIRA as Test Management Tool. \\n', '\\uf0b7  Expertise in UAT testing, and client interaction \\n', '\\uf0b7  On the spot award for best associate. \\n', ' \\nACADEMIC PROJECTS  \\n', '\\uf0b7 \\n', 'IPL Player auction price prediction \\n', 'Developed a predictive model by using ensemble machine learning models to predict the potential IPL \\n', 'player price based on the given features. \\n', ' \\n', 'Key  skills:  Data  Crawling,  Python,  Data  Transformation,  Linear  Regression,  Decision  Tree,  Random \\n', 'Forest \\n', ' \\n', '\\uf0b7 \\n', 'Identifying Diabetes Patients \\n', 'Created a prediction model to identify diabetic patients by applying PCA for dimension reduction, \\n', 'followed by ensemble machine learning techniques. \\n', ' \\n', '               Key skills: Python, PCA, Logistics Regression, Decision Trees, Random Forest,  \\n               K-Nearest Neighbours, Naive Bayes, Boosting      \\n \\nEDUCATION \\n', 'Course \\n', 'Institution \\n', 'Post Graduate Program in Data \\nScience & Engineering – Full Time \\n', 'Great Lakes Institute of Management \\n']\n",
      "LTTextBoxHorizontal\n",
      "(437.21, 316.3, 460.34504000000004, 327.34)\n",
      "['\\uf0b7  Have been fully involved in developing scripts to automate functional test scenarios in Regression \\n', 'Test Suite. \\n', '\\uf0b7  Have been involved in Defect Life Cycle, Analysis and reporting, SQL. \\n', '\\uf0b7  Have used HP Quality Centre and JIRA as Test Management Tool. \\n', '\\uf0b7  Expertise in UAT testing, and client interaction \\n', '\\uf0b7  On the spot award for best associate. \\n', ' \\nACADEMIC PROJECTS  \\n', '\\uf0b7 \\n', 'IPL Player auction price prediction \\n', 'Developed a predictive model by using ensemble machine learning models to predict the potential IPL \\n', 'player price based on the given features. \\n', ' \\n', 'Key  skills:  Data  Crawling,  Python,  Data  Transformation,  Linear  Regression,  Decision  Tree,  Random \\n', 'Forest \\n', ' \\n', '\\uf0b7 \\n', 'Identifying Diabetes Patients \\n', 'Created a prediction model to identify diabetic patients by applying PCA for dimension reduction, \\n', 'followed by ensemble machine learning techniques. \\n', ' \\n', '               Key skills: Python, PCA, Logistics Regression, Decision Trees, Random Forest,  \\n               K-Nearest Neighbours, Naive Bayes, Boosting      \\n \\nEDUCATION \\n', 'Course \\n', 'Institution \\n', 'Post Graduate Program in Data \\nScience & Engineering – Full Time \\n', 'Great Lakes Institute of Management \\n', 'Year \\n']\n",
      "LTTextBoxHorizontal\n",
      "(436.49, 298.3, 461.30504, 309.34)\n"
     ]
    },
    {
     "name": "stdout",
     "output_type": "stream",
     "text": [
      "['\\uf0b7  Have been fully involved in developing scripts to automate functional test scenarios in Regression \\n', 'Test Suite. \\n', '\\uf0b7  Have been involved in Defect Life Cycle, Analysis and reporting, SQL. \\n', '\\uf0b7  Have used HP Quality Centre and JIRA as Test Management Tool. \\n', '\\uf0b7  Expertise in UAT testing, and client interaction \\n', '\\uf0b7  On the spot award for best associate. \\n', ' \\nACADEMIC PROJECTS  \\n', '\\uf0b7 \\n', 'IPL Player auction price prediction \\n', 'Developed a predictive model by using ensemble machine learning models to predict the potential IPL \\n', 'player price based on the given features. \\n', ' \\n', 'Key  skills:  Data  Crawling,  Python,  Data  Transformation,  Linear  Regression,  Decision  Tree,  Random \\n', 'Forest \\n', ' \\n', '\\uf0b7 \\n', 'Identifying Diabetes Patients \\n', 'Created a prediction model to identify diabetic patients by applying PCA for dimension reduction, \\n', 'followed by ensemble machine learning techniques. \\n', ' \\n', '               Key skills: Python, PCA, Logistics Regression, Decision Trees, Random Forest,  \\n               K-Nearest Neighbours, Naive Bayes, Boosting      \\n \\nEDUCATION \\n', 'Course \\n', 'Institution \\n', 'Post Graduate Program in Data \\nScience & Engineering – Full Time \\n', 'Great Lakes Institute of Management \\n', 'Year \\n', '2019 \\n']\n",
      "LTTextBoxHorizontal\n",
      "(484.51, 316.3, 526.60504, 327.34)\n",
      "['\\uf0b7  Have been fully involved in developing scripts to automate functional test scenarios in Regression \\n', 'Test Suite. \\n', '\\uf0b7  Have been involved in Defect Life Cycle, Analysis and reporting, SQL. \\n', '\\uf0b7  Have used HP Quality Centre and JIRA as Test Management Tool. \\n', '\\uf0b7  Expertise in UAT testing, and client interaction \\n', '\\uf0b7  On the spot award for best associate. \\n', ' \\nACADEMIC PROJECTS  \\n', '\\uf0b7 \\n', 'IPL Player auction price prediction \\n', 'Developed a predictive model by using ensemble machine learning models to predict the potential IPL \\n', 'player price based on the given features. \\n', ' \\n', 'Key  skills:  Data  Crawling,  Python,  Data  Transformation,  Linear  Regression,  Decision  Tree,  Random \\n', 'Forest \\n', ' \\n', '\\uf0b7 \\n', 'Identifying Diabetes Patients \\n', 'Created a prediction model to identify diabetic patients by applying PCA for dimension reduction, \\n', 'followed by ensemble machine learning techniques. \\n', ' \\n', '               Key skills: Python, PCA, Logistics Regression, Decision Trees, Random Forest,  \\n               K-Nearest Neighbours, Naive Bayes, Boosting      \\n \\nEDUCATION \\n', 'Course \\n', 'Institution \\n', 'Post Graduate Program in Data \\nScience & Engineering – Full Time \\n', 'Great Lakes Institute of Management \\n', 'Year \\n', '2019 \\n', 'Remarks \\n']\n",
      "LTTextBoxHorizontal\n",
      "(494.83, 298.3, 516.28504, 309.34)\n",
      "['\\uf0b7  Have been fully involved in developing scripts to automate functional test scenarios in Regression \\n', 'Test Suite. \\n', '\\uf0b7  Have been involved in Defect Life Cycle, Analysis and reporting, SQL. \\n', '\\uf0b7  Have used HP Quality Centre and JIRA as Test Management Tool. \\n', '\\uf0b7  Expertise in UAT testing, and client interaction \\n', '\\uf0b7  On the spot award for best associate. \\n', ' \\nACADEMIC PROJECTS  \\n', '\\uf0b7 \\n', 'IPL Player auction price prediction \\n', 'Developed a predictive model by using ensemble machine learning models to predict the potential IPL \\n', 'player price based on the given features. \\n', ' \\n', 'Key  skills:  Data  Crawling,  Python,  Data  Transformation,  Linear  Regression,  Decision  Tree,  Random \\n', 'Forest \\n', ' \\n', '\\uf0b7 \\n', 'Identifying Diabetes Patients \\n', 'Created a prediction model to identify diabetic patients by applying PCA for dimension reduction, \\n', 'followed by ensemble machine learning techniques. \\n', ' \\n', '               Key skills: Python, PCA, Logistics Regression, Decision Trees, Random Forest,  \\n               K-Nearest Neighbours, Naive Bayes, Boosting      \\n \\nEDUCATION \\n', 'Course \\n', 'Institution \\n', 'Post Graduate Program in Data \\nScience & Engineering – Full Time \\n', 'Great Lakes Institute of Management \\n', 'Year \\n', '2019 \\n', 'Remarks \\n', '84% \\n']\n",
      "LTTextBoxHorizontal\n",
      "(66.504, 267.1, 194.32504, 278.14)\n",
      "['\\uf0b7  Have been fully involved in developing scripts to automate functional test scenarios in Regression \\n', 'Test Suite. \\n', '\\uf0b7  Have been involved in Defect Life Cycle, Analysis and reporting, SQL. \\n', '\\uf0b7  Have used HP Quality Centre and JIRA as Test Management Tool. \\n', '\\uf0b7  Expertise in UAT testing, and client interaction \\n', '\\uf0b7  On the spot award for best associate. \\n', ' \\nACADEMIC PROJECTS  \\n', '\\uf0b7 \\n', 'IPL Player auction price prediction \\n', 'Developed a predictive model by using ensemble machine learning models to predict the potential IPL \\n', 'player price based on the given features. \\n', ' \\n', 'Key  skills:  Data  Crawling,  Python,  Data  Transformation,  Linear  Regression,  Decision  Tree,  Random \\n', 'Forest \\n', ' \\n', '\\uf0b7 \\n', 'Identifying Diabetes Patients \\n', 'Created a prediction model to identify diabetic patients by applying PCA for dimension reduction, \\n', 'followed by ensemble machine learning techniques. \\n', ' \\n', '               Key skills: Python, PCA, Logistics Regression, Decision Trees, Random Forest,  \\n               K-Nearest Neighbours, Naive Bayes, Boosting      \\n \\nEDUCATION \\n', 'Course \\n', 'Institution \\n', 'Post Graduate Program in Data \\nScience & Engineering – Full Time \\n', 'Great Lakes Institute of Management \\n', 'Year \\n', '2019 \\n', 'Remarks \\n', '84% \\n', 'M.Sc (Software Technology) \\n']\n",
      "LTTextBoxHorizontal\n",
      "(229.06, 267.1, 406.07504, 278.14)\n",
      "['\\uf0b7  Have been fully involved in developing scripts to automate functional test scenarios in Regression \\n', 'Test Suite. \\n', '\\uf0b7  Have been involved in Defect Life Cycle, Analysis and reporting, SQL. \\n', '\\uf0b7  Have used HP Quality Centre and JIRA as Test Management Tool. \\n', '\\uf0b7  Expertise in UAT testing, and client interaction \\n', '\\uf0b7  On the spot award for best associate. \\n', ' \\nACADEMIC PROJECTS  \\n', '\\uf0b7 \\n', 'IPL Player auction price prediction \\n', 'Developed a predictive model by using ensemble machine learning models to predict the potential IPL \\n', 'player price based on the given features. \\n', ' \\n', 'Key  skills:  Data  Crawling,  Python,  Data  Transformation,  Linear  Regression,  Decision  Tree,  Random \\n', 'Forest \\n', ' \\n', '\\uf0b7 \\n', 'Identifying Diabetes Patients \\n', 'Created a prediction model to identify diabetic patients by applying PCA for dimension reduction, \\n', 'followed by ensemble machine learning techniques. \\n', ' \\n', '               Key skills: Python, PCA, Logistics Regression, Decision Trees, Random Forest,  \\n               K-Nearest Neighbours, Naive Bayes, Boosting      \\n \\nEDUCATION \\n', 'Course \\n', 'Institution \\n', 'Post Graduate Program in Data \\nScience & Engineering – Full Time \\n', 'Great Lakes Institute of Management \\n', 'Year \\n', '2019 \\n', 'Remarks \\n', '84% \\n', 'M.Sc (Software Technology) \\n', 'Vellore Institute of Technology, Vellore \\n']\n",
      "LTTextBoxHorizontal\n",
      "(436.49, 267.1, 461.30504, 278.14)\n"
     ]
    },
    {
     "name": "stdout",
     "output_type": "stream",
     "text": [
      "['\\uf0b7  Have been fully involved in developing scripts to automate functional test scenarios in Regression \\n', 'Test Suite. \\n', '\\uf0b7  Have been involved in Defect Life Cycle, Analysis and reporting, SQL. \\n', '\\uf0b7  Have used HP Quality Centre and JIRA as Test Management Tool. \\n', '\\uf0b7  Expertise in UAT testing, and client interaction \\n', '\\uf0b7  On the spot award for best associate. \\n', ' \\nACADEMIC PROJECTS  \\n', '\\uf0b7 \\n', 'IPL Player auction price prediction \\n', 'Developed a predictive model by using ensemble machine learning models to predict the potential IPL \\n', 'player price based on the given features. \\n', ' \\n', 'Key  skills:  Data  Crawling,  Python,  Data  Transformation,  Linear  Regression,  Decision  Tree,  Random \\n', 'Forest \\n', ' \\n', '\\uf0b7 \\n', 'Identifying Diabetes Patients \\n', 'Created a prediction model to identify diabetic patients by applying PCA for dimension reduction, \\n', 'followed by ensemble machine learning techniques. \\n', ' \\n', '               Key skills: Python, PCA, Logistics Regression, Decision Trees, Random Forest,  \\n               K-Nearest Neighbours, Naive Bayes, Boosting      \\n \\nEDUCATION \\n', 'Course \\n', 'Institution \\n', 'Post Graduate Program in Data \\nScience & Engineering – Full Time \\n', 'Great Lakes Institute of Management \\n', 'Year \\n', '2019 \\n', 'Remarks \\n', '84% \\n', 'M.Sc (Software Technology) \\n', 'Vellore Institute of Technology, Vellore \\n', '2014 \\n']\n",
      "LTTextBoxHorizontal\n",
      "(490.51, 267.1, 522.76504, 278.14)\n",
      "['\\uf0b7  Have been fully involved in developing scripts to automate functional test scenarios in Regression \\n', 'Test Suite. \\n', '\\uf0b7  Have been involved in Defect Life Cycle, Analysis and reporting, SQL. \\n', '\\uf0b7  Have used HP Quality Centre and JIRA as Test Management Tool. \\n', '\\uf0b7  Expertise in UAT testing, and client interaction \\n', '\\uf0b7  On the spot award for best associate. \\n', ' \\nACADEMIC PROJECTS  \\n', '\\uf0b7 \\n', 'IPL Player auction price prediction \\n', 'Developed a predictive model by using ensemble machine learning models to predict the potential IPL \\n', 'player price based on the given features. \\n', ' \\n', 'Key  skills:  Data  Crawling,  Python,  Data  Transformation,  Linear  Regression,  Decision  Tree,  Random \\n', 'Forest \\n', ' \\n', '\\uf0b7 \\n', 'Identifying Diabetes Patients \\n', 'Created a prediction model to identify diabetic patients by applying PCA for dimension reduction, \\n', 'followed by ensemble machine learning techniques. \\n', ' \\n', '               Key skills: Python, PCA, Logistics Regression, Decision Trees, Random Forest,  \\n               K-Nearest Neighbours, Naive Bayes, Boosting      \\n \\nEDUCATION \\n', 'Course \\n', 'Institution \\n', 'Post Graduate Program in Data \\nScience & Engineering – Full Time \\n', 'Great Lakes Institute of Management \\n', 'Year \\n', '2019 \\n', 'Remarks \\n', '84% \\n', 'M.Sc (Software Technology) \\n', 'Vellore Institute of Technology, Vellore \\n', '2014 \\n', '89.9%  \\n']\n",
      "LTTextBoxHorizontal\n",
      "(66.504, 204.67000000000002, 210.54287999999994, 246.91)\n",
      "['\\uf0b7  Have been fully involved in developing scripts to automate functional test scenarios in Regression \\n', 'Test Suite. \\n', '\\uf0b7  Have been involved in Defect Life Cycle, Analysis and reporting, SQL. \\n', '\\uf0b7  Have used HP Quality Centre and JIRA as Test Management Tool. \\n', '\\uf0b7  Expertise in UAT testing, and client interaction \\n', '\\uf0b7  On the spot award for best associate. \\n', ' \\nACADEMIC PROJECTS  \\n', '\\uf0b7 \\n', 'IPL Player auction price prediction \\n', 'Developed a predictive model by using ensemble machine learning models to predict the potential IPL \\n', 'player price based on the given features. \\n', ' \\n', 'Key  skills:  Data  Crawling,  Python,  Data  Transformation,  Linear  Regression,  Decision  Tree,  Random \\n', 'Forest \\n', ' \\n', '\\uf0b7 \\n', 'Identifying Diabetes Patients \\n', 'Created a prediction model to identify diabetic patients by applying PCA for dimension reduction, \\n', 'followed by ensemble machine learning techniques. \\n', ' \\n', '               Key skills: Python, PCA, Logistics Regression, Decision Trees, Random Forest,  \\n               K-Nearest Neighbours, Naive Bayes, Boosting      \\n \\nEDUCATION \\n', 'Course \\n', 'Institution \\n', 'Post Graduate Program in Data \\nScience & Engineering – Full Time \\n', 'Great Lakes Institute of Management \\n', 'Year \\n', '2019 \\n', 'Remarks \\n', '84% \\n', 'M.Sc (Software Technology) \\n', 'Vellore Institute of Technology, Vellore \\n', '2014 \\n', '89.9%  \\n', 'B.Sc (Computer Science, Maths, \\nElectronics) \\n12thStd / PUC \\n']\n",
      "LTTextBoxHorizontal\n",
      "(66.504, 173.23000000000002, 100.70304, 185.29)\n",
      "['\\uf0b7  Have been fully involved in developing scripts to automate functional test scenarios in Regression \\n', 'Test Suite. \\n', '\\uf0b7  Have been involved in Defect Life Cycle, Analysis and reporting, SQL. \\n', '\\uf0b7  Have used HP Quality Centre and JIRA as Test Management Tool. \\n', '\\uf0b7  Expertise in UAT testing, and client interaction \\n', '\\uf0b7  On the spot award for best associate. \\n', ' \\nACADEMIC PROJECTS  \\n', '\\uf0b7 \\n', 'IPL Player auction price prediction \\n', 'Developed a predictive model by using ensemble machine learning models to predict the potential IPL \\n', 'player price based on the given features. \\n', ' \\n', 'Key  skills:  Data  Crawling,  Python,  Data  Transformation,  Linear  Regression,  Decision  Tree,  Random \\n', 'Forest \\n', ' \\n', '\\uf0b7 \\n', 'Identifying Diabetes Patients \\n', 'Created a prediction model to identify diabetic patients by applying PCA for dimension reduction, \\n', 'followed by ensemble machine learning techniques. \\n', ' \\n', '               Key skills: Python, PCA, Logistics Regression, Decision Trees, Random Forest,  \\n               K-Nearest Neighbours, Naive Bayes, Boosting      \\n \\nEDUCATION \\n', 'Course \\n', 'Institution \\n', 'Post Graduate Program in Data \\nScience & Engineering – Full Time \\n', 'Great Lakes Institute of Management \\n', 'Year \\n', '2019 \\n', 'Remarks \\n', '84% \\n', 'M.Sc (Software Technology) \\n', 'Vellore Institute of Technology, Vellore \\n', '2014 \\n', '89.9%  \\n', 'B.Sc (Computer Science, Maths, \\nElectronics) \\n12thStd / PUC \\n', '10thStd \\n']\n",
      "LTTextBoxHorizontal\n",
      "(66.744, 143.45, 69.02208, 153.53)\n",
      "['\\uf0b7  Have been fully involved in developing scripts to automate functional test scenarios in Regression \\n', 'Test Suite. \\n', '\\uf0b7  Have been involved in Defect Life Cycle, Analysis and reporting, SQL. \\n', '\\uf0b7  Have used HP Quality Centre and JIRA as Test Management Tool. \\n', '\\uf0b7  Expertise in UAT testing, and client interaction \\n', '\\uf0b7  On the spot award for best associate. \\n', ' \\nACADEMIC PROJECTS  \\n', '\\uf0b7 \\n', 'IPL Player auction price prediction \\n', 'Developed a predictive model by using ensemble machine learning models to predict the potential IPL \\n', 'player price based on the given features. \\n', ' \\n', 'Key  skills:  Data  Crawling,  Python,  Data  Transformation,  Linear  Regression,  Decision  Tree,  Random \\n', 'Forest \\n', ' \\n', '\\uf0b7 \\n', 'Identifying Diabetes Patients \\n', 'Created a prediction model to identify diabetic patients by applying PCA for dimension reduction, \\n', 'followed by ensemble machine learning techniques. \\n', ' \\n', '               Key skills: Python, PCA, Logistics Regression, Decision Trees, Random Forest,  \\n               K-Nearest Neighbours, Naive Bayes, Boosting      \\n \\nEDUCATION \\n', 'Course \\n', 'Institution \\n', 'Post Graduate Program in Data \\nScience & Engineering – Full Time \\n', 'Great Lakes Institute of Management \\n', 'Year \\n', '2019 \\n', 'Remarks \\n', '84% \\n', 'M.Sc (Software Technology) \\n', 'Vellore Institute of Technology, Vellore \\n', '2014 \\n', '89.9%  \\n', 'B.Sc (Computer Science, Maths, \\nElectronics) \\n12thStd / PUC \\n', '10thStd \\n', ' \\n']\n",
      "LTTextBoxHorizontal\n",
      "(229.06, 235.87, 385.43504, 246.91)\n"
     ]
    },
    {
     "name": "stdout",
     "output_type": "stream",
     "text": [
      "['\\uf0b7  Have been fully involved in developing scripts to automate functional test scenarios in Regression \\n', 'Test Suite. \\n', '\\uf0b7  Have been involved in Defect Life Cycle, Analysis and reporting, SQL. \\n', '\\uf0b7  Have used HP Quality Centre and JIRA as Test Management Tool. \\n', '\\uf0b7  Expertise in UAT testing, and client interaction \\n', '\\uf0b7  On the spot award for best associate. \\n', ' \\nACADEMIC PROJECTS  \\n', '\\uf0b7 \\n', 'IPL Player auction price prediction \\n', 'Developed a predictive model by using ensemble machine learning models to predict the potential IPL \\n', 'player price based on the given features. \\n', ' \\n', 'Key  skills:  Data  Crawling,  Python,  Data  Transformation,  Linear  Regression,  Decision  Tree,  Random \\n', 'Forest \\n', ' \\n', '\\uf0b7 \\n', 'Identifying Diabetes Patients \\n', 'Created a prediction model to identify diabetic patients by applying PCA for dimension reduction, \\n', 'followed by ensemble machine learning techniques. \\n', ' \\n', '               Key skills: Python, PCA, Logistics Regression, Decision Trees, Random Forest,  \\n               K-Nearest Neighbours, Naive Bayes, Boosting      \\n \\nEDUCATION \\n', 'Course \\n', 'Institution \\n', 'Post Graduate Program in Data \\nScience & Engineering – Full Time \\n', 'Great Lakes Institute of Management \\n', 'Year \\n', '2019 \\n', 'Remarks \\n', '84% \\n', 'M.Sc (Software Technology) \\n', 'Vellore Institute of Technology, Vellore \\n', '2014 \\n', '89.9%  \\n', 'B.Sc (Computer Science, Maths, \\nElectronics) \\n12thStd / PUC \\n', '10thStd \\n', ' \\n', 'St. Joseph’s Arts & Science College \\n']\n",
      "LTTextBoxHorizontal\n",
      "(436.49, 235.87, 461.30504, 246.91)\n",
      "['\\uf0b7  Have been fully involved in developing scripts to automate functional test scenarios in Regression \\n', 'Test Suite. \\n', '\\uf0b7  Have been involved in Defect Life Cycle, Analysis and reporting, SQL. \\n', '\\uf0b7  Have used HP Quality Centre and JIRA as Test Management Tool. \\n', '\\uf0b7  Expertise in UAT testing, and client interaction \\n', '\\uf0b7  On the spot award for best associate. \\n', ' \\nACADEMIC PROJECTS  \\n', '\\uf0b7 \\n', 'IPL Player auction price prediction \\n', 'Developed a predictive model by using ensemble machine learning models to predict the potential IPL \\n', 'player price based on the given features. \\n', ' \\n', 'Key  skills:  Data  Crawling,  Python,  Data  Transformation,  Linear  Regression,  Decision  Tree,  Random \\n', 'Forest \\n', ' \\n', '\\uf0b7 \\n', 'Identifying Diabetes Patients \\n', 'Created a prediction model to identify diabetic patients by applying PCA for dimension reduction, \\n', 'followed by ensemble machine learning techniques. \\n', ' \\n', '               Key skills: Python, PCA, Logistics Regression, Decision Trees, Random Forest,  \\n               K-Nearest Neighbours, Naive Bayes, Boosting      \\n \\nEDUCATION \\n', 'Course \\n', 'Institution \\n', 'Post Graduate Program in Data \\nScience & Engineering – Full Time \\n', 'Great Lakes Institute of Management \\n', 'Year \\n', '2019 \\n', 'Remarks \\n', '84% \\n', 'M.Sc (Software Technology) \\n', 'Vellore Institute of Technology, Vellore \\n', '2014 \\n', '89.9%  \\n', 'B.Sc (Computer Science, Maths, \\nElectronics) \\n12thStd / PUC \\n', '10thStd \\n', ' \\n', 'St. Joseph’s Arts & Science College \\n', '2012 \\n']\n",
      "LTTextBoxHorizontal\n",
      "(494.83, 235.87, 516.28504, 246.91)\n",
      "['\\uf0b7  Have been fully involved in developing scripts to automate functional test scenarios in Regression \\n', 'Test Suite. \\n', '\\uf0b7  Have been involved in Defect Life Cycle, Analysis and reporting, SQL. \\n', '\\uf0b7  Have used HP Quality Centre and JIRA as Test Management Tool. \\n', '\\uf0b7  Expertise in UAT testing, and client interaction \\n', '\\uf0b7  On the spot award for best associate. \\n', ' \\nACADEMIC PROJECTS  \\n', '\\uf0b7 \\n', 'IPL Player auction price prediction \\n', 'Developed a predictive model by using ensemble machine learning models to predict the potential IPL \\n', 'player price based on the given features. \\n', ' \\n', 'Key  skills:  Data  Crawling,  Python,  Data  Transformation,  Linear  Regression,  Decision  Tree,  Random \\n', 'Forest \\n', ' \\n', '\\uf0b7 \\n', 'Identifying Diabetes Patients \\n', 'Created a prediction model to identify diabetic patients by applying PCA for dimension reduction, \\n', 'followed by ensemble machine learning techniques. \\n', ' \\n', '               Key skills: Python, PCA, Logistics Regression, Decision Trees, Random Forest,  \\n               K-Nearest Neighbours, Naive Bayes, Boosting      \\n \\nEDUCATION \\n', 'Course \\n', 'Institution \\n', 'Post Graduate Program in Data \\nScience & Engineering – Full Time \\n', 'Great Lakes Institute of Management \\n', 'Year \\n', '2019 \\n', 'Remarks \\n', '84% \\n', 'M.Sc (Software Technology) \\n', 'Vellore Institute of Technology, Vellore \\n', '2014 \\n', '89.9%  \\n', 'B.Sc (Computer Science, Maths, \\nElectronics) \\n12thStd / PUC \\n', '10thStd \\n', ' \\n', 'St. Joseph’s Arts & Science College \\n', '2012 \\n', '65% \\n']\n",
      "LTTextBoxHorizontal\n",
      "(229.06, 191.23000000000002, 382.46079999999995, 215.71)\n",
      "['\\uf0b7  Have been fully involved in developing scripts to automate functional test scenarios in Regression \\n', 'Test Suite. \\n', '\\uf0b7  Have been involved in Defect Life Cycle, Analysis and reporting, SQL. \\n', '\\uf0b7  Have used HP Quality Centre and JIRA as Test Management Tool. \\n', '\\uf0b7  Expertise in UAT testing, and client interaction \\n', '\\uf0b7  On the spot award for best associate. \\n', ' \\nACADEMIC PROJECTS  \\n', '\\uf0b7 \\n', 'IPL Player auction price prediction \\n', 'Developed a predictive model by using ensemble machine learning models to predict the potential IPL \\n', 'player price based on the given features. \\n', ' \\n', 'Key  skills:  Data  Crawling,  Python,  Data  Transformation,  Linear  Regression,  Decision  Tree,  Random \\n', 'Forest \\n', ' \\n', '\\uf0b7 \\n', 'Identifying Diabetes Patients \\n', 'Created a prediction model to identify diabetic patients by applying PCA for dimension reduction, \\n', 'followed by ensemble machine learning techniques. \\n', ' \\n', '               Key skills: Python, PCA, Logistics Regression, Decision Trees, Random Forest,  \\n               K-Nearest Neighbours, Naive Bayes, Boosting      \\n \\nEDUCATION \\n', 'Course \\n', 'Institution \\n', 'Post Graduate Program in Data \\nScience & Engineering – Full Time \\n', 'Great Lakes Institute of Management \\n', 'Year \\n', '2019 \\n', 'Remarks \\n', '84% \\n', 'M.Sc (Software Technology) \\n', 'Vellore Institute of Technology, Vellore \\n', '2014 \\n', '89.9%  \\n', 'B.Sc (Computer Science, Maths, \\nElectronics) \\n12thStd / PUC \\n', '10thStd \\n', ' \\n', 'St. Joseph’s Arts & Science College \\n', '2012 \\n', '65% \\n', 'Sheshadripuram Independent Pre \\nUniversity College \\n']\n",
      "LTTextBoxHorizontal\n",
      "(436.49, 204.67000000000002, 461.30504, 215.71)\n"
     ]
    },
    {
     "name": "stdout",
     "output_type": "stream",
     "text": [
      "['\\uf0b7  Have been fully involved in developing scripts to automate functional test scenarios in Regression \\n', 'Test Suite. \\n', '\\uf0b7  Have been involved in Defect Life Cycle, Analysis and reporting, SQL. \\n', '\\uf0b7  Have used HP Quality Centre and JIRA as Test Management Tool. \\n', '\\uf0b7  Expertise in UAT testing, and client interaction \\n', '\\uf0b7  On the spot award for best associate. \\n', ' \\nACADEMIC PROJECTS  \\n', '\\uf0b7 \\n', 'IPL Player auction price prediction \\n', 'Developed a predictive model by using ensemble machine learning models to predict the potential IPL \\n', 'player price based on the given features. \\n', ' \\n', 'Key  skills:  Data  Crawling,  Python,  Data  Transformation,  Linear  Regression,  Decision  Tree,  Random \\n', 'Forest \\n', ' \\n', '\\uf0b7 \\n', 'Identifying Diabetes Patients \\n', 'Created a prediction model to identify diabetic patients by applying PCA for dimension reduction, \\n', 'followed by ensemble machine learning techniques. \\n', ' \\n', '               Key skills: Python, PCA, Logistics Regression, Decision Trees, Random Forest,  \\n               K-Nearest Neighbours, Naive Bayes, Boosting      \\n \\nEDUCATION \\n', 'Course \\n', 'Institution \\n', 'Post Graduate Program in Data \\nScience & Engineering – Full Time \\n', 'Great Lakes Institute of Management \\n', 'Year \\n', '2019 \\n', 'Remarks \\n', '84% \\n', 'M.Sc (Software Technology) \\n', 'Vellore Institute of Technology, Vellore \\n', '2014 \\n', '89.9%  \\n', 'B.Sc (Computer Science, Maths, \\nElectronics) \\n12thStd / PUC \\n', '10thStd \\n', ' \\n', 'St. Joseph’s Arts & Science College \\n', '2012 \\n', '65% \\n', 'Sheshadripuram Independent Pre \\nUniversity College \\n', '2008 \\n']\n",
      "LTTextBoxHorizontal\n",
      "(490.51, 204.67000000000002, 520.36504, 215.71)\n",
      "['\\uf0b7  Have been fully involved in developing scripts to automate functional test scenarios in Regression \\n', 'Test Suite. \\n', '\\uf0b7  Have been involved in Defect Life Cycle, Analysis and reporting, SQL. \\n', '\\uf0b7  Have used HP Quality Centre and JIRA as Test Management Tool. \\n', '\\uf0b7  Expertise in UAT testing, and client interaction \\n', '\\uf0b7  On the spot award for best associate. \\n', ' \\nACADEMIC PROJECTS  \\n', '\\uf0b7 \\n', 'IPL Player auction price prediction \\n', 'Developed a predictive model by using ensemble machine learning models to predict the potential IPL \\n', 'player price based on the given features. \\n', ' \\n', 'Key  skills:  Data  Crawling,  Python,  Data  Transformation,  Linear  Regression,  Decision  Tree,  Random \\n', 'Forest \\n', ' \\n', '\\uf0b7 \\n', 'Identifying Diabetes Patients \\n', 'Created a prediction model to identify diabetic patients by applying PCA for dimension reduction, \\n', 'followed by ensemble machine learning techniques. \\n', ' \\n', '               Key skills: Python, PCA, Logistics Regression, Decision Trees, Random Forest,  \\n               K-Nearest Neighbours, Naive Bayes, Boosting      \\n \\nEDUCATION \\n', 'Course \\n', 'Institution \\n', 'Post Graduate Program in Data \\nScience & Engineering – Full Time \\n', 'Great Lakes Institute of Management \\n', 'Year \\n', '2019 \\n', 'Remarks \\n', '84% \\n', 'M.Sc (Software Technology) \\n', 'Vellore Institute of Technology, Vellore \\n', '2014 \\n', '89.9%  \\n', 'B.Sc (Computer Science, Maths, \\nElectronics) \\n12thStd / PUC \\n', '10thStd \\n', ' \\n', 'St. Joseph’s Arts & Science College \\n', '2012 \\n', '65% \\n', 'Sheshadripuram Independent Pre \\nUniversity College \\n', '2008 \\n', '61.1% \\n']\n",
      "LTTextBoxHorizontal\n",
      "(229.06, 173.23000000000002, 368.63504, 184.27)\n",
      "['\\uf0b7  Have been fully involved in developing scripts to automate functional test scenarios in Regression \\n', 'Test Suite. \\n', '\\uf0b7  Have been involved in Defect Life Cycle, Analysis and reporting, SQL. \\n', '\\uf0b7  Have used HP Quality Centre and JIRA as Test Management Tool. \\n', '\\uf0b7  Expertise in UAT testing, and client interaction \\n', '\\uf0b7  On the spot award for best associate. \\n', ' \\nACADEMIC PROJECTS  \\n', '\\uf0b7 \\n', 'IPL Player auction price prediction \\n', 'Developed a predictive model by using ensemble machine learning models to predict the potential IPL \\n', 'player price based on the given features. \\n', ' \\n', 'Key  skills:  Data  Crawling,  Python,  Data  Transformation,  Linear  Regression,  Decision  Tree,  Random \\n', 'Forest \\n', ' \\n', '\\uf0b7 \\n', 'Identifying Diabetes Patients \\n', 'Created a prediction model to identify diabetic patients by applying PCA for dimension reduction, \\n', 'followed by ensemble machine learning techniques. \\n', ' \\n', '               Key skills: Python, PCA, Logistics Regression, Decision Trees, Random Forest,  \\n               K-Nearest Neighbours, Naive Bayes, Boosting      \\n \\nEDUCATION \\n', 'Course \\n', 'Institution \\n', 'Post Graduate Program in Data \\nScience & Engineering – Full Time \\n', 'Great Lakes Institute of Management \\n', 'Year \\n', '2019 \\n', 'Remarks \\n', '84% \\n', 'M.Sc (Software Technology) \\n', 'Vellore Institute of Technology, Vellore \\n', '2014 \\n', '89.9%  \\n', 'B.Sc (Computer Science, Maths, \\nElectronics) \\n12thStd / PUC \\n', '10thStd \\n', ' \\n', 'St. Joseph’s Arts & Science College \\n', '2012 \\n', '65% \\n', 'Sheshadripuram Independent Pre \\nUniversity College \\n', '2008 \\n', '61.1% \\n', 'St. Joseph’s Indian High School \\n']\n",
      "LTTextBoxHorizontal\n",
      "(436.49, 173.23000000000002, 461.30504, 184.27)\n",
      "['\\uf0b7  Have been fully involved in developing scripts to automate functional test scenarios in Regression \\n', 'Test Suite. \\n', '\\uf0b7  Have been involved in Defect Life Cycle, Analysis and reporting, SQL. \\n', '\\uf0b7  Have used HP Quality Centre and JIRA as Test Management Tool. \\n', '\\uf0b7  Expertise in UAT testing, and client interaction \\n', '\\uf0b7  On the spot award for best associate. \\n', ' \\nACADEMIC PROJECTS  \\n', '\\uf0b7 \\n', 'IPL Player auction price prediction \\n', 'Developed a predictive model by using ensemble machine learning models to predict the potential IPL \\n', 'player price based on the given features. \\n', ' \\n', 'Key  skills:  Data  Crawling,  Python,  Data  Transformation,  Linear  Regression,  Decision  Tree,  Random \\n', 'Forest \\n', ' \\n', '\\uf0b7 \\n', 'Identifying Diabetes Patients \\n', 'Created a prediction model to identify diabetic patients by applying PCA for dimension reduction, \\n', 'followed by ensemble machine learning techniques. \\n', ' \\n', '               Key skills: Python, PCA, Logistics Regression, Decision Trees, Random Forest,  \\n               K-Nearest Neighbours, Naive Bayes, Boosting      \\n \\nEDUCATION \\n', 'Course \\n', 'Institution \\n', 'Post Graduate Program in Data \\nScience & Engineering – Full Time \\n', 'Great Lakes Institute of Management \\n', 'Year \\n', '2019 \\n', 'Remarks \\n', '84% \\n', 'M.Sc (Software Technology) \\n', 'Vellore Institute of Technology, Vellore \\n', '2014 \\n', '89.9%  \\n', 'B.Sc (Computer Science, Maths, \\nElectronics) \\n12thStd / PUC \\n', '10thStd \\n', ' \\n', 'St. Joseph’s Arts & Science College \\n', '2012 \\n', '65% \\n', 'Sheshadripuram Independent Pre \\nUniversity College \\n', '2008 \\n', '61.1% \\n', 'St. Joseph’s Indian High School \\n', '2006 \\n']\n",
      "LTTextBoxHorizontal\n",
      "(487.87, 173.23000000000002, 523.24504, 184.27)\n"
     ]
    },
    {
     "name": "stdout",
     "output_type": "stream",
     "text": [
      "['\\uf0b7  Have been fully involved in developing scripts to automate functional test scenarios in Regression \\n', 'Test Suite. \\n', '\\uf0b7  Have been involved in Defect Life Cycle, Analysis and reporting, SQL. \\n', '\\uf0b7  Have used HP Quality Centre and JIRA as Test Management Tool. \\n', '\\uf0b7  Expertise in UAT testing, and client interaction \\n', '\\uf0b7  On the spot award for best associate. \\n', ' \\nACADEMIC PROJECTS  \\n', '\\uf0b7 \\n', 'IPL Player auction price prediction \\n', 'Developed a predictive model by using ensemble machine learning models to predict the potential IPL \\n', 'player price based on the given features. \\n', ' \\n', 'Key  skills:  Data  Crawling,  Python,  Data  Transformation,  Linear  Regression,  Decision  Tree,  Random \\n', 'Forest \\n', ' \\n', '\\uf0b7 \\n', 'Identifying Diabetes Patients \\n', 'Created a prediction model to identify diabetic patients by applying PCA for dimension reduction, \\n', 'followed by ensemble machine learning techniques. \\n', ' \\n', '               Key skills: Python, PCA, Logistics Regression, Decision Trees, Random Forest,  \\n               K-Nearest Neighbours, Naive Bayes, Boosting      \\n \\nEDUCATION \\n', 'Course \\n', 'Institution \\n', 'Post Graduate Program in Data \\nScience & Engineering – Full Time \\n', 'Great Lakes Institute of Management \\n', 'Year \\n', '2019 \\n', 'Remarks \\n', '84% \\n', 'M.Sc (Software Technology) \\n', 'Vellore Institute of Technology, Vellore \\n', '2014 \\n', '89.9%  \\n', 'B.Sc (Computer Science, Maths, \\nElectronics) \\n12thStd / PUC \\n', '10thStd \\n', ' \\n', 'St. Joseph’s Arts & Science College \\n', '2012 \\n', '65% \\n', 'Sheshadripuram Independent Pre \\nUniversity College \\n', '2008 \\n', '61.1% \\n', 'St. Joseph’s Indian High School \\n', '2006 \\n', '64.80% \\n']\n",
      "LTRect\n",
      "(59.544, 605.71, 551.734, 618.9100000000001)\n",
      "LTRect\n",
      "(59.544, 334.18, 551.734, 347.644)\n",
      "LTRect\n",
      "(61.224, 312.1, 223.274, 329.62)\n",
      "LTRect\n",
      "(66.504, 312.1, 218.23399999999998, 329.62)\n",
      "LTRect\n",
      "(223.75, 312.1, 416.06, 329.62)\n",
      "LTRect\n",
      "(229.06, 312.1, 410.78999999999996, 329.62)\n",
      "LTRect\n",
      "(416.54, 312.1, 478.964, 329.62)\n",
      "LTRect\n",
      "(421.61, 312.1, 473.69, 329.62)\n",
      "LTRect\n",
      "(479.45, 312.1, 529.394, 329.62)\n",
      "LTRect\n",
      "(484.51, 312.1, 524.35, 329.62)\n",
      "LTLine\n",
      "(60.984, 329.62, 60.984, 330.1)\n",
      "LTLine\n",
      "(60.984, 329.62, 60.984, 330.1)\n",
      "LTLine\n",
      "(61.224, 329.86, 223.27, 329.86)\n",
      "LTLine\n",
      "(223.27, 329.86, 223.75, 329.86)\n",
      "LTLine\n",
      "(223.75, 329.86, 416.06, 329.86)\n",
      "LTLine\n",
      "(416.06, 329.86, 416.54, 329.86)\n",
      "LTLine\n",
      "(416.54, 329.86, 478.97, 329.86)\n",
      "LTLine\n",
      "(478.97, 329.86, 479.45, 329.86)\n",
      "LTLine\n",
      "(479.45, 329.86, 529.39, 329.86)\n",
      "LTLine\n",
      "(529.63, 329.62, 529.63, 330.1)\n",
      "LTLine\n",
      "(529.63, 329.62, 529.63, 330.1)\n",
      "LTLine\n",
      "(60.984, 312.1, 60.984, 329.62)\n",
      "LTLine\n",
      "(223.51, 312.1, 223.51, 329.62)\n",
      "LTLine\n",
      "(416.3, 312.1, 416.3, 329.62)\n",
      "LTLine\n",
      "(479.21, 312.1, 479.21, 329.62)\n",
      "LTLine\n",
      "(529.63, 312.1, 529.63, 329.62)\n",
      "LTLine\n",
      "(60.984, 311.62, 60.984, 312.1)\n",
      "LTLine\n",
      "(61.224, 311.86, 223.27, 311.86)\n",
      "LTLine\n",
      "(223.51, 311.62, 223.51, 312.1)\n",
      "LTLine\n",
      "(223.75, 311.86, 416.06, 311.86)\n",
      "LTLine\n",
      "(416.3, 311.62, 416.3, 312.1)\n",
      "LTLine\n",
      "(416.54, 311.86, 478.97, 311.86)\n",
      "LTLine\n",
      "(479.21, 311.62, 479.21, 312.1)\n",
      "LTLine\n",
      "(479.45, 311.86, 529.39, 311.86)\n",
      "LTLine\n",
      "(529.63, 311.62, 529.63, 312.1)\n",
      "LTLine\n",
      "(60.984, 280.9, 60.984, 311.62)\n",
      "LTLine\n",
      "(223.51, 280.9, 223.51, 311.62)\n",
      "LTLine\n",
      "(416.3, 280.9, 416.3, 311.62)\n",
      "LTLine\n",
      "(479.21, 280.9, 479.21, 311.62)\n",
      "LTLine\n",
      "(529.63, 280.9, 529.63, 311.62)\n",
      "LTLine\n",
      "(60.984, 280.42, 60.984, 280.9)\n",
      "LTLine\n",
      "(61.224, 280.66, 223.27, 280.66)\n",
      "LTLine\n",
      "(223.51, 280.42, 223.51, 280.9)\n",
      "LTLine\n",
      "(223.75, 280.66, 416.06, 280.66)\n",
      "LTLine\n",
      "(416.3, 280.42, 416.3, 280.9)\n",
      "LTLine\n",
      "(416.54, 280.66, 478.97, 280.66)\n",
      "LTLine\n",
      "(479.21, 280.42, 479.21, 280.9)\n",
      "LTLine\n",
      "(479.45, 280.66, 529.39, 280.66)\n",
      "LTLine\n",
      "(529.63, 280.42, 529.63, 280.9)\n",
      "LTLine\n",
      "(60.984, 249.67, 60.984, 280.42)\n",
      "LTLine\n",
      "(223.51, 249.67, 223.51, 280.42)\n",
      "LTLine\n",
      "(416.3, 249.67, 416.3, 280.42)\n",
      "LTLine\n",
      "(479.21, 249.67, 479.21, 280.42)\n",
      "LTLine\n",
      "(529.63, 249.67, 529.63, 280.42)\n",
      "LTLine\n",
      "(60.984, 249.19, 60.984, 249.67)\n",
      "LTLine\n",
      "(61.224, 249.43, 223.27, 249.43)\n",
      "LTLine\n",
      "(223.51, 249.19, 223.51, 249.67)\n",
      "LTLine\n",
      "(223.75, 249.43, 416.06, 249.43)\n",
      "LTLine\n",
      "(416.3, 249.19, 416.3, 249.67)\n",
      "LTLine\n",
      "(416.54, 249.43, 478.97, 249.43)\n",
      "LTLine\n",
      "(479.21, 249.19, 479.21, 249.67)\n",
      "LTLine\n",
      "(479.45, 249.43, 529.39, 249.43)\n",
      "LTLine\n",
      "(529.63, 249.19, 529.63, 249.67)\n",
      "LTLine\n",
      "(60.984, 218.47, 60.984, 249.19)\n",
      "LTLine\n",
      "(223.51, 218.47, 223.51, 249.19)\n",
      "LTLine\n",
      "(416.3, 218.47, 416.3, 249.19)\n",
      "LTLine\n",
      "(479.21, 218.47, 479.21, 249.19)\n",
      "LTLine\n",
      "(529.63, 218.47, 529.63, 249.19)\n",
      "LTLine\n",
      "(60.984, 217.99, 60.984, 218.47)\n",
      "LTLine\n",
      "(61.224, 218.23, 223.27, 218.23)\n",
      "LTLine\n",
      "(223.51, 217.99, 223.51, 218.47)\n",
      "LTLine\n",
      "(223.75, 218.23, 416.06, 218.23)\n",
      "LTLine\n",
      "(416.3, 217.99, 416.3, 218.47)\n",
      "LTLine\n",
      "(416.54, 218.23, 478.97, 218.23)\n",
      "LTLine\n",
      "(479.21, 217.99, 479.21, 218.47)\n",
      "LTLine\n",
      "(479.45, 218.23, 529.39, 218.23)\n",
      "LTLine\n",
      "(529.63, 217.99, 529.63, 218.47)\n",
      "LTLine\n",
      "(60.984, 187.03, 60.984, 217.99)\n",
      "LTLine\n",
      "(223.51, 187.03, 223.51, 217.99)\n",
      "LTLine\n",
      "(416.3, 187.03, 416.3, 217.99)\n",
      "LTLine\n",
      "(479.21, 187.03, 479.21, 217.99)\n",
      "LTLine\n",
      "(529.63, 187.03, 529.63, 217.99)\n",
      "LTLine\n",
      "(60.984, 186.55, 60.984, 187.03)\n",
      "LTLine\n",
      "(61.224, 186.79, 223.27, 186.79)\n",
      "LTLine\n",
      "(223.51, 186.55, 223.51, 187.03)\n",
      "LTLine\n",
      "(223.75, 186.79, 416.06, 186.79)\n",
      "LTLine\n",
      "(416.3, 186.55, 416.3, 187.03)\n",
      "LTLine\n",
      "(416.54, 186.79, 478.97, 186.79)\n",
      "LTLine\n",
      "(479.21, 186.55, 479.21, 187.03)\n",
      "LTLine\n",
      "(479.45, 186.79, 529.39, 186.79)\n",
      "LTLine\n",
      "(529.63, 186.55, 529.63, 187.03)\n",
      "LTLine\n",
      "(60.984, 156.05, 60.984, 186.55)\n",
      "LTLine\n",
      "(60.744, 155.81, 61.224, 155.81)\n",
      "LTLine\n",
      "(60.744, 155.81, 61.224, 155.81)\n",
      "LTLine\n",
      "(61.224, 155.81, 223.27, 155.81)\n",
      "LTLine\n",
      "(223.51, 156.05, 223.51, 186.55)\n",
      "LTLine\n",
      "(223.27, 155.81, 223.75, 155.81)\n",
      "LTLine\n",
      "(223.75, 155.81, 416.06, 155.81)\n",
      "LTLine\n",
      "(416.3, 156.05, 416.3, 186.55)\n",
      "LTLine\n",
      "(416.06, 155.81, 416.54, 155.81)\n",
      "LTLine\n",
      "(416.54, 155.81, 478.97, 155.81)\n",
      "LTLine\n",
      "(479.21, 156.05, 479.21, 186.55)\n",
      "LTLine\n",
      "(478.97, 155.81, 479.45, 155.81)\n",
      "LTLine\n",
      "(479.45, 155.81, 529.39, 155.81)\n",
      "LTLine\n",
      "(529.63, 156.05, 529.63, 186.55)\n",
      "LTLine\n",
      "(529.39, 155.81, 529.87, 155.81)\n",
      "LTLine\n",
      "(529.39, 155.81, 529.87, 155.81)\n",
      "LTRect\n",
      "(24.0, 767.52, 24.48, 768.0)\n",
      "LTRect\n",
      "(24.0, 767.52, 24.48, 768.0)\n",
      "LTRect\n",
      "(24.48, 767.52, 587.74, 768.0)\n",
      "LTRect\n",
      "(587.74, 767.52, 588.21998, 768.0)\n",
      "LTRect\n",
      "(587.74, 767.52, 588.21998, 768.0)\n",
      "LTRect\n",
      "(24.0, 24.264, 24.48, 767.524)\n",
      "LTRect\n",
      "(587.74, 24.264, 588.21998, 767.524)\n",
      "LTRect\n",
      "(24.0, 23.784, 24.48, 24.26398)\n",
      "LTRect\n",
      "(24.0, 23.784, 24.48, 24.26398)\n",
      "LTRect\n",
      "(24.48, 23.784, 587.74, 24.26398)\n",
      "LTRect\n",
      "(587.74, 23.784, 588.21998, 24.26398)\n",
      "LTRect\n",
      "(587.74, 23.784, 588.21998, 24.26398)\n"
     ]
    }
   ],
   "source": [
    "from pdfminer.pdfdocument import PDFDocument\n",
    "from pdfminer.pdfpage import PDFPage\n",
    "from pdfminer.pdfparser import PDFParser\n",
    "from pdfminer.pdfinterp import PDFResourceManager, PDFPageInterpreter\n",
    "from pdfminer.converter import PDFPageAggregator\n",
    "from pdfminer.layout import LAParams, LTTextBox, LTTextLine, LTFigure\n",
    "\n",
    "\n",
    "def parse_layout(layout):\n",
    "    \"\"\"Function to recursively parse the layout tree.\"\"\"\n",
    "    aaaaaa=[]\n",
    "    for lt_obj in layout:\n",
    "        print(lt_obj.__class__.__name__)\n",
    "        print(lt_obj.bbox)\n",
    "        if isinstance(lt_obj, LTTextBox) or isinstance(lt_obj, LTTextLine):\n",
    "            #print(lt_obj.get_text())\n",
    "            aaaaaa.append(lt_obj.get_text())\n",
    "            print(aaaaaa)\n",
    "        elif isinstance(lt_obj, LTFigure):\n",
    "            parse_layout(lt_obj)  # Recursive\n",
    "\n",
    "\n",
    "fp = open('Desktop/Resume-Ashok.pdf', 'rb')\n",
    "parser = PDFParser(fp)\n",
    "doc = PDFDocument(parser)\n",
    "\n",
    "rsrcmgr = PDFResourceManager()\n",
    "laparams = LAParams()\n",
    "device = PDFPageAggregator(rsrcmgr, laparams=laparams)\n",
    "interpreter = PDFPageInterpreter(rsrcmgr, device)\n",
    "for page in PDFPage.create_pages(doc):\n",
    "    interpreter.process_page(page)\n",
    "    layout = device.get_result()\n",
    "    parse_layout(layout)\n"
   ]
  },
  {
   "cell_type": "code",
   "execution_count": null,
   "metadata": {},
   "outputs": [],
   "source": []
  },
  {
   "cell_type": "code",
   "execution_count": null,
   "metadata": {},
   "outputs": [],
   "source": []
  }
 ],
 "metadata": {
  "kernelspec": {
   "display_name": "Python 3",
   "language": "python",
   "name": "python3"
  },
  "language_info": {
   "codemirror_mode": {
    "name": "ipython",
    "version": 3
   },
   "file_extension": ".py",
   "mimetype": "text/x-python",
   "name": "python",
   "nbconvert_exporter": "python",
   "pygments_lexer": "ipython3",
   "version": "3.7.1"
  }
 },
 "nbformat": 4,
 "nbformat_minor": 2
}
