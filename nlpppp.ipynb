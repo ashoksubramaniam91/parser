{
 "cells": [
  {
   "cell_type": "code",
   "execution_count": 1,
   "metadata": {},
   "outputs": [],
   "source": [
    "import numpy as np\n",
    "import pandas as pd"
   ]
  },
  {
   "cell_type": "code",
   "execution_count": 638,
   "metadata": {},
   "outputs": [
    {
     "ename": "NameError",
     "evalue": "name 'your_list' is not defined",
     "output_type": "error",
     "traceback": [
      "\u001b[1;31m---------------------------------------------------------------------------\u001b[0m",
      "\u001b[1;31mNameError\u001b[0m                                 Traceback (most recent call last)",
      "\u001b[1;32m<ipython-input-638-9c5711d050cb>\u001b[0m in \u001b[0;36m<module>\u001b[1;34m\u001b[0m\n\u001b[0;32m     83\u001b[0m     \u001b[1;31m#your_list1 = list(reader)\u001b[0m\u001b[1;33m\u001b[0m\u001b[1;33m\u001b[0m\u001b[1;33m\u001b[0m\u001b[0m\n\u001b[0;32m     84\u001b[0m \u001b[1;31m#Sets are used as it has a a constant time for lookup hence the overall the time for the total code will not exceed O(n)\u001b[0m\u001b[1;33m\u001b[0m\u001b[1;33m\u001b[0m\u001b[1;33m\u001b[0m\u001b[0m\n\u001b[1;32m---> 85\u001b[1;33m \u001b[0ms\u001b[0m \u001b[1;33m=\u001b[0m \u001b[0mset\u001b[0m\u001b[1;33m(\u001b[0m\u001b[0myour_list\u001b[0m\u001b[1;33m[\u001b[0m\u001b[1;36m0\u001b[0m\u001b[1;33m]\u001b[0m\u001b[1;33m)\u001b[0m\u001b[1;33m\u001b[0m\u001b[1;33m\u001b[0m\u001b[0m\n\u001b[0m\u001b[0;32m     86\u001b[0m \u001b[0ms1\u001b[0m \u001b[1;33m=\u001b[0m \u001b[0myour_list\u001b[0m\u001b[1;33m\u001b[0m\u001b[1;33m\u001b[0m\u001b[0m\n\u001b[0;32m     87\u001b[0m \u001b[0ms2\u001b[0m \u001b[1;33m=\u001b[0m \u001b[0myour_listatt\u001b[0m\u001b[1;33m\u001b[0m\u001b[1;33m\u001b[0m\u001b[0m\n",
      "\u001b[1;31mNameError\u001b[0m: name 'your_list' is not defined"
     ]
    }
   ],
   "source": [
    "import csv\n",
    "import re\n",
    "import spacy\n",
    "import sys\n",
    "#reload(sys)\n",
    "import pandas as pd\n",
    "#sys.setdefaultencoding('utf8')\n",
    "#from cStringIO import StringIO\n",
    "from io import StringIO\n",
    "from pdfminer.pdfinterp import PDFResourceManager, PDFPageInterpreter\n",
    "from pdfminer.converter import TextConverter\n",
    "from pdfminer.layout import LAParams\n",
    "from pdfminer.pdfpage import PDFPage\n",
    "import os\n",
    "import sys, getopt\n",
    "import numpy as np\n",
    "from bs4 import BeautifulSoup\n",
    "import urllib\n",
    "from urllib.request import urlopen\n",
    "#Function converting pdf to string\n",
    "def convert(fname, pages=None):\n",
    "    if not pages:\n",
    "        pagenums = set()\n",
    "    else:\n",
    "        pagenums = set(pages)\n",
    "\n",
    "    output = StringIO()\n",
    "    manager = PDFResourceManager()\n",
    "    converter = TextConverter(manager, output, laparams=LAParams())\n",
    "    interpreter = PDFPageInterpreter(manager, converter)\n",
    "\n",
    "    infile = open(fname, 'rb')\n",
    "    for page in PDFPage.get_pages(infile, pagenums):\n",
    "        interpreter.process_page(page)\n",
    "    infile.close()\n",
    "    converter.close()\n",
    "    text = output.getvalue()\n",
    "    output.close\n",
    "    return text\n",
    "#Function to extract names from the string using spacy\n",
    "def extract_name(string):\n",
    "    r1 = str(string)\n",
    "    nlp = spacy.load('en_core_web_sm')\n",
    "    doc = nlp(r1)\n",
    "    for ent in doc.ents:\n",
    "        if(ent.label_ == 'PER'):\n",
    "            print(ent.text)\n",
    "            break\n",
    "#Function to extract Phone Numbers from string using regular expressions\n",
    "def extract_phone_numbers(string):\n",
    "    r = re.compile(r'(\\d{3}[-\\.\\s]??\\d{3}[-\\.\\s]??\\d{4}|\\(\\d{3}\\)\\s*\\d{3}[-\\.\\s]??\\d{4}|\\d{3}[-\\.\\s]??\\d{4})')\n",
    "    phone_numbers = r.findall(string)\n",
    "    return [re.sub(r'\\D', '', number) for number in phone_numbers]\n",
    "#Function to extract Email address from a string using regular expressions\n",
    "def extract_email_addresses(string):\n",
    "    r = re.compile(r'[\\w\\.-]+@[\\w\\.-]+')\n",
    "    return r.findall(string)\n",
    "#Converting pdf to string\n",
    "resume_string = convert(\"Desktop/Resume-Ashok.pdf\")\n",
    "resume_string1 = resume_string\n",
    "#Removing commas in the resume for an effecient check\n",
    "resume_string = resume_string.replace(',',' ')\n",
    "#Converting all the charachters in lower case\n",
    "resume_string = resume_string.lower()\n",
    "#Information Extraction Function\n",
    "def extract_information(string):\n",
    "    string.replace (\" \", \"+\")\n",
    "    query = string\n",
    "    soup = BeautifulSoup(urlopen(\"https://en.wikipedia.org/wiki/\" + query), \"html.parser\")\n",
    "    #creates soup and opens URL for Google. Begins search with site:wikipedia.com so only wikipedia\n",
    "    #links show up. Uses html parser.\n",
    "    for item in soup.find_all('div', attrs={'id' : \"mw-content-text\"}):\n",
    "        print(item.find('p').get_text())\n",
    "        print('\\n')\n",
    "#with open('Desktop/techatt.csv', 'rb') as f:\n",
    "    #reader = csv.reader(f)\n",
    "    #your_listatt = list(reader)\n",
    "#with open('Desktop/techskill.csv', 'rb') as f:\n",
    "    #reader = csv.reader(f)\n",
    "    #your_list = list(reader)\n",
    "#with open('Desktop/nontechnicalskills.csv', 'rb') as f:\n",
    "    #reader = csv.reader(f)\n",
    "    #your_list1 = list(reader)\n",
    "#Sets are used as it has a a constant time for lookup hence the overall the time for the total code will not exceed O(n)\n",
    "s = set(your_list[0])\n",
    "s1 = your_list\n",
    "s2 = your_listatt\n",
    "skillindex = []\n",
    "skills = []\n",
    "skillsatt = []\n",
    "print('\\n')\n",
    "extract_name(resume_string1)\n",
    "print('\\n')\n",
    "print('Phone Number is')\n",
    "y = extract_phone_numbers(resume_string)\n",
    "y1 = []\n",
    "for i in range(len(y)):\n",
    "    if(len(y[i])>9):\n",
    "        y1.append(y[i])\n",
    "print(y1)\n",
    "print('\\n')\n",
    "print('Email id is')\n",
    "print(extract_email_addresses(resume_string))\n",
    "for word in resume_string.split(\" \"):\n",
    "    if word in s:\n",
    "        skills.append(word)\n",
    "skills1 = list(set(skills))\n",
    "print('\\n')\n",
    "print(\"Following are his/her Technical Skills\")\n",
    "print('\\n')\n",
    "np_a1 = np.array(your_list)\n",
    "for i in range(len(skills1)):\n",
    "    item_index = np.where(np_a1==skills1[i])\n",
    "    skillindex.append(item_index[1][0])\n",
    "\n",
    "nlen = len(skillindex)\n",
    "for i in range(nlen):\n",
    "    print(skills1[i])\n",
    "    print(s2[0][skillindex[i]])\n",
    "    print('\\n')\n",
    "\n",
    "#Sets are used as it has a a constant time for lookup hence the overall the time for the total code will not exceed O(n)\n",
    "s1 = set(your_list1[0])\n",
    "nontechskills = []\n",
    "for word in resume_string.split(\" \"):\n",
    "    if word in s1:\n",
    "        nontechskills.append(word)\n",
    "nontechskills = set(nontechskills)\n",
    "print('\\n')\n",
    "\n",
    "print(\"Following are his/her Non Technical Skills\")\n",
    "list5 = list(nontechskills)\n",
    "print('\\n')\n",
    "for i in range(len(list5)):\n",
    "    print(list5[i])\n",
    "print('\\n \\n')"
   ]
  },
  {
   "cell_type": "code",
   "execution_count": 639,
   "metadata": {},
   "outputs": [
    {
     "data": {
      "text/plain": [
       "'Ashok S \\n\\n7795801335 / 7358565121  \\n\\n   ashoksubramaniam91@gmail.com \\n\\n \\n\\n \\n\\n SUMMARY \\n▪ \\n\\nKnowledge in machine learning, data analysis & visualization with hands-on diverse experience \\n\\nacross all major Sectors. \\n\\n KEY SKILLS \\n\\n\\uf0b7  Python (Data Visualization, Data Wrangling using Python libraries) \\n\\n\\uf0b7 \\n\\nSQL, Data Modeling and Data Warehousing. \\n\\n\\uf0b7  Reporting and BI Tools: Tableau \\n\\n\\uf0b7 \\n\\n\\uf0b7 \\n\\nStatistics \\n\\nTime series Forecasting, ARIMA and Data Mining. \\n\\n \\n\\n \\n\\n \\n\\n\\uf0b7  Machine Learning -Regression, Classification (Logistic Regression, KNN, SVM, Naïve Bayes, Decision \\n\\nTree), Clustering (K-Means, Agglomerative), Ensemble Techniques, Text Mining & Sentimental \\n\\nAnalysis \\n\\n  SKILLS SUMMARY \\n\\n•  Programming languages: Python, Java, Jupiter Notebook. \\n\\n•  Operating Systems  : Windows \\n\\n•  Database \\n\\n: MS-SQL Server 2008 & 2012 \\n\\n•  Virtualization Tools  : Tableau. \\n\\n \\n\\n•  Machine Learning \\n\\n: Model Like-Regression, SVM, Random Forest, KNN, K-Neighbors, PCA. \\n\\n•  Data Modelling techniques: Pre-processing, Data Modelling using NumPy, Pandas, SciPy \\n\\n  PROFESSIONAL SUMMARY (Tata Consultancy Services Pvt Ltd Jan 2015 – Dec 2018)                                            \\n\\n \\n\\n \\n\\n   Data Analyst (Nov 2018 – Dec 2019): \\n\\n\\uf0b7  Extracting data from SQL, Data Crawling from Web sites using Beautiful Soap \\n\\n\\uf0b7  Experienced with working on statistical models in Excel \\n\\n\\uf0b7  Built  Predictive  Models  /  Data  Science  Models,  familiar  with  data  analysis,  data  sampling,  data \\n\\nclassification & data visualization techniques, mathematical models and algorithms. \\n\\n \\n\\nAutomation & Manual Tester (Jan 2015 – Oct 2017): \\n\\n\\uf0b7 \\n\\nISTQB foundation level certified tester. \\n\\n\\uf0b7  Managed a team of 3 as part of regression testing. \\n\\n\\uf0b7  Have good understanding of test design, identification of automation test scenarios, scoping of \\n\\nfunctional requirements, test execution and defect analysis/reporting, report testing. \\n\\n\\x0c\\uf0b7  Have been fully involved in developing scripts to automate functional test scenarios in Regression \\n\\nTest Suite. \\n\\n\\uf0b7  Have been involved in Defect Life Cycle, Analysis and reporting, SQL. \\n\\n\\uf0b7  Have used HP Quality Centre and JIRA as Test Management Tool. \\n\\n\\uf0b7  Expertise in UAT testing, and client interaction \\n\\n\\uf0b7  On the spot award for best associate. \\n\\n \\nACADEMIC PROJECTS  \\n\\n\\uf0b7 \\n\\nIPL Player auction price prediction \\n\\nDeveloped a predictive model by using ensemble machine learning models to predict the potential IPL \\n\\nplayer price based on the given features. \\n\\n \\n\\nKey  skills:  Data  Crawling,  Python,  Data  Transformation,  Linear  Regression,  Decision  Tree,  Random \\n\\nForest \\n\\n \\n\\n\\uf0b7 \\n\\nIdentifying Diabetes Patients \\n\\nCreated a prediction model to identify diabetic patients by applying PCA for dimension reduction, \\n\\nfollowed by ensemble machine learning techniques. \\n\\n \\n\\n               Key skills: Python, PCA, Logistics Regression, Decision Trees, Random Forest,  \\n               K-Nearest Neighbours, Naive Bayes, Boosting      \\n \\nEDUCATION \\n\\nCourse \\n\\nInstitution \\n\\nPost Graduate Program in Data \\nScience & Engineering – Full Time \\n\\nGreat Lakes Institute of Management \\n\\nYear \\n\\n2019 \\n\\nRemarks \\n\\n84% \\n\\nM.Sc (Software Technology) \\n\\nVellore Institute of Technology, Vellore \\n\\n2014 \\n\\n89.9%  \\n\\nB.Sc (Computer Science, Maths, \\nElectronics) \\n12thStd / PUC \\n\\n10thStd \\n\\n \\n\\nSt. Joseph’s Arts & Science College \\n\\n2012 \\n\\n65% \\n\\nSheshadripuram Independent Pre \\nUniversity College \\n\\n2008 \\n\\n61.1% \\n\\nSt. Joseph’s Indian High School \\n\\n2006 \\n\\n64.80% \\n\\n\\x0c'"
      ]
     },
     "execution_count": 639,
     "metadata": {},
     "output_type": "execute_result"
    }
   ],
   "source": [
    "resume_string1"
   ]
  },
  {
   "cell_type": "code",
   "execution_count": 640,
   "metadata": {},
   "outputs": [],
   "source": [
    "a = resume_string1.replace(' ', ' ').replace('\\t', ' ').replace('\\n', ' ')"
   ]
  },
  {
   "cell_type": "code",
   "execution_count": 641,
   "metadata": {},
   "outputs": [
    {
     "data": {
      "text/plain": [
       "'Ashok S   7795801335 / 7358565121       ashoksubramaniam91@gmail.com          SUMMARY  ▪   Knowledge in machine learning, data analysis & visualization with hands-on diverse experience   across all major Sectors.    KEY SKILLS   \\uf0b7  Python (Data Visualization, Data Wrangling using Python libraries)   \\uf0b7   SQL, Data Modeling and Data Warehousing.   \\uf0b7  Reporting and BI Tools: Tableau   \\uf0b7   \\uf0b7   Statistics   Time series Forecasting, ARIMA and Data Mining.            \\uf0b7  Machine Learning -Regression, Classification (Logistic Regression, KNN, SVM, Naïve Bayes, Decision   Tree), Clustering (K-Means, Agglomerative), Ensemble Techniques, Text Mining & Sentimental   Analysis     SKILLS SUMMARY   •  Programming languages: Python, Java, Jupiter Notebook.   •  Operating Systems  : Windows   •  Database   : MS-SQL Server 2008 & 2012   •  Virtualization Tools  : Tableau.      •  Machine Learning   : Model Like-Regression, SVM, Random Forest, KNN, K-Neighbors, PCA.   •  Data Modelling techniques: Pre-processing, Data Modelling using NumPy, Pandas, SciPy     PROFESSIONAL SUMMARY (Tata Consultancy Services Pvt Ltd Jan 2015 – Dec 2018)                                                       Data Analyst (Nov 2018 – Dec 2019):   \\uf0b7  Extracting data from SQL, Data Crawling from Web sites using Beautiful Soap   \\uf0b7  Experienced with working on statistical models in Excel   \\uf0b7  Built  Predictive  Models  /  Data  Science  Models,  familiar  with  data  analysis,  data  sampling,  data   classification & data visualization techniques, mathematical models and algorithms.      Automation & Manual Tester (Jan 2015 – Oct 2017):   \\uf0b7   ISTQB foundation level certified tester.   \\uf0b7  Managed a team of 3 as part of regression testing.   \\uf0b7  Have good understanding of test design, identification of automation test scenarios, scoping of   functional requirements, test execution and defect analysis/reporting, report testing.   \\x0c\\uf0b7  Have been fully involved in developing scripts to automate functional test scenarios in Regression   Test Suite.   \\uf0b7  Have been involved in Defect Life Cycle, Analysis and reporting, SQL.   \\uf0b7  Have used HP Quality Centre and JIRA as Test Management Tool.   \\uf0b7  Expertise in UAT testing, and client interaction   \\uf0b7  On the spot award for best associate.     ACADEMIC PROJECTS    \\uf0b7   IPL Player auction price prediction   Developed a predictive model by using ensemble machine learning models to predict the potential IPL   player price based on the given features.      Key  skills:  Data  Crawling,  Python,  Data  Transformation,  Linear  Regression,  Decision  Tree,  Random   Forest      \\uf0b7   Identifying Diabetes Patients   Created a prediction model to identify diabetic patients by applying PCA for dimension reduction,   followed by ensemble machine learning techniques.                     Key skills: Python, PCA, Logistics Regression, Decision Trees, Random Forest,                  K-Nearest Neighbours, Naive Bayes, Boosting         EDUCATION   Course   Institution   Post Graduate Program in Data  Science & Engineering – Full Time   Great Lakes Institute of Management   Year   2019   Remarks   84%   M.Sc (Software Technology)   Vellore Institute of Technology, Vellore   2014   89.9%    B.Sc (Computer Science, Maths,  Electronics)  12thStd / PUC   10thStd      St. Joseph’s Arts & Science College   2012   65%   Sheshadripuram Independent Pre  University College   2008   61.1%   St. Joseph’s Indian High School   2006   64.80%   \\x0c'"
      ]
     },
     "execution_count": 641,
     "metadata": {},
     "output_type": "execute_result"
    }
   ],
   "source": [
    "a"
   ]
  },
  {
   "cell_type": "code",
   "execution_count": 642,
   "metadata": {},
   "outputs": [
    {
     "name": "stdout",
     "output_type": "stream",
     "text": [
      "7795801335\n"
     ]
    }
   ],
   "source": [
    "y = extract_phone_numbers(a)\n",
    "y1 = []\n",
    "for i in range(len(y)):\n",
    "    if(len(y[i])>9):\n",
    "        y1.append(y[i])\n",
    "yy=y1[0]\n",
    "print(yy)"
   ]
  },
  {
   "cell_type": "code",
   "execution_count": 643,
   "metadata": {},
   "outputs": [
    {
     "name": "stdout",
     "output_type": "stream",
     "text": [
      "ashoksubramaniam91@gmail.com\n"
     ]
    }
   ],
   "source": [
    "em=extract_email_addresses(a)\n",
    "em=em[0]\n",
    "print(em)"
   ]
  },
  {
   "cell_type": "code",
   "execution_count": 644,
   "metadata": {},
   "outputs": [],
   "source": [
    "import nltk\n",
    "from nameparser.parser import HumanName\n",
    "\n",
    "def get_human_names(text):\n",
    "    tokens = nltk.tokenize.word_tokenize(text)\n",
    "    pos = nltk.pos_tag(tokens)\n",
    "    sentt = nltk.ne_chunk(pos, binary = False)\n",
    "    person_list = []\n",
    "    person = []\n",
    "    name = \"\"\n",
    "    for subtree in sentt.subtrees(filter=lambda t: t.label() == 'PERSON'):\n",
    "        for leaf in subtree.leaves():\n",
    "            person.append(leaf[0])\n",
    "        if len(person) > 1: #avoid grabbing lone surnames\n",
    "            for part in person:\n",
    "                name += part + ' '\n",
    "            if name[:-1] not in person_list:\n",
    "                person_list.append(name[:-1])\n",
    "            name = ''\n",
    "        person = []\n",
    "\n",
    "    return (person_list)\n"
   ]
  },
  {
   "cell_type": "code",
   "execution_count": 645,
   "metadata": {},
   "outputs": [
    {
     "name": "stdout",
     "output_type": "stream",
     "text": [
      "Data Wrangling\n",
      "Data Modeling\n",
      "Data Warehousing\n",
      "Data Mining\n",
      "Machine Learning\n",
      "Naïve Bayes\n",
      "Decision Tree\n",
      "Text Mining\n",
      "Jupiter Notebook\n",
      "Virtualization Tools\n",
      "Random Forest\n",
      "Data Modelling\n",
      "Tata Ltd\n",
      "Data Analyst\n",
      "Data Crawling\n",
      "Beautiful Soap\n",
      "Manual Tester\n",
      "Test Tool\n",
      "Data Transformation\n",
      "Linear Regression\n",
      "Logistics Regression\n",
      "Decision Trees\n",
      "Naive Bayes\n",
      "Lakes Institute\n",
      "Vellore Institute\n",
      "Indian School\n"
     ]
    }
   ],
   "source": [
    "names = get_human_names(a)\n",
    "#print(\"LAST, FIRST\")\n",
    "for name in names: \n",
    "    #last_first = HumanName(name).last + ', ' + HumanName(name).first\n",
    "    first_last = HumanName(name).first + ' ' + HumanName(name).last\n",
    "    print(first_last)"
   ]
  },
  {
   "cell_type": "code",
   "execution_count": 646,
   "metadata": {},
   "outputs": [],
   "source": [
    "#import nltk"
   ]
  },
  {
   "cell_type": "code",
   "execution_count": 647,
   "metadata": {},
   "outputs": [],
   "source": [
    "#nltk.download('averaged_perceptron_tagger')"
   ]
  },
  {
   "cell_type": "code",
   "execution_count": 648,
   "metadata": {},
   "outputs": [],
   "source": [
    "#nltk.download('maxent_ne_chunker')"
   ]
  },
  {
   "cell_type": "code",
   "execution_count": 649,
   "metadata": {},
   "outputs": [],
   "source": [
    "#nltk.download('words')"
   ]
  },
  {
   "cell_type": "code",
   "execution_count": 650,
   "metadata": {},
   "outputs": [
    {
     "name": "stdout",
     "output_type": "stream",
     "text": [
      "Noun phrases: ['Ashok S', 'SUMMARY  ▪', 'Knowledge', 'machine learning', 'data analysis', 'visualization', 'hands-on diverse experience', 'all major Sectors', 'KEY SKILLS', 'Python', 'Data Visualization', 'Python libraries', 'Reporting', 'BI', 'Tableau', 'Statistics   Time series Forecasting', 'ARIMA', 'Data Mining', 'Machine Learning', '-Regression', 'Logistic Regression', 'KNN', 'SVM', 'Naïve Bayes', 'Decision   Tree', 'Programming languages', 'Python', 'Java', 'Jupiter Notebook', 'Operating Systems', 'Windows', 'Database', 'MS-SQL Server', 'Virtualization Tools', 'Tableau', 'Machine Learning', 'Model Like-Regression', 'SVM', 'Random Forest', 'KNN', 'K-Neighbors', 'PCA', 'Data Modelling techniques', 'Data Modelling', 'NumPy', 'Pandas', 'SciPy', 'PROFESSIONAL SUMMARY', 'Tata Consultancy Services Pvt Ltd Jan', 'Dec 2018)                                                       Data Analyst', 'Nov 2018 – Dec', 'Extracting data', 'SQL', 'Web sites', 'statistical models', 'Excel', 'Data', 'data  analysis', 'data', 'sampling', 'data   classification & data visualization techniques', 'mathematical models', 'algorithms', 'Jan', 'Oct', 'a team', 'part', 'regression testing', 'good understanding', 'test design', 'identification', 'automation test scenarios', 'functional requirements', 'test execution', 'analysis/reporting', 'scripts', 'functional test scenarios', 'Regression   Test Suite', 'Defect Life Cycle', 'Analysis', 'reporting', 'SQL', 'HP Quality Centre', 'JIRA', 'Test Management Tool', 'Expertise', 'UAT testing', 'client interaction', 'the spot award', 'best associate', 'ACADEMIC', 'IPL Player auction price prediction', 'a predictive model', 'ensemble machine learning models', 'the potential IPL   player price', 'the given features', 'Key  skills', 'Data', 'Crawling', 'Python', 'Data  Transformation', 'Linear  Regression', 'Decision  Tree', 'Forest      \\uf0b7', 'Identifying Diabetes Patients', 'a prediction model', 'diabetic patients', 'PCA', 'dimension reduction', 'ensemble machine learning techniques', 'Key skills', 'Python', 'PCA', 'Logistics Regression', 'Decision Trees', 'Random Forest', 'K', 'Nearest Neighbours', 'Naive Bayes', 'Boosting', 'EDUCATION', 'Course   Institution   Post Graduate Program', 'Data  Science', 'Engineering', 'Full Time', 'Great Lakes Institute', 'Management', 'Year', 'Remarks', '84%', 'M.Sc (Software Technology)   Vellore Institute', 'Technology', '89.9%', 'Computer Science', 'Maths', 'Electronics', 'PUC', 'St. Joseph', 'Arts', 'Science', 'College', '65%', 'Sheshadripuram Independent Pre  University College   2008   61.1%', 'St. Joseph', 'Indian High School', '64.80%']\n",
      "Verbs: ['wrangle', 'use', 'cluster', 'model', 'process', 'use', 'extract', 'crawl', 'use', 'experience', 'work', 'build', 'certify', 'manage', 'scope', 'test', 'defect', 'involve', 'develop', 'automate', 'involve', 'use', 'develop', 'use', 'learn', 'predict', 'base', 'give', 'identify', 'create', 'identify', 'apply', 'follow']\n",
      "Ashok S PERSON\n",
      "Python GPE\n",
      "Data Wrangling PERSON\n",
      "Python ORG\n",
      "SQL ORG\n",
      "Data Modeling PERSON\n",
      "ARIMA ORG\n",
      "Data Mining PERSON\n",
      "Machine Learning GPE\n",
      "KNN ORG\n",
      "SVM ORG\n",
      "Decision   Tree WORK_OF_ART\n",
      "Text Mining & Sentimental   Analysis     SKILLS ORG\n",
      "Python ORG\n",
      "Java ORG\n",
      "Operating Systems ORG\n",
      "2008 & 2012 DATE\n",
      "Tableau ORG\n",
      "SVM ORG\n",
      "Random Forest ORG\n",
      "KNN ORG\n",
      "K-Neighbors ORG\n",
      "PCA ORG\n",
      "Data Modelling PERSON\n",
      "Data Modelling PERSON\n",
      "NumPy LOC\n",
      "SciPy     PROFESSIONAL SUMMARY FAC\n",
      "Tata Consultancy Services Pvt Ltd ORG\n",
      "Jan 2015 DATE\n",
      "2018 DATE\n",
      "SQL ORG\n",
      "Data Crawling PERSON\n",
      "Beautiful Soap ORG\n",
      "Excel PRODUCT\n",
      "Built GPE\n",
      "Data ORG\n",
      "Automation & Manual Tester ORG\n",
      "Jan 2015 DATE\n",
      "2017 DATE\n",
      "ISTQB ORG\n",
      "3 CARDINAL\n",
      "Regression   Test Suite ORG\n",
      "Defect Life Cycle WORK_OF_ART\n",
      "SQL ORG\n",
      "HP Quality Centre ORG\n",
      "JIRA as Test Management Tool ORG\n",
      "Expertise PRODUCT\n",
      "UAT ORG\n",
      "IPL ORG\n",
      "IPL LOC\n",
      "Python GPE\n",
      "Data  Transformation ORG\n",
      "Linear ORG\n",
      "Regression PERSON\n",
      "Tree PERSON\n",
      "Random    ORG\n",
      "Python GPE\n",
      "PCA ORG\n",
      "Random Forest ORG\n",
      "Data  Science & Engineering ORG\n",
      "Full Time    ORG\n",
      "Great Lakes Institute of Management FAC\n",
      "2019 DATE\n",
      "84% PERCENT\n",
      "Software Technology ORG\n",
      "Vellore Institute of Technology ORG\n",
      "Vellore ORG\n",
      "2014 DATE\n",
      "89.9% PERCENT\n",
      "Maths PERSON\n",
      "Electronics ORG\n",
      "10thStd       MONEY\n",
      "2012 DATE\n",
      "65% PERCENT\n",
      "Sheshadripuram Independent Pre ORG\n",
      "University College ORG\n",
      "2008 DATE\n",
      "61.1% PERCENT\n",
      "St. Joseph’s GPE\n",
      "Indian High School ORG\n",
      "2006 DATE\n",
      "64.80% PERCENT\n"
     ]
    }
   ],
   "source": [
    "import spacy\n",
    "\n",
    "# Load English tokenizer, tagger, parser, NER and word vectors\n",
    "nlp = spacy.load(\"en_core_web_sm\")\n",
    "\n",
    "# Process whole documents\n",
    "text = (\"When Sebastian Thrun started working on self-driving cars at \"\n",
    "        \"Google in 2007, few people outside of the company took him \"\n",
    "        \"seriously. “I can tell you very senior CEOs of major American \"\n",
    "        \"car companies would shake my hand and turn away because I wasn’t \"\n",
    "        \"worth talking to,” said Thrun, in an interview with Recode earlier \"\n",
    "        \"this week.\")\n",
    "doc = nlp(a)\n",
    "\n",
    "# Analyze syntax\n",
    "aa=[chunk.text for chunk in doc.noun_chunks]\n",
    "print(\"Noun phrases:\", [chunk.text for chunk in doc.noun_chunks])\n",
    "print(\"Verbs:\", [token.lemma_ for token in doc if token.pos_ == \"VERB\"])\n",
    "\n",
    "# Find named entities, phrases and concepts\n",
    "for entity in doc.ents:\n",
    "    print(entity.text, entity.label_)"
   ]
  },
  {
   "cell_type": "code",
   "execution_count": 651,
   "metadata": {},
   "outputs": [],
   "source": [
    "#python -m spacy download en"
   ]
  },
  {
   "cell_type": "code",
   "execution_count": 652,
   "metadata": {},
   "outputs": [
    {
     "data": {
      "text/plain": [
       "'Ashok S'"
      ]
     },
     "execution_count": 652,
     "metadata": {},
     "output_type": "execute_result"
    }
   ],
   "source": [
    "aaa=aa[0]\n",
    "aaa"
   ]
  },
  {
   "cell_type": "code",
   "execution_count": 653,
   "metadata": {},
   "outputs": [
    {
     "data": {
      "text/plain": [
       "'Ashok S'"
      ]
     },
     "execution_count": 653,
     "metadata": {},
     "output_type": "execute_result"
    }
   ],
   "source": [
    "aaa\n",
    "\" \".join(aaa.split(\" \", 2)[:2])"
   ]
  },
  {
   "cell_type": "code",
   "execution_count": 654,
   "metadata": {},
   "outputs": [],
   "source": [
    "def name_split(a):\n",
    "    if a.count(\" \") == 1:\n",
    "        return a.split(\"-\")[0]\n",
    "    else:\n",
    "        return \" \".join(a.split(\" \", 2)[:2])"
   ]
  },
  {
   "cell_type": "code",
   "execution_count": 655,
   "metadata": {},
   "outputs": [
    {
     "data": {
      "text/plain": [
       "'Ashok S'"
      ]
     },
     "execution_count": 655,
     "metadata": {},
     "output_type": "execute_result"
    }
   ],
   "source": [
    "nm=name_split(aaa)\n",
    "nm"
   ]
  },
  {
   "cell_type": "code",
   "execution_count": 656,
   "metadata": {},
   "outputs": [
    {
     "name": "stdout",
     "output_type": "stream",
     "text": [
      "X\n",
      "X\n"
     ]
    }
   ],
   "source": [
    "A1 = {'b1': ['X', '0'], 'b2': ['S', 'T'], 'b3': ['X', 'Y']}\n",
    "\n",
    "item = 'X'\n",
    "\n",
    "for key, value in A1.items():\n",
    "    if item in value:\n",
    "        print(item)"
   ]
  },
  {
   "cell_type": "code",
   "execution_count": 657,
   "metadata": {},
   "outputs": [
    {
     "data": {
      "text/plain": [
       "'Ashok S   7795801335 / 7358565121       ashoksubramaniam91@gmail.com          SUMMARY  ▪   Knowledge in machine learning, data analysis & visualization with hands-on diverse experience   across all major Sectors.    KEY SKILLS   \\uf0b7  Python (Data Visualization, Data Wrangling using Python libraries)   \\uf0b7   SQL, Data Modeling and Data Warehousing.   \\uf0b7  Reporting and BI Tools: Tableau   \\uf0b7   \\uf0b7   Statistics   Time series Forecasting, ARIMA and Data Mining.            \\uf0b7  Machine Learning -Regression, Classification (Logistic Regression, KNN, SVM, Naïve Bayes, Decision   Tree), Clustering (K-Means, Agglomerative), Ensemble Techniques, Text Mining & Sentimental   Analysis     SKILLS SUMMARY   •  Programming languages: Python, Java, Jupiter Notebook.   •  Operating Systems  : Windows   •  Database   : MS-SQL Server 2008 & 2012   •  Virtualization Tools  : Tableau.      •  Machine Learning   : Model Like-Regression, SVM, Random Forest, KNN, K-Neighbors, PCA.   •  Data Modelling techniques: Pre-processing, Data Modelling using NumPy, Pandas, SciPy     PROFESSIONAL SUMMARY (Tata Consultancy Services Pvt Ltd Jan 2015 – Dec 2018)                                                       Data Analyst (Nov 2018 – Dec 2019):   \\uf0b7  Extracting data from SQL, Data Crawling from Web sites using Beautiful Soap   \\uf0b7  Experienced with working on statistical models in Excel   \\uf0b7  Built  Predictive  Models  /  Data  Science  Models,  familiar  with  data  analysis,  data  sampling,  data   classification & data visualization techniques, mathematical models and algorithms.      Automation & Manual Tester (Jan 2015 – Oct 2017):   \\uf0b7   ISTQB foundation level certified tester.   \\uf0b7  Managed a team of 3 as part of regression testing.   \\uf0b7  Have good understanding of test design, identification of automation test scenarios, scoping of   functional requirements, test execution and defect analysis/reporting, report testing.   \\x0c\\uf0b7  Have been fully involved in developing scripts to automate functional test scenarios in Regression   Test Suite.   \\uf0b7  Have been involved in Defect Life Cycle, Analysis and reporting, SQL.   \\uf0b7  Have used HP Quality Centre and JIRA as Test Management Tool.   \\uf0b7  Expertise in UAT testing, and client interaction   \\uf0b7  On the spot award for best associate.     ACADEMIC PROJECTS    \\uf0b7   IPL Player auction price prediction   Developed a predictive model by using ensemble machine learning models to predict the potential IPL   player price based on the given features.      Key  skills:  Data  Crawling,  Python,  Data  Transformation,  Linear  Regression,  Decision  Tree,  Random   Forest      \\uf0b7   Identifying Diabetes Patients   Created a prediction model to identify diabetic patients by applying PCA for dimension reduction,   followed by ensemble machine learning techniques.                     Key skills: Python, PCA, Logistics Regression, Decision Trees, Random Forest,                  K-Nearest Neighbours, Naive Bayes, Boosting         EDUCATION   Course   Institution   Post Graduate Program in Data  Science & Engineering – Full Time   Great Lakes Institute of Management   Year   2019   Remarks   84%   M.Sc (Software Technology)   Vellore Institute of Technology, Vellore   2014   89.9%    B.Sc (Computer Science, Maths,  Electronics)  12thStd / PUC   10thStd      St. Joseph’s Arts & Science College   2012   65%   Sheshadripuram Independent Pre  University College   2008   61.1%   St. Joseph’s Indian High School   2006   64.80%   \\x0c'"
      ]
     },
     "execution_count": 657,
     "metadata": {},
     "output_type": "execute_result"
    }
   ],
   "source": [
    "a"
   ]
  },
  {
   "cell_type": "code",
   "execution_count": 658,
   "metadata": {},
   "outputs": [],
   "source": [
    "myDict = {'tech': ['machine learning', 'linear regression'], 'b2': ['S', 'T'], 'b3': ['X', 'Y']}\n",
    "item=a\n",
    "\n",
    "for key, value in A1.items():\n",
    "    if item in value:\n",
    "        print(item)"
   ]
  },
  {
   "cell_type": "code",
   "execution_count": 659,
   "metadata": {},
   "outputs": [
    {
     "data": {
      "text/plain": [
       "['Ashok S',\n",
       " 'SUMMARY  ▪',\n",
       " 'Knowledge',\n",
       " 'machine learning',\n",
       " 'data analysis',\n",
       " 'visualization',\n",
       " 'hands-on diverse experience',\n",
       " 'all major Sectors',\n",
       " 'KEY SKILLS',\n",
       " 'Python',\n",
       " 'Data Visualization',\n",
       " 'Python libraries',\n",
       " 'Reporting',\n",
       " 'BI',\n",
       " 'Tableau',\n",
       " 'Statistics   Time series Forecasting',\n",
       " 'ARIMA',\n",
       " 'Data Mining',\n",
       " 'Machine Learning',\n",
       " '-Regression',\n",
       " 'Logistic Regression',\n",
       " 'KNN',\n",
       " 'SVM',\n",
       " 'Naïve Bayes',\n",
       " 'Decision   Tree',\n",
       " 'Programming languages',\n",
       " 'Python',\n",
       " 'Java',\n",
       " 'Jupiter Notebook',\n",
       " 'Operating Systems',\n",
       " 'Windows',\n",
       " 'Database',\n",
       " 'MS-SQL Server',\n",
       " 'Virtualization Tools',\n",
       " 'Tableau',\n",
       " 'Machine Learning',\n",
       " 'Model Like-Regression',\n",
       " 'SVM',\n",
       " 'Random Forest',\n",
       " 'KNN',\n",
       " 'K-Neighbors',\n",
       " 'PCA',\n",
       " 'Data Modelling techniques',\n",
       " 'Data Modelling',\n",
       " 'NumPy',\n",
       " 'Pandas',\n",
       " 'SciPy',\n",
       " 'PROFESSIONAL SUMMARY',\n",
       " 'Tata Consultancy Services Pvt Ltd Jan',\n",
       " 'Dec 2018)                                                       Data Analyst',\n",
       " 'Nov 2018 – Dec',\n",
       " 'Extracting data',\n",
       " 'SQL',\n",
       " 'Web sites',\n",
       " 'statistical models',\n",
       " 'Excel',\n",
       " 'Data',\n",
       " 'data  analysis',\n",
       " 'data',\n",
       " 'sampling',\n",
       " 'data   classification & data visualization techniques',\n",
       " 'mathematical models',\n",
       " 'algorithms',\n",
       " 'Jan',\n",
       " 'Oct',\n",
       " 'a team',\n",
       " 'part',\n",
       " 'regression testing',\n",
       " 'good understanding',\n",
       " 'test design',\n",
       " 'identification',\n",
       " 'automation test scenarios',\n",
       " 'functional requirements',\n",
       " 'test execution',\n",
       " 'analysis/reporting',\n",
       " 'scripts',\n",
       " 'functional test scenarios',\n",
       " 'Regression   Test Suite',\n",
       " 'Defect Life Cycle',\n",
       " 'Analysis',\n",
       " 'reporting',\n",
       " 'SQL',\n",
       " 'HP Quality Centre',\n",
       " 'JIRA',\n",
       " 'Test Management Tool',\n",
       " 'Expertise',\n",
       " 'UAT testing',\n",
       " 'client interaction',\n",
       " 'the spot award',\n",
       " 'best associate',\n",
       " 'ACADEMIC',\n",
       " 'IPL Player auction price prediction',\n",
       " 'a predictive model',\n",
       " 'ensemble machine learning models',\n",
       " 'the potential IPL   player price',\n",
       " 'the given features',\n",
       " 'Key  skills',\n",
       " 'Data',\n",
       " 'Crawling',\n",
       " 'Python',\n",
       " 'Data  Transformation',\n",
       " 'Linear  Regression',\n",
       " 'Decision  Tree',\n",
       " 'Forest      \\uf0b7',\n",
       " 'Identifying Diabetes Patients',\n",
       " 'a prediction model',\n",
       " 'diabetic patients',\n",
       " 'PCA',\n",
       " 'dimension reduction',\n",
       " 'ensemble machine learning techniques',\n",
       " 'Key skills',\n",
       " 'Python',\n",
       " 'PCA',\n",
       " 'Logistics Regression',\n",
       " 'Decision Trees',\n",
       " 'Random Forest',\n",
       " 'K',\n",
       " 'Nearest Neighbours',\n",
       " 'Naive Bayes',\n",
       " 'Boosting',\n",
       " 'EDUCATION',\n",
       " 'Course   Institution   Post Graduate Program',\n",
       " 'Data  Science',\n",
       " 'Engineering',\n",
       " 'Full Time',\n",
       " 'Great Lakes Institute',\n",
       " 'Management',\n",
       " 'Year',\n",
       " 'Remarks',\n",
       " '84%',\n",
       " 'M.Sc (Software Technology)   Vellore Institute',\n",
       " 'Technology',\n",
       " '89.9%',\n",
       " 'Computer Science',\n",
       " 'Maths',\n",
       " 'Electronics',\n",
       " 'PUC',\n",
       " 'St. Joseph',\n",
       " 'Arts',\n",
       " 'Science',\n",
       " 'College',\n",
       " '65%',\n",
       " 'Sheshadripuram Independent Pre  University College   2008   61.1%',\n",
       " 'St. Joseph',\n",
       " 'Indian High School',\n",
       " '64.80%']"
      ]
     },
     "execution_count": 659,
     "metadata": {},
     "output_type": "execute_result"
    }
   ],
   "source": [
    "aa"
   ]
  },
  {
   "cell_type": "code",
   "execution_count": 660,
   "metadata": {},
   "outputs": [],
   "source": [
    "l1=['PCA',\n",
    " 'dimension reduction',\n",
    " 'machine',\n",
    " 'Key Skills',\n",
    " 'Python',\n",
    " 'PCA',\n",
    " 'Logistic Regression',\n",
    " 'Decision Tree',\n",
    " 'Random Forest',\n",
    " 'Naïve Baye',\n",
    " 'Regression testing',\n",
    " 'analysis /  reporting',\n",
    " 'sql',\n",
    " 'statistics',\n",
    " 'EDA',\n",
    " 'Tableau',\n",
    " 'Data cleaning',\n",
    " 'Data Visualization   Data analysis',\n",
    " 'Statistical modeling',\n",
    " 'Machine learning',\n",
    " 'Supervised learning',\n",
    "'Econometrics and Time Series Analysis', \n",
    "    'Design of Experiments', 'Linear Models', 'Large Sample Theory',\n",
    "'Stochastic Process', 'Non-Parametric Methods',\n",
    "'Descision Theory', 'Data Mining', 'Statistical Inference', \n",
    "    'Probability Theory', 'Multivariate Statistical Modelling', 'Biostatistics',\n",
    "'Business Statistics','Machine Learning','Computer Vision',\n",
    "    'MS Excel', 'Power Point', 'Power BI','R','SAS'\n",
    "   \n",
    "   \n",
    "   \n",
    "   \n",
    "   ]\n"
   ]
  },
  {
   "cell_type": "code",
   "execution_count": 661,
   "metadata": {},
   "outputs": [],
   "source": [
    "def common_member(a, b): \n",
    "    c=[]\n",
    "    a_set = set(a) \n",
    "    b_set = set(b) \n",
    "    if (a_set & b_set):\n",
    "        c=a_set & b_set\n",
    "        #print(a_set & b_set) \n",
    "    else: \n",
    "        print(\"No common elements\")\n",
    "    return c"
   ]
  },
  {
   "cell_type": "code",
   "execution_count": 662,
   "metadata": {},
   "outputs": [],
   "source": [
    "cc=common_member(l1,aa)"
   ]
  },
  {
   "cell_type": "code",
   "execution_count": 663,
   "metadata": {},
   "outputs": [
    {
     "data": {
      "text/plain": [
       "['Data Mining',\n",
       " 'Python',\n",
       " 'Logistic Regression',\n",
       " 'Machine Learning',\n",
       " 'Tableau',\n",
       " 'dimension reduction',\n",
       " 'Random Forest',\n",
       " 'PCA']"
      ]
     },
     "execution_count": 663,
     "metadata": {},
     "output_type": "execute_result"
    }
   ],
   "source": [
    "cc=list(cc)\n",
    "cc"
   ]
  },
  {
   "cell_type": "code",
   "execution_count": null,
   "metadata": {},
   "outputs": [],
   "source": []
  },
  {
   "cell_type": "code",
   "execution_count": 664,
   "metadata": {},
   "outputs": [
    {
     "data": {
      "text/html": [
       "<div>\n",
       "<style scoped>\n",
       "    .dataframe tbody tr th:only-of-type {\n",
       "        vertical-align: middle;\n",
       "    }\n",
       "\n",
       "    .dataframe tbody tr th {\n",
       "        vertical-align: top;\n",
       "    }\n",
       "\n",
       "    .dataframe thead th {\n",
       "        text-align: right;\n",
       "    }\n",
       "</style>\n",
       "<table border=\"1\" class=\"dataframe\">\n",
       "  <thead>\n",
       "    <tr style=\"text-align: right;\">\n",
       "      <th></th>\n",
       "      <th>Name</th>\n",
       "      <th>phone</th>\n",
       "      <th>email</th>\n",
       "      <th>Skills</th>\n",
       "    </tr>\n",
       "  </thead>\n",
       "  <tbody>\n",
       "    <tr>\n",
       "      <th>0</th>\n",
       "      <td>Balamurugan Murugesan</td>\n",
       "      <td>9488154007</td>\n",
       "      <td>mbala275@gmail.com</td>\n",
       "      <td>([Data Mining, Python, Logistic Regression, Ma...</td>\n",
       "    </tr>\n",
       "  </tbody>\n",
       "</table>\n",
       "</div>"
      ],
      "text/plain": [
       "                    Name       phone               email  \\\n",
       "0  Balamurugan Murugesan  9488154007  mbala275@gmail.com   \n",
       "\n",
       "                                              Skills  \n",
       "0  ([Data Mining, Python, Logistic Regression, Ma...  "
      ]
     },
     "execution_count": 664,
     "metadata": {},
     "output_type": "execute_result"
    }
   ],
   "source": [
    "data"
   ]
  },
  {
   "cell_type": "code",
   "execution_count": 665,
   "metadata": {},
   "outputs": [],
   "source": [
    "mydict=dict()"
   ]
  },
  {
   "cell_type": "code",
   "execution_count": 666,
   "metadata": {},
   "outputs": [],
   "source": [
    "mydict['skills']=cc"
   ]
  },
  {
   "cell_type": "code",
   "execution_count": 667,
   "metadata": {},
   "outputs": [
    {
     "data": {
      "text/plain": [
       "{'skills': ['Data Mining',\n",
       "  'Python',\n",
       "  'Logistic Regression',\n",
       "  'Machine Learning',\n",
       "  'Tableau',\n",
       "  'dimension reduction',\n",
       "  'Random Forest',\n",
       "  'PCA']}"
      ]
     },
     "execution_count": 667,
     "metadata": {},
     "output_type": "execute_result"
    }
   ],
   "source": [
    "mydict"
   ]
  },
  {
   "cell_type": "code",
   "execution_count": 668,
   "metadata": {},
   "outputs": [],
   "source": [
    "data=pd.DataFrame({'Name':nm,'phone':yy,'email':em,'Skills':mydict.values()})"
   ]
  },
  {
   "cell_type": "code",
   "execution_count": 669,
   "metadata": {},
   "outputs": [
    {
     "data": {
      "text/plain": [
       "dict_values([['Data Mining', 'Python', 'Logistic Regression', 'Machine Learning', 'Tableau', 'dimension reduction', 'Random Forest', 'PCA']])"
      ]
     },
     "execution_count": 669,
     "metadata": {},
     "output_type": "execute_result"
    }
   ],
   "source": [
    "data['Skills'][0]"
   ]
  },
  {
   "cell_type": "code",
   "execution_count": 670,
   "metadata": {},
   "outputs": [
    {
     "data": {
      "text/html": [
       "<div>\n",
       "<style scoped>\n",
       "    .dataframe tbody tr th:only-of-type {\n",
       "        vertical-align: middle;\n",
       "    }\n",
       "\n",
       "    .dataframe tbody tr th {\n",
       "        vertical-align: top;\n",
       "    }\n",
       "\n",
       "    .dataframe thead th {\n",
       "        text-align: right;\n",
       "    }\n",
       "</style>\n",
       "<table border=\"1\" class=\"dataframe\">\n",
       "  <thead>\n",
       "    <tr style=\"text-align: right;\">\n",
       "      <th></th>\n",
       "      <th>Name</th>\n",
       "      <th>phone</th>\n",
       "      <th>email</th>\n",
       "      <th>Skills</th>\n",
       "    </tr>\n",
       "  </thead>\n",
       "  <tbody>\n",
       "    <tr>\n",
       "      <th>0</th>\n",
       "      <td>Ashok S</td>\n",
       "      <td>7795801335</td>\n",
       "      <td>ashoksubramaniam91@gmail.com</td>\n",
       "      <td>([Data Mining, Python, Logistic Regression, Ma...</td>\n",
       "    </tr>\n",
       "  </tbody>\n",
       "</table>\n",
       "</div>"
      ],
      "text/plain": [
       "      Name       phone                         email  \\\n",
       "0  Ashok S  7795801335  ashoksubramaniam91@gmail.com   \n",
       "\n",
       "                                              Skills  \n",
       "0  ([Data Mining, Python, Logistic Regression, Ma...  "
      ]
     },
     "execution_count": 670,
     "metadata": {},
     "output_type": "execute_result"
    }
   ],
   "source": [
    "data"
   ]
  },
  {
   "cell_type": "code",
   "execution_count": null,
   "metadata": {},
   "outputs": [],
   "source": []
  }
 ],
 "metadata": {
  "kernelspec": {
   "display_name": "Python 3",
   "language": "python",
   "name": "python3"
  },
  "language_info": {
   "codemirror_mode": {
    "name": "ipython",
    "version": 3
   },
   "file_extension": ".py",
   "mimetype": "text/x-python",
   "name": "python",
   "nbconvert_exporter": "python",
   "pygments_lexer": "ipython3",
   "version": "3.7.1"
  }
 },
 "nbformat": 4,
 "nbformat_minor": 2
}
